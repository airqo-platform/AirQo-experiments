{
 "cells": [
  {
   "cell_type": "code",
   "execution_count": 1,
   "metadata": {},
   "outputs": [],
   "source": [
    "import numpy as np\n",
    "import pandas as pd\n",
    "from datetime import timedelta\n",
    "import warnings\n",
    "warnings.filterwarnings('ignore')\n",
    "import sys\n",
    "sys.path.append('..')\n",
    "from scripts.utils import cross_validation, preprocessing\n",
    "import matplotlib.pyplot as plt\n",
    "%matplotlib inline"
   ]
  },
  {
   "cell_type": "code",
   "execution_count": 2,
   "metadata": {},
   "outputs": [],
   "source": [
    "ids = ['aq_54', 'aq_76', 'aq_94','aq_g507','aq_g508','aq_g509', 'aq_g512', 'aq_91', 'ANQ16PZJ', 'ALS2LCWY', \n",
    "       'AB6051M4', 'AW66FF7V', 'A743BPWK']"
   ]
  },
  {
   "cell_type": "code",
   "execution_count": 3,
   "metadata": {},
   "outputs": [
    {
     "data": {
      "text/html": [
       "<div>\n",
       "<style scoped>\n",
       "    .dataframe tbody tr th:only-of-type {\n",
       "        vertical-align: middle;\n",
       "    }\n",
       "\n",
       "    .dataframe tbody tr th {\n",
       "        vertical-align: top;\n",
       "    }\n",
       "\n",
       "    .dataframe thead th {\n",
       "        text-align: right;\n",
       "    }\n",
       "</style>\n",
       "<table border=\"1\" class=\"dataframe\">\n",
       "  <thead>\n",
       "    <tr style=\"text-align: right;\">\n",
       "      <th></th>\n",
       "      <th>time</th>\n",
       "      <th>latitude</th>\n",
       "      <th>longitude</th>\n",
       "      <th>pm2_5</th>\n",
       "    </tr>\n",
       "  </thead>\n",
       "  <tbody>\n",
       "    <tr>\n",
       "      <th>0</th>\n",
       "      <td>2021-06-22 12:50:09+00:00</td>\n",
       "      <td>0.3564</td>\n",
       "      <td>32.573</td>\n",
       "      <td>16.62</td>\n",
       "    </tr>\n",
       "    <tr>\n",
       "      <th>1</th>\n",
       "      <td>2021-06-22 12:44:38+00:00</td>\n",
       "      <td>0.3564</td>\n",
       "      <td>32.573</td>\n",
       "      <td>23.10</td>\n",
       "    </tr>\n",
       "    <tr>\n",
       "      <th>2</th>\n",
       "      <td>2021-06-22 12:40:36+00:00</td>\n",
       "      <td>0.3564</td>\n",
       "      <td>32.573</td>\n",
       "      <td>18.48</td>\n",
       "    </tr>\n",
       "    <tr>\n",
       "      <th>3</th>\n",
       "      <td>2021-06-22 12:35:09+00:00</td>\n",
       "      <td>0.3564</td>\n",
       "      <td>32.573</td>\n",
       "      <td>15.77</td>\n",
       "    </tr>\n",
       "    <tr>\n",
       "      <th>4</th>\n",
       "      <td>2021-06-22 12:30:57+00:00</td>\n",
       "      <td>0.3564</td>\n",
       "      <td>32.573</td>\n",
       "      <td>29.62</td>\n",
       "    </tr>\n",
       "  </tbody>\n",
       "</table>\n",
       "</div>"
      ],
      "text/plain": [
       "                       time  latitude  longitude  pm2_5\n",
       "0 2021-06-22 12:50:09+00:00    0.3564     32.573  16.62\n",
       "1 2021-06-22 12:44:38+00:00    0.3564     32.573  23.10\n",
       "2 2021-06-22 12:40:36+00:00    0.3564     32.573  18.48\n",
       "3 2021-06-22 12:35:09+00:00    0.3564     32.573  15.77\n",
       "4 2021-06-22 12:30:57+00:00    0.3564     32.573  29.62"
      ]
     },
     "execution_count": 3,
     "metadata": {},
     "output_type": "execute_result"
    }
   ],
   "source": [
    "filename = '../data/final_data.csv'\n",
    "data = pd.read_csv(filename, parse_dates=['time'], usecols =['time', 'latitude', 'longitude', 'pm2_5'])\n",
    "data.head()"
   ]
  },
  {
   "cell_type": "code",
   "execution_count": 4,
   "metadata": {},
   "outputs": [],
   "source": [
    "f = lambda time: pd.Timestamp.fromtimestamp(time*3600)\n",
    "f2 = np.vectorize(f)"
   ]
  },
  {
   "cell_type": "code",
   "execution_count": 5,
   "metadata": {},
   "outputs": [],
   "source": [
    "latitudes = data['latitude'].unique()\n",
    "longitudes = data['longitude'].unique()"
   ]
  },
  {
   "cell_type": "code",
   "execution_count": 6,
   "metadata": {},
   "outputs": [
    {
     "data": {
      "text/html": [
       "<div>\n",
       "<style scoped>\n",
       "    .dataframe tbody tr th:only-of-type {\n",
       "        vertical-align: middle;\n",
       "    }\n",
       "\n",
       "    .dataframe tbody tr th {\n",
       "        vertical-align: top;\n",
       "    }\n",
       "\n",
       "    .dataframe thead th {\n",
       "        text-align: right;\n",
       "    }\n",
       "</style>\n",
       "<table border=\"1\" class=\"dataframe\">\n",
       "  <thead>\n",
       "    <tr style=\"text-align: right;\">\n",
       "      <th></th>\n",
       "      <th>time</th>\n",
       "      <th>latitude</th>\n",
       "      <th>longitude</th>\n",
       "      <th>pm2_5</th>\n",
       "      <th>day</th>\n",
       "      <th>day_of_week</th>\n",
       "      <th>hour</th>\n",
       "    </tr>\n",
       "  </thead>\n",
       "  <tbody>\n",
       "    <tr>\n",
       "      <th>0</th>\n",
       "      <td>451032.0</td>\n",
       "      <td>0.3564</td>\n",
       "      <td>32.573</td>\n",
       "      <td>37.131250</td>\n",
       "      <td>15.0</td>\n",
       "      <td>1.0</td>\n",
       "      <td>0.0</td>\n",
       "    </tr>\n",
       "    <tr>\n",
       "      <th>1</th>\n",
       "      <td>451033.0</td>\n",
       "      <td>0.3564</td>\n",
       "      <td>32.573</td>\n",
       "      <td>57.322727</td>\n",
       "      <td>15.0</td>\n",
       "      <td>1.0</td>\n",
       "      <td>1.0</td>\n",
       "    </tr>\n",
       "    <tr>\n",
       "      <th>2</th>\n",
       "      <td>451034.0</td>\n",
       "      <td>0.3564</td>\n",
       "      <td>32.573</td>\n",
       "      <td>51.066364</td>\n",
       "      <td>15.0</td>\n",
       "      <td>1.0</td>\n",
       "      <td>2.0</td>\n",
       "    </tr>\n",
       "    <tr>\n",
       "      <th>3</th>\n",
       "      <td>451035.0</td>\n",
       "      <td>0.3564</td>\n",
       "      <td>32.573</td>\n",
       "      <td>77.211111</td>\n",
       "      <td>15.0</td>\n",
       "      <td>1.0</td>\n",
       "      <td>3.0</td>\n",
       "    </tr>\n",
       "    <tr>\n",
       "      <th>4</th>\n",
       "      <td>451036.0</td>\n",
       "      <td>0.3564</td>\n",
       "      <td>32.573</td>\n",
       "      <td>54.320000</td>\n",
       "      <td>15.0</td>\n",
       "      <td>1.0</td>\n",
       "      <td>4.0</td>\n",
       "    </tr>\n",
       "  </tbody>\n",
       "</table>\n",
       "</div>"
      ],
      "text/plain": [
       "       time  latitude  longitude      pm2_5   day  day_of_week  hour\n",
       "0  451032.0    0.3564     32.573  37.131250  15.0          1.0   0.0\n",
       "1  451033.0    0.3564     32.573  57.322727  15.0          1.0   1.0\n",
       "2  451034.0    0.3564     32.573  51.066364  15.0          1.0   2.0\n",
       "3  451035.0    0.3564     32.573  77.211111  15.0          1.0   3.0\n",
       "4  451036.0    0.3564     32.573  54.320000  15.0          1.0   4.0"
      ]
     },
     "execution_count": 6,
     "metadata": {},
     "output_type": "execute_result"
    }
   ],
   "source": [
    "final_df = pd.DataFrame()\n",
    "start = pd.Timestamp('2021-06-15 00:00:00', tz='UTC')\n",
    "end = pd.Timestamp('2021-06-21 23:59:59', tz='UTC')\n",
    "for i, latitude in enumerate(latitudes):\n",
    "    df = data[data['latitude'] == latitude]\n",
    "    longitude = longitudes[i]\n",
    "    processed_df = preprocessing(df, latitude, longitude, start, end)\n",
    "    final_df = pd.concat([final_df, processed_df])\n",
    "final_df.reset_index(drop=True, inplace=True)\n",
    "final_df.head()"
   ]
  },
  {
   "cell_type": "code",
   "execution_count": 7,
   "metadata": {},
   "outputs": [
    {
     "data": {
      "text/html": [
       "<div>\n",
       "<style scoped>\n",
       "    .dataframe tbody tr th:only-of-type {\n",
       "        vertical-align: middle;\n",
       "    }\n",
       "\n",
       "    .dataframe tbody tr th {\n",
       "        vertical-align: top;\n",
       "    }\n",
       "\n",
       "    .dataframe thead th {\n",
       "        text-align: right;\n",
       "    }\n",
       "</style>\n",
       "<table border=\"1\" class=\"dataframe\">\n",
       "  <thead>\n",
       "    <tr style=\"text-align: right;\">\n",
       "      <th></th>\n",
       "      <th>longitude</th>\n",
       "      <th>latitude</th>\n",
       "      <th>day</th>\n",
       "      <th>day_of_week</th>\n",
       "      <th>hour</th>\n",
       "      <th>time</th>\n",
       "    </tr>\n",
       "  </thead>\n",
       "  <tbody>\n",
       "    <tr>\n",
       "      <th>0</th>\n",
       "      <td>32.573</td>\n",
       "      <td>0.3564</td>\n",
       "      <td>15.0</td>\n",
       "      <td>1.0</td>\n",
       "      <td>0.0</td>\n",
       "      <td>451032.0</td>\n",
       "    </tr>\n",
       "    <tr>\n",
       "      <th>1</th>\n",
       "      <td>32.573</td>\n",
       "      <td>0.3564</td>\n",
       "      <td>15.0</td>\n",
       "      <td>1.0</td>\n",
       "      <td>1.0</td>\n",
       "      <td>451033.0</td>\n",
       "    </tr>\n",
       "    <tr>\n",
       "      <th>2</th>\n",
       "      <td>32.573</td>\n",
       "      <td>0.3564</td>\n",
       "      <td>15.0</td>\n",
       "      <td>1.0</td>\n",
       "      <td>2.0</td>\n",
       "      <td>451034.0</td>\n",
       "    </tr>\n",
       "    <tr>\n",
       "      <th>3</th>\n",
       "      <td>32.573</td>\n",
       "      <td>0.3564</td>\n",
       "      <td>15.0</td>\n",
       "      <td>1.0</td>\n",
       "      <td>3.0</td>\n",
       "      <td>451035.0</td>\n",
       "    </tr>\n",
       "    <tr>\n",
       "      <th>4</th>\n",
       "      <td>32.573</td>\n",
       "      <td>0.3564</td>\n",
       "      <td>15.0</td>\n",
       "      <td>1.0</td>\n",
       "      <td>4.0</td>\n",
       "      <td>451036.0</td>\n",
       "    </tr>\n",
       "  </tbody>\n",
       "</table>\n",
       "</div>"
      ],
      "text/plain": [
       "   longitude  latitude   day  day_of_week  hour      time\n",
       "0     32.573    0.3564  15.0          1.0   0.0  451032.0\n",
       "1     32.573    0.3564  15.0          1.0   1.0  451033.0\n",
       "2     32.573    0.3564  15.0          1.0   2.0  451034.0\n",
       "3     32.573    0.3564  15.0          1.0   3.0  451035.0\n",
       "4     32.573    0.3564  15.0          1.0   4.0  451036.0"
      ]
     },
     "execution_count": 7,
     "metadata": {},
     "output_type": "execute_result"
    }
   ],
   "source": [
    "X = final_df[['longitude', 'latitude', 'day', 'day_of_week', 'hour', 'time']]\n",
    "Y = final_df[['pm2_5']]\n",
    "X.head()"
   ]
  },
  {
   "cell_type": "code",
   "execution_count": 8,
   "metadata": {},
   "outputs": [
    {
     "data": {
      "text/html": [
       "<div>\n",
       "<style scoped>\n",
       "    .dataframe tbody tr th:only-of-type {\n",
       "        vertical-align: middle;\n",
       "    }\n",
       "\n",
       "    .dataframe tbody tr th {\n",
       "        vertical-align: top;\n",
       "    }\n",
       "\n",
       "    .dataframe thead th {\n",
       "        text-align: right;\n",
       "    }\n",
       "</style>\n",
       "<table border=\"1\" class=\"dataframe\">\n",
       "  <thead>\n",
       "    <tr style=\"text-align: right;\">\n",
       "      <th></th>\n",
       "      <th>longitude</th>\n",
       "      <th>latitude</th>\n",
       "      <th>day</th>\n",
       "      <th>day_of_week</th>\n",
       "      <th>hour</th>\n",
       "      <th>time</th>\n",
       "    </tr>\n",
       "  </thead>\n",
       "  <tbody>\n",
       "    <tr>\n",
       "      <th>count</th>\n",
       "      <td>1743.000000</td>\n",
       "      <td>1743.000000</td>\n",
       "      <td>1743.000000</td>\n",
       "      <td>1743.000000</td>\n",
       "      <td>1743.000000</td>\n",
       "      <td>1743.000000</td>\n",
       "    </tr>\n",
       "    <tr>\n",
       "      <th>mean</th>\n",
       "      <td>32.571065</td>\n",
       "      <td>0.356968</td>\n",
       "      <td>18.041308</td>\n",
       "      <td>2.985083</td>\n",
       "      <td>11.471601</td>\n",
       "      <td>451116.462995</td>\n",
       "    </tr>\n",
       "    <tr>\n",
       "      <th>std</th>\n",
       "      <td>0.009634</td>\n",
       "      <td>0.016858</td>\n",
       "      <td>2.016725</td>\n",
       "      <td>2.023628</td>\n",
       "      <td>6.557454</td>\n",
       "      <td>49.001859</td>\n",
       "    </tr>\n",
       "    <tr>\n",
       "      <th>min</th>\n",
       "      <td>32.553714</td>\n",
       "      <td>0.331732</td>\n",
       "      <td>15.000000</td>\n",
       "      <td>0.000000</td>\n",
       "      <td>0.000000</td>\n",
       "      <td>451032.000000</td>\n",
       "    </tr>\n",
       "    <tr>\n",
       "      <th>25%</th>\n",
       "      <td>32.562228</td>\n",
       "      <td>0.349565</td>\n",
       "      <td>16.000000</td>\n",
       "      <td>1.000000</td>\n",
       "      <td>6.000000</td>\n",
       "      <td>451073.000000</td>\n",
       "    </tr>\n",
       "    <tr>\n",
       "      <th>50%</th>\n",
       "      <td>32.573000</td>\n",
       "      <td>0.356400</td>\n",
       "      <td>18.000000</td>\n",
       "      <td>3.000000</td>\n",
       "      <td>11.000000</td>\n",
       "      <td>451116.000000</td>\n",
       "    </tr>\n",
       "    <tr>\n",
       "      <th>75%</th>\n",
       "      <td>32.581617</td>\n",
       "      <td>0.359292</td>\n",
       "      <td>20.000000</td>\n",
       "      <td>5.000000</td>\n",
       "      <td>17.000000</td>\n",
       "      <td>451160.000000</td>\n",
       "    </tr>\n",
       "    <tr>\n",
       "      <th>max</th>\n",
       "      <td>32.584900</td>\n",
       "      <td>0.390741</td>\n",
       "      <td>21.000000</td>\n",
       "      <td>6.000000</td>\n",
       "      <td>23.000000</td>\n",
       "      <td>451199.000000</td>\n",
       "    </tr>\n",
       "  </tbody>\n",
       "</table>\n",
       "</div>"
      ],
      "text/plain": [
       "         longitude     latitude          day  day_of_week         hour  \\\n",
       "count  1743.000000  1743.000000  1743.000000  1743.000000  1743.000000   \n",
       "mean     32.571065     0.356968    18.041308     2.985083    11.471601   \n",
       "std       0.009634     0.016858     2.016725     2.023628     6.557454   \n",
       "min      32.553714     0.331732    15.000000     0.000000     0.000000   \n",
       "25%      32.562228     0.349565    16.000000     1.000000     6.000000   \n",
       "50%      32.573000     0.356400    18.000000     3.000000    11.000000   \n",
       "75%      32.581617     0.359292    20.000000     5.000000    17.000000   \n",
       "max      32.584900     0.390741    21.000000     6.000000    23.000000   \n",
       "\n",
       "                time  \n",
       "count    1743.000000  \n",
       "mean   451116.462995  \n",
       "std        49.001859  \n",
       "min    451032.000000  \n",
       "25%    451073.000000  \n",
       "50%    451116.000000  \n",
       "75%    451160.000000  \n",
       "max    451199.000000  "
      ]
     },
     "execution_count": 8,
     "metadata": {},
     "output_type": "execute_result"
    }
   ],
   "source": [
    "X.describe()"
   ]
  },
  {
   "cell_type": "code",
   "execution_count": 9,
   "metadata": {},
   "outputs": [
    {
     "data": {
      "text/plain": [
       "array([3.25730e+01, 3.56400e-01, 1.50000e+01, 1.00000e+00, 0.00000e+00,\n",
       "       4.51032e+05])"
      ]
     },
     "execution_count": 9,
     "metadata": {},
     "output_type": "execute_result"
    }
   ],
   "source": [
    "X = np.asarray(X)\n",
    "Y = np.asarray(Y)\n",
    "X[0, :]"
   ]
  },
  {
   "cell_type": "code",
   "execution_count": 10,
   "metadata": {},
   "outputs": [
    {
     "data": {
      "text/plain": [
       "0"
      ]
     },
     "execution_count": 10,
     "metadata": {},
     "output_type": "execute_result"
    }
   ],
   "source": [
    "np.count_nonzero(np.isnan(X))"
   ]
  },
  {
   "cell_type": "code",
   "execution_count": 11,
   "metadata": {},
   "outputs": [
    {
     "data": {
      "text/plain": [
       "(12, 12)"
      ]
     },
     "execution_count": 11,
     "metadata": {},
     "output_type": "execute_result"
    }
   ],
   "source": [
    "longs = [X[:,0][index] for index in sorted(np.unique(X[:,0], return_index=True)[1])]\n",
    "lats = [X[:,1][index] for index in sorted(np.unique(X[:,1], return_index=True)[1])]\n",
    "len(longs), len(lats)"
   ]
  },
  {
   "cell_type": "code",
   "execution_count": 13,
   "metadata": {},
   "outputs": [
    {
     "name": "stdout",
     "output_type": "stream",
     "text": [
      "aq_54 successful\n",
      "aq_76 successful\n",
      "aq_94 successful\n",
      "aq_g507 successful\n",
      "aq_g508 successful\n",
      "aq_g509 successful\n",
      "aq_g512 successful\n",
      "aq_91 successful\n",
      "ANQ16PZJ successful\n",
      "ALS2LCWY successful\n",
      "AB6051M4 successful\n",
      "AW66FF7V successful\n"
     ]
    }
   ],
   "source": [
    "rmse_list =[]\n",
    "for i in range(len(longs)):\n",
    "    try:\n",
    "        mean, var, Xtest, Ytest, rmse = cross_validation(X, Y, longs[i], lats[i])\n",
    "        print(f'{ids[i]} successful')\n",
    "        rmse_list.append(rmse)\n",
    "\n",
    "        plt.figure(figsize=(12,6))\n",
    "        plt.title(f'{ids[i]}, rmse:{rmse}')\n",
    "        plt.xlim(f2(Xtest[:,5]).min()-timedelta(hours=1), f2(Xtest[:,5]).max()+timedelta(hours=1))\n",
    "        plt.ylim(0,250)\n",
    "        plt.plot(f2(Xtest[:, 5]), Ytest, label='Actual')\n",
    "        plt.plot(f2(Xtest[:, 5]), mean, label='Predicted')\n",
    "        plt.fill_between(f2(Xtest[:, 5]),\n",
    "                         mean[:,0]-1.96*np.sqrt(var[:, 0]),\n",
    "                         mean[:,0]+1.96*np.sqrt(var[:, 0]),\n",
    "                         color=\"C0\",\n",
    "                         alpha=0.2)\n",
    "        plt.legend(loc='best')\n",
    "        plt.savefig(f'../plots/basic/{ids[i]}.png') \n",
    "        plt.close()\n",
    "    except Exception as e:\n",
    "        print(f'{ids[i]} failed')\n",
    "        print(e)"
   ]
  },
  {
   "cell_type": "code",
   "execution_count": 14,
   "metadata": {},
   "outputs": [
    {
     "name": "stdout",
     "output_type": "stream",
     "text": [
      "Mean RMSE: 24.095, Minimum RMSE: 9.24, Maximum RMSE: 66.11\n"
     ]
    }
   ],
   "source": [
    "print(f'Mean RMSE: {np.mean(rmse_list)}, Minimum RMSE: {np.min(rmse_list)}, Maximum RMSE: {np.max(rmse_list)}')"
   ]
  },
  {
   "cell_type": "code",
   "execution_count": 15,
   "metadata": {},
   "outputs": [
    {
     "data": {
      "text/plain": [
       "[23.5,\n",
       " 14.54,\n",
       " 23.19,\n",
       " 11.53,\n",
       " 9.24,\n",
       " 53.11,\n",
       " 22.9,\n",
       " 66.11,\n",
       " 15.27,\n",
       " 15.15,\n",
       " 14.63,\n",
       " 19.97]"
      ]
     },
     "execution_count": 15,
     "metadata": {},
     "output_type": "execute_result"
    }
   ],
   "source": [
    "rmse_list"
   ]
  }
 ],
 "metadata": {
  "kernelspec": {
   "display_name": "Python 3",
   "language": "python",
   "name": "python3"
  },
  "language_info": {
   "codemirror_mode": {
    "name": "ipython",
    "version": 3
   },
   "file_extension": ".py",
   "mimetype": "text/x-python",
   "name": "python",
   "nbconvert_exporter": "python",
   "pygments_lexer": "ipython3",
   "version": "3.7.4"
  }
 },
 "nbformat": 4,
 "nbformat_minor": 4
}