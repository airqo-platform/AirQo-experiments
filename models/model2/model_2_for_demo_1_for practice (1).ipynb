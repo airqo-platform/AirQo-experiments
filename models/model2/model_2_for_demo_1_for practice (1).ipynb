{
 "cells": [
  {
   "cell_type": "markdown",
   "metadata": {},
   "source": [
    "# Description of what the model currently does\n",
    "\n",
    "\n",
    "## Model training\n",
    "Takes data for each channel and resamples into hourly data\n",
    "Interpolates to fill the gaps - using linear interpolation\n",
    "Deletes any nans at the start of the rows\n",
    "Ensures the dataset contains only full days ie day 1 starts at 0.00 and day n finishes at 2300\n",
    "Generates a list of all channels\n",
    "If chosen prints out ACF and APAXF plots for each (would be good to have this as data rather than just a plot so we can use it)\n",
    "\n",
    "Dataset split into final test (24 hour out of sample test set), 7 day/168 hour validation set and all that comes before training set\n",
    "\n",
    "For each channel 'flatten' the training set into a series of 24 X no of days known as 'history'\n",
    "create a config list - in this case it is made up of the different combinations in sarima configs ie order,sorder and trend\n",
    "\n",
    "Using the sarmia params function generate a list of all configurations to be attempted\n",
    "\n",
    "Run a grid search using the model, the train and test data and the configuration\n",
    "\n",
    "Run through the Score model function. This tries the evaluate_model using each configuration of sarima config to generate a result. If there are any errors it ignores but if value is generated it restates the model and its score for that channel\n",
    "\n",
    "Evaluate model function this takes history which is equal to the training set ie a number of lists each 24 hours in length. It then flattens the array to create a long list equal to history. Then for each of the 7 days in the test set it trains the model on the history data and the current configuration and generates a prediction of 24 hours. THis is added to the predctions list. Finally day i is added to history and included in the data that is used to train day i+1. This continues through each of the 7 days. At the end of each day a set of 24 scores is compared with the actual value for the next day. These are listed as SCORES.\n",
    "\n",
    "Teh evaluate model then takes the two 7 X 74 arrays ie actual and prediction and calculates the mse/rmse of the whole by taking the root of the mean squared difference between the two. THis gives SCORE\n",
    "\n",
    "Finally sort the configurations and scores in order with lowest at the top, print the first five. \n",
    "Best config is the top ie the configuration with the lowest score over the test array\n",
    "This is the model to be used.\n",
    "\n",
    "## Forecasting\n",
    "\n",
    "THis would be updated hourly\n",
    "\n",
    "THis takes in use inputs of date and device (in the future this will be gps driven)\n",
    "The channel selects the best configuration which has been set for the week in the model above\n",
    "\n",
    "The sarima model then runs on the historical data and using the best model to generate a 24 hour prediction\n",
    "The model at this stage also includes a 95% confidence interval limits."
   ]
  },
  {
   "cell_type": "code",
   "execution_count": 70,
   "metadata": {},
   "outputs": [],
   "source": [
    "import pandas as pd\n",
    "import numpy as np\n",
    "import matplotlib.pyplot as plt\n",
    "%matplotlib inline\n",
    "import seaborn as sns\n",
    "\n",
    "from math import sqrt\n",
    "from numpy import split\n",
    "from numpy import array\n",
    "from pandas import read_csv\n",
    "from sklearn.metrics import mean_squared_error\n",
    "\n",
    "from multiprocessing import cpu_count\n",
    "from joblib import Parallel\n",
    "from joblib import delayed\n",
    "from warnings import catch_warnings\n",
    "from warnings import filterwarnings\n",
    "from statsmodels.tsa.statespace.sarimax import SARIMAX\n",
    "\n",
    "from statsmodels.graphics.tsaplots import plot_acf\n",
    "from statsmodels.graphics.tsaplots import plot_pacf\n",
    "\n",
    "import datetime\n",
    "import time \n",
    "\n",
    "import psutil\n",
    "import ast"
   ]
  },
  {
   "cell_type": "code",
   "execution_count": null,
   "metadata": {},
   "outputs": [],
   "source": []
  },
  {
   "cell_type": "code",
   "execution_count": 71,
   "metadata": {},
   "outputs": [],
   "source": [
    "sns.set_style(\"white\", {'axes.grid' : False})\n",
    "sns.set_palette(\"tab20\", 16)\n",
    "sns.set(font=\"Calibri\")\n",
    "sns.set_context('talk')"
   ]
  },
  {
   "cell_type": "markdown",
   "metadata": {},
   "source": [
    " List of available channels:\n",
    "        \n",
    "Channel:  aq_04\n",
    "Channel:  aq_05\n",
    "Channel:  aq_06\n",
    "Channel:  aq_07\n",
    "Channel:  aq_08\n",
    "Channel:  aq_09\n",
    "Channel:  aq_10\n",
    "Channel:  aq_11\n",
    "Channel:  aq_13\n",
    "Channel:  aq_14\n",
    "Channel:  aq_15\n",
    "Channel:  aq_16\n",
    "Channel:  aq_17\n",
    "Channel:  aq_18\n",
    "Channel:  aq_20\n",
    "Channel:  aq_21\n",
    "Channel:  aq_22\n",
    "Channel:  aq_23\n",
    "Channel:  aq_24\n",
    "Channel:  aq_25\n",
    "Channel:  aq_26\n",
    "Channel:  aq_27\n",
    "Channel:  aq_29\n",
    "Channel:  aq_30\n",
    "Channel:  aq_31\n",
    "Channel:  aq_32\n",
    "Channel:  aq_33\n",
    "Channel:  aq_34\n",
    "Channel:  aq_35\n",
    "Channel:  aq_36\n",
    "Channel:  aq_39\n",
    "Channel:  aq_40\n",
    "Channel:  aq_41\n",
    "Channel:  aq_43\n",
    "Channel:  aq_44\n",
    "Channel:  aq_45\n",
    "Channel:  aq_46\n",
    "Channel:  aq_47\n",
    "Channel:  aq_48\n",
    "Channel:  aq_49"
   ]
  },
  {
   "cell_type": "markdown",
   "metadata": {},
   "source": [
    "# Running the  model for each dataset"
   ]
  },
  {
   "cell_type": "markdown",
   "metadata": {},
   "source": [
    "# FUNCTIONS"
   ]
  },
  {
   "cell_type": "code",
   "execution_count": 72,
   "metadata": {},
   "outputs": [],
   "source": [
    "hourly_data = pd.read_csv('hourly_data_AUG_19.csv', parse_dates=['time'])"
   ]
  },
  {
   "cell_type": "code",
   "execution_count": 73,
   "metadata": {},
   "outputs": [
    {
     "data": {
      "text/html": [
       "<div>\n",
       "<style scoped>\n",
       "    .dataframe tbody tr th:only-of-type {\n",
       "        vertical-align: middle;\n",
       "    }\n",
       "\n",
       "    .dataframe tbody tr th {\n",
       "        vertical-align: top;\n",
       "    }\n",
       "\n",
       "    .dataframe thead th {\n",
       "        text-align: right;\n",
       "    }\n",
       "</style>\n",
       "<table border=\"1\" class=\"dataframe\">\n",
       "  <thead>\n",
       "    <tr style=\"text-align: right;\">\n",
       "      <th></th>\n",
       "      <th>channel</th>\n",
       "      <th>time</th>\n",
       "      <th>pm_2_5</th>\n",
       "    </tr>\n",
       "  </thead>\n",
       "  <tbody>\n",
       "    <tr>\n",
       "      <td>0</td>\n",
       "      <td>aq_04</td>\n",
       "      <td>2019-01-12 14:00:00+03:00</td>\n",
       "      <td>24.143333</td>\n",
       "    </tr>\n",
       "    <tr>\n",
       "      <td>1</td>\n",
       "      <td>aq_04</td>\n",
       "      <td>2019-01-12 15:00:00+03:00</td>\n",
       "      <td>21.483333</td>\n",
       "    </tr>\n",
       "    <tr>\n",
       "      <td>2</td>\n",
       "      <td>aq_04</td>\n",
       "      <td>2019-01-12 16:00:00+03:00</td>\n",
       "      <td>NaN</td>\n",
       "    </tr>\n",
       "    <tr>\n",
       "      <td>3</td>\n",
       "      <td>aq_04</td>\n",
       "      <td>2019-01-12 17:00:00+03:00</td>\n",
       "      <td>NaN</td>\n",
       "    </tr>\n",
       "    <tr>\n",
       "      <td>4</td>\n",
       "      <td>aq_04</td>\n",
       "      <td>2019-01-12 18:00:00+03:00</td>\n",
       "      <td>NaN</td>\n",
       "    </tr>\n",
       "    <tr>\n",
       "      <td>...</td>\n",
       "      <td>...</td>\n",
       "      <td>...</td>\n",
       "      <td>...</td>\n",
       "    </tr>\n",
       "    <tr>\n",
       "      <td>165775</td>\n",
       "      <td>aq_49</td>\n",
       "      <td>2019-09-02 13:00:00+03:00</td>\n",
       "      <td>22.874000</td>\n",
       "    </tr>\n",
       "    <tr>\n",
       "      <td>165776</td>\n",
       "      <td>aq_49</td>\n",
       "      <td>2019-09-02 14:00:00+03:00</td>\n",
       "      <td>19.804444</td>\n",
       "    </tr>\n",
       "    <tr>\n",
       "      <td>165777</td>\n",
       "      <td>aq_49</td>\n",
       "      <td>2019-09-02 15:00:00+03:00</td>\n",
       "      <td>29.308222</td>\n",
       "    </tr>\n",
       "    <tr>\n",
       "      <td>165778</td>\n",
       "      <td>aq_49</td>\n",
       "      <td>2019-09-02 16:00:00+03:00</td>\n",
       "      <td>21.411429</td>\n",
       "    </tr>\n",
       "    <tr>\n",
       "      <td>165779</td>\n",
       "      <td>aq_49</td>\n",
       "      <td>2019-09-02 17:00:00+03:00</td>\n",
       "      <td>28.231429</td>\n",
       "    </tr>\n",
       "  </tbody>\n",
       "</table>\n",
       "<p>165780 rows × 3 columns</p>\n",
       "</div>"
      ],
      "text/plain": [
       "       channel                      time     pm_2_5\n",
       "0        aq_04 2019-01-12 14:00:00+03:00  24.143333\n",
       "1        aq_04 2019-01-12 15:00:00+03:00  21.483333\n",
       "2        aq_04 2019-01-12 16:00:00+03:00        NaN\n",
       "3        aq_04 2019-01-12 17:00:00+03:00        NaN\n",
       "4        aq_04 2019-01-12 18:00:00+03:00        NaN\n",
       "...        ...                       ...        ...\n",
       "165775   aq_49 2019-09-02 13:00:00+03:00  22.874000\n",
       "165776   aq_49 2019-09-02 14:00:00+03:00  19.804444\n",
       "165777   aq_49 2019-09-02 15:00:00+03:00  29.308222\n",
       "165778   aq_49 2019-09-02 16:00:00+03:00  21.411429\n",
       "165779   aq_49 2019-09-02 17:00:00+03:00  28.231429\n",
       "\n",
       "[165780 rows x 3 columns]"
      ]
     },
     "execution_count": 73,
     "metadata": {},
     "output_type": "execute_result"
    }
   ],
   "source": [
    "hourly_data"
   ]
  },
  {
   "cell_type": "code",
   "execution_count": 74,
   "metadata": {},
   "outputs": [],
   "source": [
    "def full_days_only(d):\n",
    "    ###  Interpolating gaps within the data and presenting in necessary format ####\n",
    "    d = d.set_index('time')\n",
    "    d = d.interpolate(method='time');\n",
    "#     print(d)\n",
    "    # drop any remaining nans from the start\n",
    "    d =  d.dropna().reset_index();\n",
    "    # Setting first complete day and last complete day to assist with training quality\n",
    "    first_full_day = pd.to_datetime(d.loc[d.time.dt.hour == 0.00, 'time'][:1].values[0], utc=True)\n",
    "    last_full_day = pd.to_datetime(d.loc[d.time.dt.hour == 23.00, 'time'][-1:].values[0], utc=True)  \n",
    "    # THen correct Kampala values are applied\n",
    "    d_whole_days = d.loc[(d.time >= first_full_day) & (d.time <= last_full_day)]\n",
    "    d_whole_days = d_whole_days.set_index('time')\n",
    "#     print(d_whole_days)\n",
    "    return d_whole_days"
   ]
  },
  {
   "cell_type": "code",
   "execution_count": 75,
   "metadata": {},
   "outputs": [],
   "source": [
    "# THis should be unecessary but every time i take it out it causes issues\n",
    "def out_of_sample(d, oos_size):\n",
    "    df = d.iloc[:-oos_size, 1]\n",
    "    oos = d.iloc[-oos_size:, 1]\n",
    "    return df, oos"
   ]
  },
  {
   "cell_type": "code",
   "execution_count": 76,
   "metadata": {},
   "outputs": [],
   "source": [
    "# Creating a list of channels to iterate through\n",
    "chanlist = hourly_data.channel.unique().tolist()"
   ]
  },
  {
   "cell_type": "code",
   "execution_count": 77,
   "metadata": {},
   "outputs": [],
   "source": [
    "def plot_acf_pcf(df, lags):\n",
    "    # plots specifying number of lags to includ\n",
    "    plt.figure(figsize=(20,6))\n",
    "    # acf\n",
    "    axis = plt.subplot(2, 1, 1)\n",
    "    plot_acf(df, ax=axis, lags=lags)\n",
    "    # pacf\n",
    "    axis = plt.subplot(2, 1, 2)\n",
    "    plot_pacf(df, ax=axis, lags=lags)\n",
    "    # show plot\n",
    "#     print(chan)\n",
    "    plt.show()"
   ]
  },
  {
   "cell_type": "code",
   "execution_count": 78,
   "metadata": {},
   "outputs": [],
   "source": [
    "for chan in chanlist:\n",
    "    d = hourly_data.loc[hourly_data.channel == chan, ['time','pm_2_5']]\n",
    "#     print(d)\n",
    "    df = full_days_only(d)\n",
    "#     print('Channel: ', chan)\n",
    "    # USE THIS IF WANT TO GENERATE AUTOCORRELATION GRAPHS\n",
    "#     plot_acf_pcf(df, 24)"
   ]
  },
  {
   "cell_type": "markdown",
   "metadata": {},
   "source": [
    "# Preparing data for forecast model"
   ]
  },
  {
   "cell_type": "code",
   "execution_count": 79,
   "metadata": {},
   "outputs": [],
   "source": [
    "# split a univariate dataset into train/test sets\n",
    "def split_dataset(data):\n",
    "    # split into standard weeks with 1 week validation and 1 day oos test\n",
    "    train, test = data[0:-192], data[-192:-24]\n",
    "    final_test = data[-24:]\n",
    "    # restructure into windows of weekly data\n",
    "    train = array(split(train, (len(train)/24)))\n",
    "    test = array(split(test, (len(test)/24)))\n",
    "#     print(train, test, final_test)\n",
    "    return train, test, final_test"
   ]
  },
  {
   "cell_type": "code",
   "execution_count": 80,
   "metadata": {},
   "outputs": [],
   "source": [
    "# convert windows of weekly multivariate data into a series of total power\n",
    "def to_series(data):\n",
    "    # extract just the total power from each week\n",
    "    series = [day for day in data]\n",
    "    # flatten into a single series\n",
    "    series = array(series).flatten()\n",
    "#     print('series.shape: ', series.shape)\n",
    "    return series"
   ]
  },
  {
   "cell_type": "code",
   "execution_count": 81,
   "metadata": {},
   "outputs": [],
   "source": [
    "# sarima forecast\n",
    "# Takes the history (train set plus day by day testing) and configuration\n",
    "# converts history values to a single long series\n",
    "# generates the sarima model based on config parameters\n",
    "# fits the sarima model to the series data\n",
    "# creates yhat, a prediction of the next 24 hours int he test set\n",
    "def sarima_forecast(history, config):\n",
    "    order, sorder, trend = config\n",
    "    # convert history into a univariate series\n",
    "    series = to_series(history)\n",
    "    # define model\n",
    "    model = SARIMAX(series, order=order, seasonal_order=sorder, trend = trend,enforce_stationarity=False, enforce_invertibility=False)\n",
    "#     model = SARIMAX(history, order=order, seasonal_order=sorder, trend=trend, enforce_stationarity=False, enforce_invertibility=False)\n",
    "    # fit model\n",
    "    model_fit = model.fit(disp=False)\n",
    "    # make one step forecast\n",
    "    yhat = model_fit.predict(len(series), len(series)+23)\n",
    "    return yhat"
   ]
  },
  {
   "cell_type": "code",
   "execution_count": 82,
   "metadata": {},
   "outputs": [],
   "source": [
    "# evaluate a single model which creates a prediction for ech day and each hour\n",
    "# This is then fed into the evaluate forecast function to generate overall scores for the model\n",
    "# for the model\n",
    "# This needs to happen for every incarnation of the model\n",
    "def evaluate_model(model_func, train, test, config):\n",
    "    # history is a list of weekly data\n",
    "    history = [x for x in train]\n",
    "    # walk-forward validation over each week\n",
    "    predictions = list()\n",
    "    for i in range(len(test)):\n",
    "        # predict the week\n",
    "\n",
    "        yhat_sequence = model_func(history, config)\n",
    "        # store the predictions\n",
    "        predictions.append(yhat_sequence)\n",
    "        # get real observation and add to history for predicting the next week\n",
    "        history.append(test[i, :])\n",
    "    predictions = array(predictions)\n",
    "    # evaluate predictions days for each week\n",
    "    score, scores = evaluate_forecasts(test, predictions)\n",
    "    return score, scores"
   ]
  },
  {
   "cell_type": "code",
   "execution_count": 83,
   "metadata": {},
   "outputs": [],
   "source": [
    "def evaluate_forecasts(actual, predicted):\n",
    "#     print('actual.shape : ', actual.shape)\n",
    "#     print('predicted.shape', predicted.shape)\n",
    "    scores = list()\n",
    "    # calculate an RMSE score for each day\n",
    "    for i in range(actual.shape[1]):\n",
    "        # calculate mse\n",
    "        print('i', i)\n",
    "        mse = mean_squared_error(actual[:, i], predicted[:, i])\n",
    "        print('mse', mse)\n",
    "        # calculate rmse\n",
    "        rmse = sqrt(mse)\n",
    "        print('rmse', rmse)\n",
    "        # store\n",
    "        scores.append(rmse)\n",
    "    s = 0\n",
    "    for row in range(actual.shape[0]):\n",
    "        for col in range(actual.shape[1]):\n",
    "            s += (actual[row, col] - predicted[row, col])**2\n",
    "    score = sqrt(s / (actual.shape[0] * actual.shape[1]))\n",
    "#     return score, scores\n",
    "#     print('score, scores: ', score, scores)\n",
    "\n",
    "    return score, scores"
   ]
  },
  {
   "cell_type": "code",
   "execution_count": 84,
   "metadata": {},
   "outputs": [],
   "source": [
    "# summarize scores\n",
    "#Takes the name, model score and list of hourley mean scores\n",
    "#print\n",
    "def summarize_scores(name, score, scores):\n",
    "    s_scores = ', '.join(['%.1f' % s for s in scores])\n",
    "    print('%s: [%.3f]' % (name, score))"
   ]
  },
  {
   "cell_type": "code",
   "execution_count": 85,
   "metadata": {},
   "outputs": [],
   "source": [
    "# create a set of sarima configs to try\n",
    "def sarima_configs():\n",
    "    models = list()\n",
    "    # define config lists\n",
    "#     p_params = [0,1,2]\n",
    "    p_params = [2]\n",
    "    d_params = [0]\n",
    "#     q_params = [0,1,2]        \n",
    "    q_params = [24]\n",
    "#     t_params = ['n','c','t','ct']\n",
    "    t_params = ['c']\n",
    "    P_params = [1]\n",
    "    D_params = [0]\n",
    "    Q_params = [1]\n",
    "    m_params = [24]\n",
    "    # create config instances\n",
    "    for p in p_params:\n",
    "        for d in d_params:\n",
    "            for q in q_params:\n",
    "                for t in t_params:\n",
    "                    for P in P_params:\n",
    "                        for D in D_params:\n",
    "                            for Q in Q_params:\n",
    "                                for m in m_params:\n",
    "                                    cfg = [(p,d,q), (P,D,Q,m), t]\n",
    "                                    models.append(cfg)\n",
    "    return models"
   ]
  },
  {
   "cell_type": "code",
   "execution_count": 86,
   "metadata": {},
   "outputs": [],
   "source": [
    "# root mean squared error or rmse\n",
    "def measure_rmse(actual, predicted):\n",
    "    return sqrt(mean_squared_error(actual, predicted))"
   ]
  },
  {
   "cell_type": "code",
   "execution_count": 87,
   "metadata": {},
   "outputs": [],
   "source": [
    "# grid search configs\n",
    "# Using train, test data and the list of configurations\n",
    "# working in parallel\n",
    "\n",
    "\n",
    "# def grid_search(data, cfg_list, n_test, parallel=True):\n",
    "def grid_search(model_func, train, test, cfg_list, parallel=True):\n",
    "    scores = None\n",
    "    if parallel:\n",
    "        # execute configs in parallel\n",
    "        executor = Parallel(n_jobs=cpu_count(), backend='multiprocessing', verbose=1)\n",
    "#         executor = Parallel(n_jobs=psutil.cpu_count(), verbose=1)\n",
    "        tasks = (delayed(score_model)(model_func,train, test, cfg) for cfg in cfg_list)\n",
    "        scores = executor(tasks)\n",
    "#         print('scores2', scores)\n",
    "    else:\n",
    "        scores = [score_model(model_func,train, test, cfg) for cfg in cfg_list]\n",
    "#         print('scores1', scores)\n",
    "    # remove empty results\n",
    "#     print('scores', scores)\n",
    "    scores = [r for r in scores if r[1] != None]\n",
    "    # sort configs by error, asc\n",
    "    scores.sort(key=lambda tup: tup[1])\n",
    "    return scores"
   ]
  },
  {
   "cell_type": "code",
   "execution_count": 88,
   "metadata": {},
   "outputs": [],
   "source": [
    "# score a model, return None on failure\n",
    "\n",
    "def score_model(model_func,train, test, cfg, debug=False):\n",
    "#     print('score_model')\n",
    "    result = None\n",
    "    # convert config to a key\n",
    "    key = str(cfg)\n",
    "    # show all warnings and fail on exception if debugging\n",
    "    if debug:\n",
    "#         result = walk_forward_validation(data, n_test, cfg)\n",
    "        result = evaluate_model(model_func,train, test, cfg)[0]\n",
    "#         print('DEBUG')\n",
    "    else:\n",
    "        # one failure during model validation suggests an unstable config\n",
    "        try:\n",
    "            # never show warnings when grid searching, too noisy\n",
    "            with catch_warnings():\n",
    "                filterwarnings(\"ignore\")\n",
    "                result = evaluate_model(model_func,train, test, cfg)[0]\n",
    "#                 print('RESULT')\n",
    "        except:\n",
    "            error = None\n",
    "    # check for an interesting result\n",
    "    if result is not None:\n",
    "        print(' > Model[%s] %.3f' % (key, result))\n",
    "    return (key, result)"
   ]
  },
  {
   "cell_type": "code",
   "execution_count": 89,
   "metadata": {
    "scrolled": true
   },
   "outputs": [],
   "source": [
    "def train_channels_in_range_inclusive(a, b):\n",
    "# Generating a dataframe for each channel\n",
    "    best_config_dict = {}\n",
    "#     for chan in chanlist[lower_limit:(upper_limit+1)]:\n",
    "    for chan in chanlist[a:b]:\n",
    "    #     # selecting only rows relating to the given channel\n",
    "        d = hourly_data.loc[hourly_data.channel == chan]\n",
    "    #    # removing partial days at start and end of sample\n",
    "        df = full_days_only(d)\n",
    "        # set size of out of sample test data\n",
    "        oos_size = 24\n",
    "        df, oos = out_of_sample(df, oos_size)\n",
    "        # Generating train and test\n",
    "        train, test, final_test = split_dataset(df)[0:3]\n",
    "    \n",
    "        # define the names and functions for the models we wish to evaluate\n",
    "        models = dict()\n",
    "        models['sarima'] = sarima_forecast\n",
    "\n",
    "        print('channel', chan)\n",
    "        # model configs\n",
    "        n_test = 24\n",
    "        cfg_list = sarima_configs()\n",
    "        # print(cfg_list)\n",
    "        # grid search\n",
    "    #     count=0\n",
    "        scores = grid_search(sarima_forecast, train, test, cfg_list)\n",
    "#     print('channel: '+str(chan) +' done')\n",
    "        # list top 3 configs\n",
    "        for cfg, error in scores[:5]:\n",
    "            print(cfg, error)\n",
    "    #     print('SCORES',scores)    \n",
    "        # best_config = scores[:1]\n",
    "        best_config = ast.literal_eval(scores[:1][0][0])\n",
    "        print('best config', best_config)\n",
    "        ## For calculating out of sample score\n",
    "#         best_oos_yhat = sarima_forecast(df, best_config)\n",
    "#         oos_rmse = measure_rmse(final_test, best_oos_yhat)\n",
    "#         print('Out of sample rmse: ', oos_rmse)\n",
    "        # Add best config to the current best_config_dict\n",
    "        best_config_dict[chan] = best_config\n",
    "        print(best_config_dict)\n",
    "        return best_config, best_config_dict"
   ]
  },
  {
   "cell_type": "code",
   "execution_count": 90,
   "metadata": {},
   "outputs": [],
   "source": [
    "# # Generating a dataframe for each channel\n",
    "# for chan in chanlist[21:24]:\n",
    "# #     # selecting only rows relating to the given channel\n",
    "# #     d = data_grp_hourly.loc[data_grp_hourly.channel == chan]\n",
    "#         # selecting only rows relating to the given channel\n",
    "#     d = hourly_data.loc[hourly_data.channel == chan]\n",
    "# #     print(d)\n",
    "# #    # removing partial days at start and end of sample\n",
    "# #     df = df.reset_index()\n",
    "#     df = full_days_only(d)\n",
    "# #     print('df', df)\n",
    "\n",
    "#     # set size of out of sample test data\n",
    "#     oos_size = 24\n",
    "#     df, oos = out_of_sample(df, oos_size)\n",
    "#     # Generating train and test\n",
    "#     train, test, final_test = split_dataset(df)[0:3]\n",
    "\n",
    "\n",
    "#     #Checking the size of the train and test sets\n",
    "# #     print('train shape: ', train.shape)\n",
    "# #     print('test shape: ', test.shape)\n",
    "# #     print('final test shape',final_test.shape)\n",
    "    \n",
    "#     # define the names and functions for the models we wish to evaluate\n",
    "#     models = dict()\n",
    "#     models['sarima'] = sarima_forecast\n",
    "\n",
    "#     # name each hour to be aggregated\n",
    "# #     hours = ['0', '1', '2', '3', '4', '5', '6', '7', '8','9','10', '11', '12', '13', '14', '15', '16', '17', '18', '19', '20', '21', '22', '23']\n",
    "#     print('channel', chan)\n",
    "#     # data split\n",
    "#     n_test = 24\n",
    "#     # model configs\n",
    "#     cfg_list = sarima_configs()\n",
    "# #     print(cfg_list)\n",
    "#     # grid search\n",
    "# #     count=0\n",
    "#     scores = grid_search(sarima_forecast, train, test, cfg_list)\n",
    "# #     print('channel: '+str(chan) +' done')\n",
    "#     # list top 3 configs\n",
    "#     for cfg, error in scores[:5]:\n",
    "#         print(cfg, error)\n",
    "#     # print('SCORES',scores)    \n",
    "#     # best_config = scores[:1]\n",
    "#     best_config = ast.literal_eval(scores[:1][0][0])\n",
    "# #     print('best config', best_config)\n",
    "# #     best_oos_yhat = sarima_forecast(df, best_config)\n",
    "# #     oos_rmse = measure_rmse(final_test, best_oos_yhat)\n",
    "# #     print('Out of sample rmse: ', oos_rmse)"
   ]
  },
  {
   "cell_type": "code",
   "execution_count": 91,
   "metadata": {},
   "outputs": [
    {
     "name": "stdout",
     "output_type": "stream",
     "text": [
      "channel aq_04\n"
     ]
    },
    {
     "name": "stderr",
     "output_type": "stream",
     "text": [
      "[Parallel(n_jobs=64)]: Using backend MultiprocessingBackend with 64 concurrent workers.\n"
     ]
    },
    {
     "name": "stdout",
     "output_type": "stream",
     "text": [
      "i 0\n",
      "mse 49.30182812109195\n",
      "rmse 7.021526053579232\n",
      "i 1\n",
      "mse 61.5520653882548\n",
      "rmse 7.845512436307446\n",
      "i 2\n",
      "mse 66.69005282364749\n",
      "rmse 8.16639778749771\n",
      "i 3\n",
      "mse 84.97644509376498\n",
      "rmse 9.218266924632037\n",
      "i 4\n",
      "mse 88.50996574365873\n",
      "rmse 9.407973519502418\n",
      "i 5\n",
      "mse 93.75622136795658\n",
      "rmse 9.682779630248568\n",
      "i 6\n",
      "mse 108.69353899270581\n",
      "rmse 10.425619357750685\n",
      "i 7\n",
      "mse 133.33458385779252\n",
      "rmse 11.547059532963036\n",
      "i 8\n",
      "mse 164.2765734367841\n",
      "rmse 12.817042304556232\n",
      "i 9\n",
      "mse 204.47584820248298\n",
      "rmse 14.299505173343691\n",
      "i 10\n",
      "mse 297.36838606161695\n",
      "rmse 17.24437259112714\n",
      "i 11\n",
      "mse 359.2100164024293\n",
      "rmse 18.952836632083052\n",
      "i 12\n",
      "mse 517.680070422229\n",
      "rmse 22.752583818595834\n",
      "i 13\n",
      "mse 562.1873733490851\n",
      "rmse 23.710490786761145\n",
      "i 14\n",
      "mse 366.43266593446185\n",
      "rmse 19.142431035123565\n",
      "i 15\n",
      "mse 544.6716430204025\n",
      "rmse 23.338201366437872\n",
      "i 16\n",
      "mse 590.13376765049\n",
      "rmse 24.292669010433784\n",
      "i 17\n",
      "mse 404.18241322776396\n",
      "rmse 20.10428842878464\n",
      "i 18\n",
      "mse 1036.423892267247\n",
      "rmse 32.19353805140477\n",
      "i 19\n",
      "mse 3570.9242780893273\n",
      "rmse 59.75721109698249\n",
      "i 20\n",
      "mse 2609.4922999692835\n",
      "rmse 51.083189994060504\n",
      "i 21\n",
      "mse 1160.1244443499686\n",
      "rmse 34.06059958882064\n",
      "i 22\n",
      "mse 1345.0869407439025\n",
      "rmse 36.67542693335556\n",
      "i 23\n",
      "mse 991.2752626448594\n",
      "rmse 31.484524176885053\n",
      " > Model[[(2, 0, 24), (1, 0, 1, 24), 'c']] 25.340\n",
      "[(2, 0, 24), (1, 0, 1, 24), 'c'] 25.33998863552199\n",
      "best config [(2, 0, 24), (1, 0, 1, 24), 'c']\n"
     ]
    },
    {
     "name": "stderr",
     "output_type": "stream",
     "text": [
      "[Parallel(n_jobs=64)]: Done   1 out of   1 | elapsed: 53.1min finished\n"
     ]
    },
    {
     "data": {
      "text/plain": [
       "[(2, 0, 24), (1, 0, 1, 24), 'c']"
      ]
     },
     "execution_count": 91,
     "metadata": {},
     "output_type": "execute_result"
    }
   ],
   "source": [
    "train_channels_in_range_inclusive(0,2)"
   ]
  },
  {
   "cell_type": "code",
   "execution_count": 92,
   "metadata": {},
   "outputs": [
    {
     "data": {
      "text/plain": [
       "{'aq_22': [(2, 0, 24), (1, 0, 1, 24), 'c'],\n",
       " 'aq_23': [(2, 0, 24), (0, 0, 1, 24), 'c'],\n",
       " 'aq_24': [(5, 0, 24), (0, 0, 0, 24), 'c']}"
      ]
     },
     "execution_count": 92,
     "metadata": {},
     "output_type": "execute_result"
    }
   ],
   "source": [
    "best_config_dict"
   ]
  },
  {
   "cell_type": "markdown",
   "metadata": {},
   "source": [
    "# Forecasting"
   ]
  },
  {
   "cell_type": "code",
   "execution_count": 33,
   "metadata": {},
   "outputs": [],
   "source": [
    "best_config_dict = {'aq_22': [(2, 0, 24), (1, 0, 1, 24), 'c'] , 'aq_23': [(2, 0, 24), (0, 0, 1, 24), 'c'], 'aq_24': [(5, 0, 24), (0, 0, 0, 24), 'c'] }"
   ]
  },
  {
   "cell_type": "code",
   "execution_count": 5,
   "metadata": {},
   "outputs": [
    {
     "name": "stdin",
     "output_type": "stream",
     "text": [
      "Enter a valid date and time (yyyy/mm/dd/hh)    2019/07/08/07\n"
     ]
    }
   ],
   "source": [
    "enter_time = input(\"Enter a valid date and time (yyyy/mm/dd/hh)   \")"
   ]
  },
  {
   "cell_type": "code",
   "execution_count": 53,
   "metadata": {},
   "outputs": [
    {
     "name": "stdin",
     "output_type": "stream",
     "text": [
      "Enter a valid channel name:  aq_24\n"
     ]
    }
   ],
   "source": [
    "enter_chan = input(\"Enter a valid channel name: \")"
   ]
  },
  {
   "cell_type": "code",
   "execution_count": 54,
   "metadata": {},
   "outputs": [
    {
     "name": "stdout",
     "output_type": "stream",
     "text": [
      "[(5, 0, 24), (0, 0, 0, 24), 'c']\n"
     ]
    }
   ],
   "source": [
    "current_best_config = best_config_dict.get(str(enter_chan))\n",
    "print(current_best_config)"
   ]
  },
  {
   "cell_type": "code",
   "execution_count": 55,
   "metadata": {},
   "outputs": [
    {
     "name": "stdout",
     "output_type": "stream",
     "text": [
      "2019-07-08 07:00:00\n"
     ]
    }
   ],
   "source": [
    "# Wrnagling the user input date formats to get a datetime\n",
    "enter_time_split = enter_time.split(\"/\")\n",
    "enter_time_tuple = tuple([int(i) for i in enter_time_split])\n",
    "endings = (0,0,0,0,0,)\n",
    "start_time = (enter_time_tuple + endings)\n",
    "start_pred_time = datetime.datetime.fromtimestamp(time.mktime(start_time))\n",
    "print(start_pred_time)"
   ]
  },
  {
   "cell_type": "code",
   "execution_count": 56,
   "metadata": {},
   "outputs": [],
   "source": [
    "# interpolating, removing nans and dropping columns\n",
    "def fill_gaps_and_set_datetime(d):\n",
    "    # Interpolating gaps within the data\n",
    "    d = d.set_index('time')\n",
    "    d = d.drop('channel', axis=1)\n",
    "    d_cleaned = d.interpolate(method='time');\n",
    "    return d_cleaned"
   ]
  },
  {
   "cell_type": "code",
   "execution_count": 57,
   "metadata": {},
   "outputs": [],
   "source": [
    "# sarima forecast\n",
    "# Takes the history (train set plus day by day testing) and configuration\n",
    "# converts history values to a single long series\n",
    "# generates the sarima model based on config parameters\n",
    "# fits the sarima model to the series data\n",
    "# creates yhat, a prediction of the next 24 hours int he test set\n",
    "def sarima_forecast(history, config):\n",
    "    order, sorder, trend = config\n",
    "    # convert history into a univariate series\n",
    "    series = to_series(history)\n",
    "    # define model\n",
    "    model = SARIMAX(series, order=order, seasonal_order=sorder, trend = trend,enforce_stationarity=False, enforce_invertibility=False)\n",
    "#     model = SARIMAX(history, order=order, seasonal_order=sorder, trend=trend, enforce_stationarity=False, enforce_invertibility=False)\n",
    "    # fit model\n",
    "    model_fit = model.fit(disp=False)\n",
    "    # make one step forecast using predict method\n",
    "#     yhat = model_fit.predict(len(series), len(series)+23)\n",
    "    # This does th same thing but using forecast which has slightly different features\n",
    "    fcst = model_fit.get_forecast(24)\n",
    "    # Generating list of mean forecasts\n",
    "    yhat = fcst.predicted_mean\n",
    "    # Generating confidence intervals\n",
    "    yhat_ci = fcst.conf_int()\n",
    "    return yhat, yhat_ci"
   ]
  },
  {
   "cell_type": "code",
   "execution_count": 58,
   "metadata": {},
   "outputs": [],
   "source": [
    "# convert windows of weekly multivariate data into a series of total power\n",
    "def to_series(data):\n",
    "    # extract just the total power from each week\n",
    "    series = [day for day in data]\n",
    "    # flatten into a single series\n",
    "    series = array(series).flatten()\n",
    "#     print('series.shape: ', series.shape)\n",
    "    return series"
   ]
  },
  {
   "cell_type": "code",
   "execution_count": 59,
   "metadata": {},
   "outputs": [],
   "source": [
    "def new_forecast(enter_chan, enter_time):\n",
    "\n",
    "    current_best_config = best_config_dict.get(str(enter_chan))\n",
    "    # converting the start prediction time to datetime\n",
    "    start_pred = (pd.to_datetime(start_pred_time))\n",
    "\n",
    "    # select all data relating to a particular channel\n",
    "    all_channel_data = hourly_data.loc[hourly_data.channel == enter_chan]\n",
    "\n",
    "    # clean the channel data, fill gaps and set datetime as index\n",
    "    all_channel_data_clean = fill_gaps_and_set_datetime(all_channel_data)\n",
    "\n",
    "    # set start time as being 8 weeks before start of forecast\n",
    "    # THis will need to be changed to max number of whole days\n",
    "\n",
    "    ####TODO #######\n",
    "    start_base_time = str(start_pred - datetime.timedelta(84)) +'+3:00'\n",
    "    start_pred = str(start_pred) +'+3:00'\n",
    "    print((start_base_time))\n",
    "    print((start_pred))\n",
    "    # select final range of data to be used in forecast\n",
    "    data_to_use = all_channel_data_clean.loc[start_base_time:(start_pred)].values\n",
    "\n",
    "    yhat, yhat_ci = sarima_forecast(data_to_use, current_best_config)\n",
    "\n",
    "    return start_pred, yhat, yhat_ci"
   ]
  },
  {
   "cell_type": "code",
   "execution_count": 60,
   "metadata": {},
   "outputs": [
    {
     "name": "stdout",
     "output_type": "stream",
     "text": [
      "2019-04-15 07:00:00+3:00\n",
      "2019-07-08 07:00:00+3:00\n"
     ]
    },
    {
     "name": "stderr",
     "output_type": "stream",
     "text": [
      "/home/jupyter/.local/lib/python3.5/site-packages/statsmodels/base/model.py:512: ConvergenceWarning: Maximum Likelihood optimization failed to converge. Check mle_retvals\n",
      "  \"Check mle_retvals\", ConvergenceWarning)\n"
     ]
    }
   ],
   "source": [
    "start_pred, yhat, yhat_ci = new_forecast(enter_chan, enter_time)"
   ]
  },
  {
   "cell_type": "code",
   "execution_count": 61,
   "metadata": {},
   "outputs": [
    {
     "data": {
      "text/plain": [
       "array([73.8036935 , 62.79889693, 53.61454609, 45.59073745, 38.39856156,\n",
       "       34.69679838, 31.4991545 , 31.90920154, 34.28567136, 34.10740482,\n",
       "       35.82106677, 41.69327337, 46.28875853, 47.32628035, 46.08810145,\n",
       "       45.60361595, 47.32874082, 49.30787672, 51.84079022, 55.03844973,\n",
       "       59.28518738, 62.13723576, 62.74524275, 62.13472892])"
      ]
     },
     "execution_count": 61,
     "metadata": {},
     "output_type": "execute_result"
    }
   ],
   "source": [
    "yhat"
   ]
  },
  {
   "cell_type": "code",
   "execution_count": 62,
   "metadata": {},
   "outputs": [
    {
     "data": {
      "text/html": [
       "<div>\n",
       "<style scoped>\n",
       "    .dataframe tbody tr th:only-of-type {\n",
       "        vertical-align: middle;\n",
       "    }\n",
       "\n",
       "    .dataframe tbody tr th {\n",
       "        vertical-align: top;\n",
       "    }\n",
       "\n",
       "    .dataframe thead th {\n",
       "        text-align: right;\n",
       "    }\n",
       "</style>\n",
       "<table border=\"1\" class=\"dataframe\">\n",
       "  <thead>\n",
       "    <tr style=\"text-align: right;\">\n",
       "      <th></th>\n",
       "      <th>yhat</th>\n",
       "      <th>yhat_lower_ci</th>\n",
       "      <th>yhat_upper_ci</th>\n",
       "      <th>pred_hours</th>\n",
       "    </tr>\n",
       "  </thead>\n",
       "  <tbody>\n",
       "    <tr>\n",
       "      <td>0</td>\n",
       "      <td>73.803694</td>\n",
       "      <td>59.134602</td>\n",
       "      <td>88.472785</td>\n",
       "      <td>8</td>\n",
       "    </tr>\n",
       "    <tr>\n",
       "      <td>1</td>\n",
       "      <td>62.798897</td>\n",
       "      <td>44.455676</td>\n",
       "      <td>81.142118</td>\n",
       "      <td>9</td>\n",
       "    </tr>\n",
       "    <tr>\n",
       "      <td>2</td>\n",
       "      <td>53.614546</td>\n",
       "      <td>33.438928</td>\n",
       "      <td>73.790165</td>\n",
       "      <td>10</td>\n",
       "    </tr>\n",
       "    <tr>\n",
       "      <td>3</td>\n",
       "      <td>45.590737</td>\n",
       "      <td>24.274221</td>\n",
       "      <td>66.907254</td>\n",
       "      <td>11</td>\n",
       "    </tr>\n",
       "    <tr>\n",
       "      <td>4</td>\n",
       "      <td>38.398562</td>\n",
       "      <td>16.432129</td>\n",
       "      <td>60.364994</td>\n",
       "      <td>12</td>\n",
       "    </tr>\n",
       "    <tr>\n",
       "      <td>5</td>\n",
       "      <td>34.696798</td>\n",
       "      <td>12.495264</td>\n",
       "      <td>56.898333</td>\n",
       "      <td>13</td>\n",
       "    </tr>\n",
       "    <tr>\n",
       "      <td>6</td>\n",
       "      <td>31.499154</td>\n",
       "      <td>9.206031</td>\n",
       "      <td>53.792278</td>\n",
       "      <td>14</td>\n",
       "    </tr>\n",
       "    <tr>\n",
       "      <td>7</td>\n",
       "      <td>31.909202</td>\n",
       "      <td>9.614751</td>\n",
       "      <td>54.203652</td>\n",
       "      <td>15</td>\n",
       "    </tr>\n",
       "    <tr>\n",
       "      <td>8</td>\n",
       "      <td>34.285671</td>\n",
       "      <td>11.984435</td>\n",
       "      <td>56.586908</td>\n",
       "      <td>16</td>\n",
       "    </tr>\n",
       "    <tr>\n",
       "      <td>9</td>\n",
       "      <td>34.107405</td>\n",
       "      <td>11.805421</td>\n",
       "      <td>56.409388</td>\n",
       "      <td>17</td>\n",
       "    </tr>\n",
       "    <tr>\n",
       "      <td>10</td>\n",
       "      <td>35.821067</td>\n",
       "      <td>13.513592</td>\n",
       "      <td>58.128542</td>\n",
       "      <td>18</td>\n",
       "    </tr>\n",
       "    <tr>\n",
       "      <td>11</td>\n",
       "      <td>41.693273</td>\n",
       "      <td>19.385768</td>\n",
       "      <td>64.000779</td>\n",
       "      <td>19</td>\n",
       "    </tr>\n",
       "    <tr>\n",
       "      <td>12</td>\n",
       "      <td>46.288759</td>\n",
       "      <td>23.969940</td>\n",
       "      <td>68.607577</td>\n",
       "      <td>20</td>\n",
       "    </tr>\n",
       "    <tr>\n",
       "      <td>13</td>\n",
       "      <td>47.326280</td>\n",
       "      <td>24.977134</td>\n",
       "      <td>69.675426</td>\n",
       "      <td>21</td>\n",
       "    </tr>\n",
       "    <tr>\n",
       "      <td>14</td>\n",
       "      <td>46.088101</td>\n",
       "      <td>23.727971</td>\n",
       "      <td>68.448232</td>\n",
       "      <td>22</td>\n",
       "    </tr>\n",
       "    <tr>\n",
       "      <td>15</td>\n",
       "      <td>45.603616</td>\n",
       "      <td>23.133149</td>\n",
       "      <td>68.074083</td>\n",
       "      <td>23</td>\n",
       "    </tr>\n",
       "    <tr>\n",
       "      <td>16</td>\n",
       "      <td>47.328741</td>\n",
       "      <td>24.752107</td>\n",
       "      <td>69.905374</td>\n",
       "      <td>0</td>\n",
       "    </tr>\n",
       "    <tr>\n",
       "      <td>17</td>\n",
       "      <td>49.307877</td>\n",
       "      <td>26.683690</td>\n",
       "      <td>71.932063</td>\n",
       "      <td>1</td>\n",
       "    </tr>\n",
       "    <tr>\n",
       "      <td>18</td>\n",
       "      <td>51.840790</td>\n",
       "      <td>29.196822</td>\n",
       "      <td>74.484759</td>\n",
       "      <td>2</td>\n",
       "    </tr>\n",
       "    <tr>\n",
       "      <td>19</td>\n",
       "      <td>55.038450</td>\n",
       "      <td>32.381200</td>\n",
       "      <td>77.695700</td>\n",
       "      <td>3</td>\n",
       "    </tr>\n",
       "    <tr>\n",
       "      <td>20</td>\n",
       "      <td>59.285187</td>\n",
       "      <td>36.609876</td>\n",
       "      <td>81.960499</td>\n",
       "      <td>4</td>\n",
       "    </tr>\n",
       "    <tr>\n",
       "      <td>21</td>\n",
       "      <td>62.137236</td>\n",
       "      <td>39.452946</td>\n",
       "      <td>84.821526</td>\n",
       "      <td>5</td>\n",
       "    </tr>\n",
       "    <tr>\n",
       "      <td>22</td>\n",
       "      <td>62.745243</td>\n",
       "      <td>40.021552</td>\n",
       "      <td>85.468934</td>\n",
       "      <td>6</td>\n",
       "    </tr>\n",
       "    <tr>\n",
       "      <td>23</td>\n",
       "      <td>62.134729</td>\n",
       "      <td>39.318577</td>\n",
       "      <td>84.950881</td>\n",
       "      <td>7</td>\n",
       "    </tr>\n",
       "  </tbody>\n",
       "</table>\n",
       "</div>"
      ],
      "text/plain": [
       "         yhat  yhat_lower_ci  yhat_upper_ci  pred_hours\n",
       "0   73.803694      59.134602      88.472785           8\n",
       "1   62.798897      44.455676      81.142118           9\n",
       "2   53.614546      33.438928      73.790165          10\n",
       "3   45.590737      24.274221      66.907254          11\n",
       "4   38.398562      16.432129      60.364994          12\n",
       "5   34.696798      12.495264      56.898333          13\n",
       "6   31.499154       9.206031      53.792278          14\n",
       "7   31.909202       9.614751      54.203652          15\n",
       "8   34.285671      11.984435      56.586908          16\n",
       "9   34.107405      11.805421      56.409388          17\n",
       "10  35.821067      13.513592      58.128542          18\n",
       "11  41.693273      19.385768      64.000779          19\n",
       "12  46.288759      23.969940      68.607577          20\n",
       "13  47.326280      24.977134      69.675426          21\n",
       "14  46.088101      23.727971      68.448232          22\n",
       "15  45.603616      23.133149      68.074083          23\n",
       "16  47.328741      24.752107      69.905374           0\n",
       "17  49.307877      26.683690      71.932063           1\n",
       "18  51.840790      29.196822      74.484759           2\n",
       "19  55.038450      32.381200      77.695700           3\n",
       "20  59.285187      36.609876      81.960499           4\n",
       "21  62.137236      39.452946      84.821526           5\n",
       "22  62.745243      40.021552      85.468934           6\n",
       "23  62.134729      39.318577      84.950881           7"
      ]
     },
     "execution_count": 62,
     "metadata": {},
     "output_type": "execute_result"
    }
   ],
   "source": [
    "\n",
    "forecast = pd.DataFrame(list(zip(yhat, yhat_ci)))\n",
    "forecast.columns = ['yhat', 'yhat_ci']\n",
    "# Splitting confidence intercals into upper and lower bounds\n",
    "forecast['yhat_lower_ci'] = [pair[0] for pair in forecast.yhat_ci]\n",
    "forecast['yhat_upper_ci']  = [pair[1] for pair in forecast.yhat_ci]\n",
    "# adjusting column names and dropping combinded ci\n",
    "forecast.columns = ['yhat', 'yhat_ci','yhat_lower_ci', 'yhat_upper_ci']\n",
    "forecast = forecast.drop('yhat_ci', axis=1);\n",
    "\n",
    "# Generating dataframe including the actual hours predicted\n",
    "start_pred_hour = pd.to_datetime(start_pred).hour +1\n",
    "pred_hours = [(x + start_pred_hour)%24 for x in np.arange(24)]\n",
    "forecast['pred_hours'] = pred_hours\n",
    "\n",
    "forecast"
   ]
  },
  {
   "cell_type": "code",
   "execution_count": 69,
   "metadata": {},
   "outputs": [
    {
     "name": "stdout",
     "output_type": "stream",
     "text": [
      "[8, 9, 10, 11, 12, 13, 14, 15, 16, 17, 18, 19, 20, 21, 22, 23, 0, 1, 2, 3, 4, 5, 6, 7]\n"
     ]
    },
    {
     "data": {
      "image/png": "[encoded data removed]",
      "text/plain": [
       "<Figure size 1440x288 with 1 Axes>"
      ]
     },
     "metadata": {},
     "output_type": "display_data"
    }
   ],
   "source": [
    "# Plotting forecasts and confidence intervals - why are they fixed?\n",
    "fig, ax = plt.subplots(figsize=(20,4))\n",
    "sns.lineplot(data= forecast.iloc[:, :3])\n",
    "hours_order = list(forecast.pred_hours)\n",
    "print(hours_order)\n",
    "plt.fill_between(forecast.index,forecast.yhat_lower_ci, forecast.yhat_upper_ci, alpha=0.5)\n",
    "plt.xlim(0,23)\n",
    "# ax.set_xticklabels(labels=hours_order)\n",
    "plt.show()"
   ]
  },
  {
   "cell_type": "code",
   "execution_count": null,
   "metadata": {},
   "outputs": [],
   "source": []
  },
  {
   "cell_type": "code",
   "execution_count": null,
   "metadata": {},
   "outputs": [],
   "source": []
  },
  {
   "cell_type": "code",
   "execution_count": null,
   "metadata": {},
   "outputs": [],
   "source": []
  },
  {
   "cell_type": "code",
   "execution_count": null,
   "metadata": {},
   "outputs": [],
   "source": []
  },
  {
   "cell_type": "code",
   "execution_count": 2,
   "metadata": {},
   "outputs": [
    {
     "ename": "NameError",
     "evalue": "name 'all_channel_data_clean' is not defined",
     "output_type": "error",
     "traceback": [
      "\u001b[1;31m---------------------------------------------------------------------------\u001b[0m",
      "\u001b[1;31mNameError\u001b[0m                                 Traceback (most recent call last)",
      "\u001b[1;32m<ipython-input-2-f4871dc389a4>\u001b[0m in \u001b[0;36m<module>\u001b[1;34m\u001b[0m\n\u001b[1;32m----> 1\u001b[1;33m \u001b[0mall_channel_data_clean\u001b[0m\u001b[1;33m\u001b[0m\u001b[1;33m\u001b[0m\u001b[0m\n\u001b[0m",
      "\u001b[1;31mNameError\u001b[0m: name 'all_channel_data_clean' is not defined"
     ]
    }
   ],
   "source": []
  },
  {
   "cell_type": "code",
   "execution_count": 7,
   "metadata": {},
   "outputs": [],
   "source": [
    "ranger = np.arange(24)"
   ]
  },
  {
   "cell_type": "code",
   "execution_count": 9,
   "metadata": {},
   "outputs": [
    {
     "data": {
      "text/plain": [
       "array([2, 3, 4, 5])"
      ]
     },
     "execution_count": 9,
     "metadata": {},
     "output_type": "execute_result"
    }
   ],
   "source": [
    "ranger[2:6]"
   ]
  },
  {
   "cell_type": "code",
   "execution_count": null,
   "metadata": {},
   "outputs": [],
   "source": []
  }
 ],
 "metadata": {
  "kernelspec": {
   "display_name": "Python 3",
   "language": "python",
   "name": "python3"
  },
  "language_info": {
   "codemirror_mode": {
    "name": "ipython",
    "version": 3
   },
   "file_extension": ".py",
   "mimetype": "text/x-python",
   "name": "python",
   "nbconvert_exporter": "python",
   "pygments_lexer": "ipython3",
   "version": "3.5.3"
  }
 },
 "nbformat": 4,
 "nbformat_minor": 4
}
