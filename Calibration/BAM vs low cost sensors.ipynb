{
 "cells": [
  {
   "cell_type": "markdown",
   "metadata": {},
   "source": [
    "## BAM VS. AIRQO\n",
    "\n",
    "### Stationary monitors\n",
    "\n",
    "1.     Hourly comparison\n",
    "\n",
    "2.     Daily  comparison"
   ]
  },
  {
   "cell_type": "code",
   "execution_count": null,
   "metadata": {},
   "outputs": [],
   "source": []
  },
  {
   "cell_type": "markdown",
   "metadata": {},
   "source": [
    "### Importing relevant packages"
   ]
  },
  {
   "cell_type": "code",
   "execution_count": 1,
   "metadata": {},
   "outputs": [],
   "source": [
    "import pandas as pd\n",
    "import numpy as np\n",
    "import matplotlib.pyplot as plt \n",
    "import matplotlib.dates as mdates\n",
    "%matplotlib inline\n",
    "import re\n",
    "import os\n",
    "import datetime\n",
    "from sklearn.linear_model import LinearRegression  \n",
    "import seaborn as seabornInstance \n",
    "from sklearn.model_selection import train_test_split \n",
    "from sklearn import metrics\n",
    "from scipy import stats\n",
    "from scipy.stats import pearsonr\n",
    "import joblib\n",
    "import seaborn as sns \n",
    "from scipy.optimize import curve_fit\n",
    "import uncertainties.unumpy as unp\n",
    "import uncertainties as unc"
   ]
  },
  {
   "cell_type": "markdown",
   "metadata": {},
   "source": [
    "### Changing default colormap - matplotlib"
   ]
  },
  {
   "cell_type": "code",
   "execution_count": 2,
   "metadata": {},
   "outputs": [],
   "source": [
    "# to change default colormap\n",
    "plt.rcParams[\"image.cmap\"] = \"Set1\"\n",
    "# to change default color cycle\n",
    "plt.rcParams['axes.prop_cycle'] = plt.cycler(color=plt.cm.Set1.colors)"
   ]
  },
  {
   "cell_type": "markdown",
   "metadata": {},
   "source": [
    "### display data frame info"
   ]
  },
  {
   "cell_type": "code",
   "execution_count": 3,
   "metadata": {},
   "outputs": [],
   "source": [
    "def show_dataframe_info(df):\n",
    "    print(df.shape)\n",
    "    print(list(df.columns.values))\n",
    "    print('\\n dataframe info: \\n', df.info())\n",
    "    print('\\n dataframe column datatypes:\\n', df.dtypes)"
   ]
  },
  {
   "cell_type": "markdown",
   "metadata": {},
   "source": [
    "### Reading data"
   ]
  },
  {
   "cell_type": "code",
   "execution_count": 4,
   "metadata": {
    "scrolled": true
   },
   "outputs": [
    {
     "ename": "FileNotFoundError",
     "evalue": "[Errno 2] File AQ_88.csv does not exist: 'AQ_88.csv'",
     "output_type": "error",
     "traceback": [
      "\u001b[1;31m---------------------------------------------------------------------------\u001b[0m",
      "\u001b[1;31mFileNotFoundError\u001b[0m                         Traceback (most recent call last)",
      "\u001b[1;32m<ipython-input-4-421648f7190e>\u001b[0m in \u001b[0;36m<module>\u001b[1;34m()\u001b[0m\n\u001b[1;32m----> 1\u001b[1;33m \u001b[0mmuk_lowcost_data\u001b[0m \u001b[1;33m=\u001b[0m \u001b[0mpd\u001b[0m\u001b[1;33m.\u001b[0m\u001b[0mread_csv\u001b[0m\u001b[1;33m(\u001b[0m\u001b[1;34m'AQ_88.csv'\u001b[0m\u001b[1;33m)\u001b[0m \u001b[1;31m#channel 88-thingspeak,  device colocated with MUK BAM\u001b[0m\u001b[1;33m\u001b[0m\u001b[0m\n\u001b[0m\u001b[0;32m      2\u001b[0m \u001b[0mus_embassy_lowcost_data\u001b[0m \u001b[1;33m=\u001b[0m \u001b[0mpd\u001b[0m\u001b[1;33m.\u001b[0m\u001b[0mread_csv\u001b[0m\u001b[1;33m(\u001b[0m\u001b[1;34m'AQ_51.csv'\u001b[0m\u001b[1;33m)\u001b[0m \u001b[1;31m# #channel 51-thingspeak, device collocated with the US embassy BAM\u001b[0m\u001b[1;33m\u001b[0m\u001b[0m\n\u001b[0;32m      3\u001b[0m \u001b[0mmuk_bam_data\u001b[0m \u001b[1;33m=\u001b[0m \u001b[0mpd\u001b[0m\u001b[1;33m.\u001b[0m\u001b[0mread_csv\u001b[0m\u001b[1;33m(\u001b[0m\u001b[1;34m'MUK-BAM.csv'\u001b[0m\u001b[1;33m)\u001b[0m\u001b[1;31m#MUK BAM\u001b[0m\u001b[1;33m\u001b[0m\u001b[0m\n\u001b[0;32m      4\u001b[0m \u001b[0mus_embassy_bam_data\u001b[0m \u001b[1;33m=\u001b[0m \u001b[0mpd\u001b[0m\u001b[1;33m.\u001b[0m\u001b[0mread_csv\u001b[0m\u001b[1;33m(\u001b[0m\u001b[1;34m'Kampala_PM2.5_2017_2018_2019_2020.csv'\u001b[0m\u001b[1;33m)\u001b[0m\u001b[1;31m#US Embassy BAM\u001b[0m\u001b[1;33m\u001b[0m\u001b[0m\n\u001b[0;32m      5\u001b[0m \u001b[0mmuk_lowcost_data\u001b[0m\u001b[1;33m.\u001b[0m\u001b[0mhead\u001b[0m\u001b[1;33m(\u001b[0m\u001b[1;36m10\u001b[0m\u001b[1;33m)\u001b[0m\u001b[1;33m\u001b[0m\u001b[0m\n",
      "\u001b[1;32m~\\Anaconda3\\lib\\site-packages\\pandas\\io\\parsers.py\u001b[0m in \u001b[0;36mparser_f\u001b[1;34m(filepath_or_buffer, sep, delimiter, header, names, index_col, usecols, squeeze, prefix, mangle_dupe_cols, dtype, engine, converters, true_values, false_values, skipinitialspace, skiprows, skipfooter, nrows, na_values, keep_default_na, na_filter, verbose, skip_blank_lines, parse_dates, infer_datetime_format, keep_date_col, date_parser, dayfirst, cache_dates, iterator, chunksize, compression, thousands, decimal, lineterminator, quotechar, quoting, doublequote, escapechar, comment, encoding, dialect, error_bad_lines, warn_bad_lines, delim_whitespace, low_memory, memory_map, float_precision)\u001b[0m\n\u001b[0;32m    674\u001b[0m         )\n\u001b[0;32m    675\u001b[0m \u001b[1;33m\u001b[0m\u001b[0m\n\u001b[1;32m--> 676\u001b[1;33m         \u001b[1;32mreturn\u001b[0m \u001b[0m_read\u001b[0m\u001b[1;33m(\u001b[0m\u001b[0mfilepath_or_buffer\u001b[0m\u001b[1;33m,\u001b[0m \u001b[0mkwds\u001b[0m\u001b[1;33m)\u001b[0m\u001b[1;33m\u001b[0m\u001b[0m\n\u001b[0m\u001b[0;32m    677\u001b[0m \u001b[1;33m\u001b[0m\u001b[0m\n\u001b[0;32m    678\u001b[0m     \u001b[0mparser_f\u001b[0m\u001b[1;33m.\u001b[0m\u001b[0m__name__\u001b[0m \u001b[1;33m=\u001b[0m \u001b[0mname\u001b[0m\u001b[1;33m\u001b[0m\u001b[0m\n",
      "\u001b[1;32m~\\Anaconda3\\lib\\site-packages\\pandas\\io\\parsers.py\u001b[0m in \u001b[0;36m_read\u001b[1;34m(filepath_or_buffer, kwds)\u001b[0m\n\u001b[0;32m    446\u001b[0m \u001b[1;33m\u001b[0m\u001b[0m\n\u001b[0;32m    447\u001b[0m     \u001b[1;31m# Create the parser.\u001b[0m\u001b[1;33m\u001b[0m\u001b[1;33m\u001b[0m\u001b[0m\n\u001b[1;32m--> 448\u001b[1;33m     \u001b[0mparser\u001b[0m \u001b[1;33m=\u001b[0m \u001b[0mTextFileReader\u001b[0m\u001b[1;33m(\u001b[0m\u001b[0mfp_or_buf\u001b[0m\u001b[1;33m,\u001b[0m \u001b[1;33m**\u001b[0m\u001b[0mkwds\u001b[0m\u001b[1;33m)\u001b[0m\u001b[1;33m\u001b[0m\u001b[0m\n\u001b[0m\u001b[0;32m    449\u001b[0m \u001b[1;33m\u001b[0m\u001b[0m\n\u001b[0;32m    450\u001b[0m     \u001b[1;32mif\u001b[0m \u001b[0mchunksize\u001b[0m \u001b[1;32mor\u001b[0m \u001b[0miterator\u001b[0m\u001b[1;33m:\u001b[0m\u001b[1;33m\u001b[0m\u001b[0m\n",
      "\u001b[1;32m~\\Anaconda3\\lib\\site-packages\\pandas\\io\\parsers.py\u001b[0m in \u001b[0;36m__init__\u001b[1;34m(self, f, engine, **kwds)\u001b[0m\n\u001b[0;32m    878\u001b[0m             \u001b[0mself\u001b[0m\u001b[1;33m.\u001b[0m\u001b[0moptions\u001b[0m\u001b[1;33m[\u001b[0m\u001b[1;34m\"has_index_names\"\u001b[0m\u001b[1;33m]\u001b[0m \u001b[1;33m=\u001b[0m \u001b[0mkwds\u001b[0m\u001b[1;33m[\u001b[0m\u001b[1;34m\"has_index_names\"\u001b[0m\u001b[1;33m]\u001b[0m\u001b[1;33m\u001b[0m\u001b[0m\n\u001b[0;32m    879\u001b[0m \u001b[1;33m\u001b[0m\u001b[0m\n\u001b[1;32m--> 880\u001b[1;33m         \u001b[0mself\u001b[0m\u001b[1;33m.\u001b[0m\u001b[0m_make_engine\u001b[0m\u001b[1;33m(\u001b[0m\u001b[0mself\u001b[0m\u001b[1;33m.\u001b[0m\u001b[0mengine\u001b[0m\u001b[1;33m)\u001b[0m\u001b[1;33m\u001b[0m\u001b[0m\n\u001b[0m\u001b[0;32m    881\u001b[0m \u001b[1;33m\u001b[0m\u001b[0m\n\u001b[0;32m    882\u001b[0m     \u001b[1;32mdef\u001b[0m \u001b[0mclose\u001b[0m\u001b[1;33m(\u001b[0m\u001b[0mself\u001b[0m\u001b[1;33m)\u001b[0m\u001b[1;33m:\u001b[0m\u001b[1;33m\u001b[0m\u001b[0m\n",
      "\u001b[1;32m~\\Anaconda3\\lib\\site-packages\\pandas\\io\\parsers.py\u001b[0m in \u001b[0;36m_make_engine\u001b[1;34m(self, engine)\u001b[0m\n\u001b[0;32m   1112\u001b[0m     \u001b[1;32mdef\u001b[0m \u001b[0m_make_engine\u001b[0m\u001b[1;33m(\u001b[0m\u001b[0mself\u001b[0m\u001b[1;33m,\u001b[0m \u001b[0mengine\u001b[0m\u001b[1;33m=\u001b[0m\u001b[1;34m\"c\"\u001b[0m\u001b[1;33m)\u001b[0m\u001b[1;33m:\u001b[0m\u001b[1;33m\u001b[0m\u001b[0m\n\u001b[0;32m   1113\u001b[0m         \u001b[1;32mif\u001b[0m \u001b[0mengine\u001b[0m \u001b[1;33m==\u001b[0m \u001b[1;34m\"c\"\u001b[0m\u001b[1;33m:\u001b[0m\u001b[1;33m\u001b[0m\u001b[0m\n\u001b[1;32m-> 1114\u001b[1;33m             \u001b[0mself\u001b[0m\u001b[1;33m.\u001b[0m\u001b[0m_engine\u001b[0m \u001b[1;33m=\u001b[0m \u001b[0mCParserWrapper\u001b[0m\u001b[1;33m(\u001b[0m\u001b[0mself\u001b[0m\u001b[1;33m.\u001b[0m\u001b[0mf\u001b[0m\u001b[1;33m,\u001b[0m \u001b[1;33m**\u001b[0m\u001b[0mself\u001b[0m\u001b[1;33m.\u001b[0m\u001b[0moptions\u001b[0m\u001b[1;33m)\u001b[0m\u001b[1;33m\u001b[0m\u001b[0m\n\u001b[0m\u001b[0;32m   1115\u001b[0m         \u001b[1;32melse\u001b[0m\u001b[1;33m:\u001b[0m\u001b[1;33m\u001b[0m\u001b[0m\n\u001b[0;32m   1116\u001b[0m             \u001b[1;32mif\u001b[0m \u001b[0mengine\u001b[0m \u001b[1;33m==\u001b[0m \u001b[1;34m\"python\"\u001b[0m\u001b[1;33m:\u001b[0m\u001b[1;33m\u001b[0m\u001b[0m\n",
      "\u001b[1;32m~\\Anaconda3\\lib\\site-packages\\pandas\\io\\parsers.py\u001b[0m in \u001b[0;36m__init__\u001b[1;34m(self, src, **kwds)\u001b[0m\n\u001b[0;32m   1889\u001b[0m         \u001b[0mkwds\u001b[0m\u001b[1;33m[\u001b[0m\u001b[1;34m\"usecols\"\u001b[0m\u001b[1;33m]\u001b[0m \u001b[1;33m=\u001b[0m \u001b[0mself\u001b[0m\u001b[1;33m.\u001b[0m\u001b[0musecols\u001b[0m\u001b[1;33m\u001b[0m\u001b[0m\n\u001b[0;32m   1890\u001b[0m \u001b[1;33m\u001b[0m\u001b[0m\n\u001b[1;32m-> 1891\u001b[1;33m         \u001b[0mself\u001b[0m\u001b[1;33m.\u001b[0m\u001b[0m_reader\u001b[0m \u001b[1;33m=\u001b[0m \u001b[0mparsers\u001b[0m\u001b[1;33m.\u001b[0m\u001b[0mTextReader\u001b[0m\u001b[1;33m(\u001b[0m\u001b[0msrc\u001b[0m\u001b[1;33m,\u001b[0m \u001b[1;33m**\u001b[0m\u001b[0mkwds\u001b[0m\u001b[1;33m)\u001b[0m\u001b[1;33m\u001b[0m\u001b[0m\n\u001b[0m\u001b[0;32m   1892\u001b[0m         \u001b[0mself\u001b[0m\u001b[1;33m.\u001b[0m\u001b[0munnamed_cols\u001b[0m \u001b[1;33m=\u001b[0m \u001b[0mself\u001b[0m\u001b[1;33m.\u001b[0m\u001b[0m_reader\u001b[0m\u001b[1;33m.\u001b[0m\u001b[0munnamed_cols\u001b[0m\u001b[1;33m\u001b[0m\u001b[0m\n\u001b[0;32m   1893\u001b[0m \u001b[1;33m\u001b[0m\u001b[0m\n",
      "\u001b[1;32mpandas\\_libs\\parsers.pyx\u001b[0m in \u001b[0;36mpandas._libs.parsers.TextReader.__cinit__\u001b[1;34m()\u001b[0m\n",
      "\u001b[1;32mpandas\\_libs\\parsers.pyx\u001b[0m in \u001b[0;36mpandas._libs.parsers.TextReader._setup_parser_source\u001b[1;34m()\u001b[0m\n",
      "\u001b[1;31mFileNotFoundError\u001b[0m: [Errno 2] File AQ_88.csv does not exist: 'AQ_88.csv'"
     ]
    }
   ],
   "source": [
    "muk_lowcost_data = pd.read_csv('AQ_88.csv') #channel 88-thingspeak,  device colocated with MUK BAM\n",
    "us_embassy_lowcost_data = pd.read_csv('AQ_51.csv') # #channel 51-thingspeak, device collocated with the US embassy BAM\n",
    "muk_bam_data = pd.read_csv('MUK-BAM.csv')#MUK BAM\n",
    "us_embassy_bam_data = pd.read_csv('Kampala_PM2.5_2017_2018_2019_2020.csv')#US Embassy BAM\n",
    "muk_lowcost_data.head(10)"
   ]
  },
  {
   "cell_type": "markdown",
   "metadata": {},
   "source": [
    "### Renaming columns"
   ]
  },
  {
   "cell_type": "code",
   "execution_count": null,
   "metadata": {},
   "outputs": [],
   "source": [
    "muk_lowcost_data.rename(columns={'field1':'Sensor1 PM2.5_CF_1_ug/m3','field2':'Sensor1 PM10_CF_1_ug/m3',\n",
    "                                     'field3':'Sensor2PM2.5_CF_1_ug/m3', 'field4':'Sensor2 PM10_CF_1_ug/m3',\n",
    "                                     'field5': 'Latitude', 'field6':'Longitude', 'field7':'Battery Voltage', \n",
    "                                     'field8':'GpsData'},inplace=True)\n",
    "muk_lowcost_data = muk_lowcost_data.drop(['entry_id','Latitude', 'Longitude', 'Battery Voltage','GpsData','latitude','longitude', 'elevation','status'], axis=1)\n",
    "muk_lowcost_data['Average_PM2.5_CF_1_ug/m3'] = muk_lowcost_data[['Sensor1 PM2.5_CF_1_ug/m3', 'Sensor2PM2.5_CF_1_ug/m3']].mean(axis=1).round(2)\n",
    "muk_lowcost_data['Average_PM10_CF_1_ug/m3'] = muk_lowcost_data[['Sensor1 PM10_CF_1_ug/m3', 'Sensor2 PM10_CF_1_ug/m3']].mean(axis=1).round(2)\n",
    "\n",
    "muk_lowcost_data.tail()\n"
   ]
  },
  {
   "cell_type": "code",
   "execution_count": null,
   "metadata": {},
   "outputs": [],
   "source": [
    "us_embassy_lowcost_data.rename(columns={'field1':'Sensor1 PM2.5_CF_1_ug/m3','field2':'Sensor1 PM10_CF_1_ug/m3',\n",
    "                                     'field3':'Sensor2PM2.5_CF_1_ug/m3', 'field4':'Sensor2 PM10_CF_1_ug/m3',\n",
    "                                     'field5': 'Latitude', 'field6':'Longitude', 'field7':'Battery Voltage', \n",
    "                                     'field8':'GpsData'},inplace=True)\n",
    "us_embassy_lowcost_data = us_embassy_lowcost_data.drop(['entry_id','Latitude', 'Longitude', 'Battery Voltage','GpsData','latitude','longitude', 'elevation','status'], axis=1)\n",
    "us_embassy_lowcost_data['Average_PM2.5_CF_1_ug/m3'] = us_embassy_lowcost_data[['Sensor1 PM2.5_CF_1_ug/m3', 'Sensor2PM2.5_CF_1_ug/m3']].mean(axis=1).round(2)\n",
    "us_embassy_lowcost_data['Average_PM10_CF_1_ug/m3'] = us_embassy_lowcost_data[['Sensor1 PM10_CF_1_ug/m3', 'Sensor2 PM10_CF_1_ug/m3']].mean(axis=1).round(2)\n",
    "\n",
    "us_embassy_lowcost_data.tail()\n"
   ]
  },
  {
   "cell_type": "markdown",
   "metadata": {},
   "source": [
    "### Data exploration"
   ]
  },
  {
   "cell_type": "code",
   "execution_count": null,
   "metadata": {
    "scrolled": true
   },
   "outputs": [],
   "source": [
    "show_dataframe_info(muk_lowcost_data)"
   ]
  },
  {
   "cell_type": "code",
   "execution_count": null,
   "metadata": {},
   "outputs": [],
   "source": [
    "show_dataframe_info(us_embassy_lowcost_data)"
   ]
  },
  {
   "cell_type": "code",
   "execution_count": null,
   "metadata": {},
   "outputs": [],
   "source": [
    "show_dataframe_info(muk_bam_data)"
   ]
  },
  {
   "cell_type": "code",
   "execution_count": null,
   "metadata": {},
   "outputs": [],
   "source": [
    "show_dataframe_info(us_embassy_bam_data)"
   ]
  },
  {
   "cell_type": "markdown",
   "metadata": {},
   "source": [
    "# Makerere low cost device"
   ]
  },
  {
   "cell_type": "markdown",
   "metadata": {},
   "source": [
    "### Setting timestamp as index "
   ]
  },
  {
   "cell_type": "code",
   "execution_count": null,
   "metadata": {},
   "outputs": [],
   "source": [
    "muk_lowcost_data[\"TimeStamp\"] = pd.to_datetime(muk_lowcost_data[\"created_at\"])\n",
    "muk_lowcost_data.drop_duplicates(subset =\"TimeStamp\", keep = 'first', inplace = True)\n",
    "muk_lowcost_data = muk_lowcost_data.set_index('TimeStamp')\n",
    "muk_lowcost_data = muk_lowcost_data.drop(['created_at'], axis=1)\n",
    "muk_lowcost_data.head()"
   ]
  },
  {
   "cell_type": "markdown",
   "metadata": {},
   "source": [
    "###  Filter out outliers, get values between 0 and  500.4 "
   ]
  },
  {
   "cell_type": "code",
   "execution_count": null,
   "metadata": {},
   "outputs": [],
   "source": [
    "muk_lowcost_data = muk_lowcost_data[muk_lowcost_data['Average_PM2.5_CF_1_ug/m3'] <= 500.4]\n",
    "muk_lowcost_data = muk_lowcost_data[muk_lowcost_data['Average_PM2.5_CF_1_ug/m3'] > 0]"
   ]
  },
  {
   "cell_type": "code",
   "execution_count": null,
   "metadata": {},
   "outputs": [],
   "source": [
    "muk_lowcost_data = muk_lowcost_data.loc['2020-07-15 13:00:00':'2020-08-26 09:00:00']"
   ]
  },
  {
   "cell_type": "code",
   "execution_count": null,
   "metadata": {
    "scrolled": false
   },
   "outputs": [],
   "source": [
    "muk_lowcost_data.shape"
   ]
  },
  {
   "cell_type": "markdown",
   "metadata": {},
   "source": [
    "### Get hourly concetration values"
   ]
  },
  {
   "cell_type": "code",
   "execution_count": null,
   "metadata": {},
   "outputs": [],
   "source": [
    "muk_lowcost_hourly_std  = muk_lowcost_data.resample('H').std().round(2)\n",
    "muk_lowcost_hourly_mean = muk_lowcost_data.resample('H').mean().round(2)"
   ]
  },
  {
   "cell_type": "code",
   "execution_count": null,
   "metadata": {},
   "outputs": [],
   "source": [
    "fig = plt.figure(figsize=(14,6))\n",
    "plt.rcParams.update({'font.size':14, 'font.weight':'bold'})\n",
    "plt.plot(muk_lowcost_hourly_mean.index, \n",
    "         muk_lowcost_hourly_mean['Average_PM2.5_CF_1_ug/m3'], linestyle='solid', label='PM2.5 Average Values(lowcst)') #marker='o', \n",
    "\n",
    "chart_title =  'Hourly PM2.5 Concentration 15th Jul to 26th Aug 2020 for MUK lowcost'\n",
    "plt.title(chart_title,fontsize=20)\n",
    "plt.ylabel('PM2.5', fontsize=20)\n",
    "plt.xlabel('Date', fontsize=20)\n",
    "plt.xticks(rotation=0)\n",
    "plt.legend()\n",
    "plt.show()\n",
    "plt.tight_layout()\n",
    "fig.savefig('hourly_Muk_lowcost.png')"
   ]
  },
  {
   "cell_type": "markdown",
   "metadata": {},
   "source": [
    "### Get daily concetration values"
   ]
  },
  {
   "cell_type": "code",
   "execution_count": null,
   "metadata": {},
   "outputs": [],
   "source": [
    "muk_lowcost_daily_std    = muk_lowcost_data.resample('D').std().round(2)\n",
    "muk_lowcost_daily_mean   = muk_lowcost_data.resample('D').mean().round(2)"
   ]
  },
  {
   "cell_type": "code",
   "execution_count": null,
   "metadata": {},
   "outputs": [],
   "source": [
    "    fig = plt.figure(figsize=(14,6))\n",
    "    plt.rcParams.update({'font.size':14, 'font.weight':'bold'})\n",
    "    plt.plot(muk_lowcost_daily_mean.index, \n",
    "             muk_lowcost_daily_mean['Average_PM2.5_CF_1_ug/m3'], marker='o', linestyle='solid', label='PM2.5 Average Values')\n",
    "       \n",
    "    chart_title =  'Daily PM2.5 Concentration 15th July to 26th 2020 for MUK lowcost'\n",
    "    plt.title(chart_title,fontsize=20)\n",
    "    plt.ylabel('PM2.5 Concentration', fontsize=20)\n",
    "    plt.xlabel('Date', fontsize=20)\n",
    "    plt.xticks(rotation=0)\n",
    "    plt.legend()\n",
    "    plt.show()\n",
    "    fig.savefig(os.path.join('daily_concentration_muk_lowcost.png'))"
   ]
  },
  {
   "cell_type": "markdown",
   "metadata": {},
   "source": [
    "## MUK BAM"
   ]
  },
  {
   "cell_type": "code",
   "execution_count": null,
   "metadata": {
    "scrolled": true
   },
   "outputs": [],
   "source": [
    "muk_bam_data.columns"
   ]
  },
  {
   "cell_type": "markdown",
   "metadata": {},
   "source": [
    "### Drop extra columns"
   ]
  },
  {
   "cell_type": "code",
   "execution_count": null,
   "metadata": {
    "scrolled": true
   },
   "outputs": [],
   "source": [
    "#print(airquality_data_copy.columns)\n",
    "muk_bam_data = muk_bam_data.drop(['Flow(lpm)', 'WS(m/s)', 'WD(Deg)', 'BP(mmHg)', 'FT(C)', 'FRH(%)', 'Status'], axis=1)\n",
    "\n",
    "muk_bam_data.head()"
   ]
  },
  {
   "cell_type": "markdown",
   "metadata": {},
   "source": [
    "### Set timestamp as index"
   ]
  },
  {
   "cell_type": "code",
   "execution_count": null,
   "metadata": {
    "scrolled": true
   },
   "outputs": [],
   "source": [
    "muk_bam_data[\"TimeStamp\"] = pd.to_datetime(muk_bam_data[\"Time\"])\n",
    "muk_bam_data.drop_duplicates(subset =\"TimeStamp\", keep = 'first', inplace = True)\n",
    "muk_bam_data = muk_bam_data.set_index('TimeStamp')\n",
    "muk_bam_data = muk_bam_data.drop(['Time'], axis=1)\n",
    "muk_bam_data.tail()"
   ]
  },
  {
   "cell_type": "markdown",
   "metadata": {},
   "source": [
    "### Filter out outliers"
   ]
  },
  {
   "cell_type": "code",
   "execution_count": null,
   "metadata": {},
   "outputs": [],
   "source": [
    "muk_bam_data = muk_bam_data[muk_bam_data['ConcHR(ug/m3)'] <= 500.4]\n",
    "muk_bam_data = muk_bam_data[muk_bam_data['ConcHR(ug/m3)'] > 0]"
   ]
  },
  {
   "cell_type": "markdown",
   "metadata": {},
   "source": [
    "### Get data from same date range for both devices - hourly"
   ]
  },
  {
   "cell_type": "code",
   "execution_count": null,
   "metadata": {},
   "outputs": [],
   "source": [
    "## get the lower boundary date \n",
    "muk_lowcost_hourly_mean.iloc[:1,:]\n",
    "t= muk_lowcost_hourly_mean.iloc[:1,:].index.values[0]\n",
    "t = t.astype(datetime.datetime)\n",
    "z= pd.to_datetime(t)\n",
    "muk_lowcost_hourly_mean_lower_date = z.strftime('%Y-%m-%d %H:%M:%S')\n",
    "\n",
    "print(muk_lowcost_hourly_mean_lower_date)\n",
    "\n",
    "## get the upper boundary date \n",
    "t = muk_lowcost_hourly_mean.iloc[-1:,:].index.values[0]\n",
    "t = t.astype(datetime.datetime)\n",
    "z= pd.to_datetime(t)\n",
    "muk_lowcost_hourly_mean_upper_date = z.strftime('%Y-%m-%d %H:%M:%S')\n",
    "print(muk_lowcost_hourly_mean_upper_date)"
   ]
  },
  {
   "cell_type": "code",
   "execution_count": null,
   "metadata": {},
   "outputs": [],
   "source": [
    "## get the lower boundary date \n",
    "muk_bam_data.iloc[:1,:]\n",
    "t= muk_bam_data.iloc[:1,:].index.values[0]\n",
    "t = t.astype(datetime.datetime)\n",
    "z= pd.to_datetime(t)\n",
    "muk_bam_data_lower_date = z.strftime('%Y-%m-%d %H:%M:%S')\n",
    "\n",
    "print(muk_bam_data_lower_date)\n",
    "\n",
    "## get the upper boundary date\n",
    "t = muk_bam_data.iloc[-1:,:].index.values[0]\n",
    "t = t.astype(datetime.datetime)\n",
    "z= pd.to_datetime(t)\n",
    "muk_bam_data_upper_date = z.strftime('%Y-%m-%d %H:%M:%S')\n",
    "print(muk_bam_data_upper_date)"
   ]
  },
  {
   "cell_type": "code",
   "execution_count": null,
   "metadata": {},
   "outputs": [],
   "source": [
    "hourly_same_daterange = muk_bam_data[muk_lowcost_hourly_mean_lower_date:muk_lowcost_hourly_mean_upper_date]\n",
    "hourly_same_daterange.head()"
   ]
  },
  {
   "cell_type": "code",
   "execution_count": null,
   "metadata": {},
   "outputs": [],
   "source": [
    "hourly_same_daterange.shape"
   ]
  },
  {
   "cell_type": "markdown",
   "metadata": {},
   "source": [
    "### Add time column for merging  BAM and Low cost data - hourly"
   ]
  },
  {
   "cell_type": "code",
   "execution_count": null,
   "metadata": {},
   "outputs": [],
   "source": [
    "muk_lowcost_hourly_mean  = muk_lowcost_hourly_mean.drop(\n",
    "['Sensor1 PM10_CF_1_ug/m3','Sensor2 PM10_CF_1_ug/m3','Average_PM10_CF_1_ug/m3', ], axis=1)\n",
    "hourly_timestamp = muk_lowcost_hourly_mean.index.values\n",
    "muk_lowcost_hourly_mean[\"Time\"] = hourly_timestamp\n",
    "muk_lowcost_hourly_mean[\"Time\"] = pd.to_datetime(muk_lowcost_hourly_mean[\"Time\"])\n",
    "muk_lowcost_hourly_mean.head()"
   ]
  },
  {
   "cell_type": "code",
   "execution_count": null,
   "metadata": {},
   "outputs": [],
   "source": [
    "hourly_BAM_data =  hourly_same_daterange\n",
    "hourly_timestamp = hourly_BAM_data.index.values\n",
    "hourly_BAM_data[\"Time\"] = hourly_timestamp\n",
    "hourly_BAM_data[\"Time\"] = pd.to_datetime(hourly_BAM_data[\"Time\"])\n",
    "\n",
    "hourly_BAM_data.head()"
   ]
  },
  {
   "cell_type": "code",
   "execution_count": null,
   "metadata": {},
   "outputs": [],
   "source": [
    "    fig = plt.figure(figsize=(14,6))\n",
    "    plt.rcParams.update({'font.size':14, 'font.weight':'bold'})\n",
    "    plt.plot(hourly_BAM_data.index, \n",
    "             hourly_BAM_data['ConcHR(ug/m3)'],  linestyle='solid', label='PM2.5 Values(BAM)')\n",
    "    \n",
    "    chart_title =  'AirQo-BAM PM2.5 Hourly Concentration 15th July to 26th Aug 2020'\n",
    "    plt.title(chart_title,fontsize=20)\n",
    "    plt.ylabel('PM2.5', fontsize=20)\n",
    "    plt.xlabel('Date', fontsize=20)\n",
    "    plt.xticks(rotation=0)\n",
    "    plt.legend()\n",
    "    plt.tight_layout()\n",
    "    plt.show()\n",
    "    fig.savefig('hourly_pm25_concentration_MUK_BAM')"
   ]
  },
  {
   "cell_type": "markdown",
   "metadata": {},
   "source": [
    "### Combining BAM and lowcost datasets"
   ]
  },
  {
   "cell_type": "code",
   "execution_count": null,
   "metadata": {},
   "outputs": [],
   "source": [
    "hourly_combined_dataset= pd.merge(muk_lowcost_hourly_mean, hourly_BAM_data, on='Time')\n",
    "hourly_combined_dataset.rename(columns={'Average_PM2.5_CF_1_ug/m3':'muk_lowcost_hourly_PM','ConcHR(ug/m3)':'muk_bam_hourly_PM'},inplace=True)\n",
    "\n",
    "hourly_combined_dataset.to_csv('hourly_pm25_concentration_MUK_lowcost_vs_MUK_BAM.csv')\n",
    " \n",
    "hourly_combined_dataset.head()\n",
    "\n"
   ]
  },
  {
   "cell_type": "markdown",
   "metadata": {},
   "source": [
    "### Accounting for time difference between the lowcost and BAM"
   ]
  },
  {
   "cell_type": "code",
   "execution_count": null,
   "metadata": {},
   "outputs": [],
   "source": [
    "hourly_combined_dataset['muk_bam_hourly_PM'] = hourly_combined_dataset['muk_bam_hourly_PM'].shift(-1)"
   ]
  },
  {
   "cell_type": "markdown",
   "metadata": {},
   "source": [
    "### check the difference in values"
   ]
  },
  {
   "cell_type": "code",
   "execution_count": null,
   "metadata": {},
   "outputs": [],
   "source": [
    "hourly_combined_dataset['PM25_Difference'] = hourly_combined_dataset['muk_lowcost_hourly_PM'] - hourly_combined_dataset['muk_bam_hourly_PM']"
   ]
  },
  {
   "cell_type": "markdown",
   "metadata": {},
   "source": [
    "### Visualise BAM vs lowcost data for MUK"
   ]
  },
  {
   "cell_type": "code",
   "execution_count": null,
   "metadata": {},
   "outputs": [],
   "source": [
    "    fig = plt.figure(figsize=(14,6))\n",
    "    plt.rcParams.update({'font.size':14, 'font.weight':'bold'})\n",
    "    plt.plot(hourly_combined_dataset.Time, \n",
    "             hourly_combined_dataset['muk_lowcost_hourly_PM'], linestyle='solid', label='PM2.5 Average Values(Lowcost)') #marker='o', \n",
    "    plt.plot(hourly_combined_dataset.Time, \n",
    "             hourly_combined_dataset['muk_bam_hourly_PM'], linestyle='solid', label='PM2.5 Values(BAM)') # marker='x',\n",
    "    \n",
    "    chart_title =  'Lowcost Vs BAM PM2.5 Measurements for MUK'\n",
    "    plt.title(chart_title,fontsize=20)\n",
    "    plt.ylabel('PM2.5', fontsize=20)\n",
    "    plt.xlabel('Date', fontsize=20)\n",
    "    plt.xticks(rotation=0)\n",
    "    plt.legend()\n",
    "    plt.tight_layout()\n",
    "    plt.show()\n",
    "    fig.savefig('hourly_pm25_concentration_comparison_MUK.png')"
   ]
  },
  {
   "cell_type": "markdown",
   "metadata": {},
   "source": [
    "### Daily Comparisons"
   ]
  },
  {
   "cell_type": "code",
   "execution_count": null,
   "metadata": {
    "scrolled": true
   },
   "outputs": [],
   "source": [
    "muk_bam_daily_std    = hourly_same_daterange.resample('D').std().round(2)\n",
    "muk_bam_daily_mean   = hourly_same_daterange.resample('D').mean().round(2)"
   ]
  },
  {
   "cell_type": "code",
   "execution_count": null,
   "metadata": {},
   "outputs": [],
   "source": [
    "    fig = plt.figure(figsize=(14,6))\n",
    "    plt.rcParams.update({'font.size':14, 'font.weight':'bold'})\n",
    "    plt.plot(muk_bam_daily_mean.index, \n",
    "             muk_bam_daily_mean['ConcHR(ug/m3)'], marker='o', linestyle='solid', label='PM2.5 Average Values')\n",
    "      \n",
    "    chart_title =  'Daily BAM PM2.5 Concentration for MUK'\n",
    "    plt.title(chart_title,fontsize=20)\n",
    "    plt.ylabel('PM2.5 Concentration', fontsize=20)\n",
    "    plt.xlabel('Date', fontsize=20)\n",
    "    plt.xticks(rotation=0)\n",
    "    plt.legend()\n",
    "    plt.show()\n",
    "    fig.savefig(os.path.join('daily_pm25_concentration_BAM_.png'))"
   ]
  },
  {
   "cell_type": "markdown",
   "metadata": {},
   "source": [
    "### Add time column for merging  BAM and Low cost data - daily"
   ]
  },
  {
   "cell_type": "code",
   "execution_count": null,
   "metadata": {},
   "outputs": [],
   "source": [
    "daily_lowcost_data = muk_lowcost_daily_mean\n",
    "daily_lowcost_data  = daily_lowcost_data.drop(['Sensor1 PM10_CF_1_ug/m3','Sensor2 PM10_CF_1_ug/m3','Average_PM10_CF_1_ug/m3'], axis=1)\n",
    "daily_timestamp = daily_lowcost_data.index.values\n",
    "daily_lowcost_data[\"Time\"] = daily_timestamp\n",
    "daily_lowcost_data[\"Time\"] = pd.to_datetime(daily_lowcost_data[\"Time\"])\n",
    "daily_lowcost_data.head()"
   ]
  },
  {
   "cell_type": "code",
   "execution_count": null,
   "metadata": {},
   "outputs": [],
   "source": [
    "daily_bam_data = muk_bam_daily_mean\n",
    "daily_timestamp = daily_bam_data.index.values\n",
    "daily_bam_data[\"Time\"] = daily_timestamp\n",
    "daily_bam_data[\"Time\"] = pd.to_datetime(daily_bam_data[\"Time\"])\n",
    "daily_bam_data.head()"
   ]
  },
  {
   "cell_type": "code",
   "execution_count": null,
   "metadata": {},
   "outputs": [],
   "source": [
    "daily_combined_dataset= pd.merge(daily_lowcost_data, daily_bam_data, on='Time')\n",
    "\n",
    "daily_combined_dataset.rename(\n",
    "    columns={'Average_PM2.5_CF_1_ug/m3':'muk_lowcost_daily_PM','ConcHR(ug/m3)':'muk_bam_daily_PM'},inplace=True)\n",
    "\n",
    "daily_combined_dataset.to_csv('Daily_pm25_concentration_airqo_vs_BAM_MUK.csv')\n",
    " \n",
    "daily_combined_dataset.head()"
   ]
  },
  {
   "cell_type": "code",
   "execution_count": null,
   "metadata": {},
   "outputs": [],
   "source": [
    "daily_combined_dataset['PM25_difference'] = daily_combined_dataset['muk_lowcost_daily_PM'] - daily_combined_dataset['muk_bam_daily_PM']\n",
    "daily_combined_dataset['PM25_difference'].head(10)"
   ]
  },
  {
   "cell_type": "code",
   "execution_count": null,
   "metadata": {},
   "outputs": [],
   "source": [
    "daily_combined_dataset['muk_lowcost_daily_PM'].head(10)"
   ]
  },
  {
   "cell_type": "code",
   "execution_count": null,
   "metadata": {},
   "outputs": [],
   "source": [
    "daily_combined_dataset['muk_bam_daily_PM'].head(10)"
   ]
  },
  {
   "cell_type": "markdown",
   "metadata": {},
   "source": [
    "### Visualising daily concetration MUK BAM vs Low cost"
   ]
  },
  {
   "cell_type": "code",
   "execution_count": null,
   "metadata": {},
   "outputs": [],
   "source": [
    "    fig = plt.figure(figsize=(14,6))\n",
    "    plt.rcParams.update({'font.size':14, 'font.weight':'bold'})\n",
    "    plt.plot(daily_combined_dataset.Time, \n",
    "             daily_combined_dataset['muk_lowcost_daily_PM'], linestyle='solid', label='PM2.5 Average Values(Low cost)') #marker='o', \n",
    "    plt.plot(daily_combined_dataset.Time, \n",
    "             daily_combined_dataset['muk_bam_daily_PM'], linestyle='solid', label='PM2.5 Values(BAM)') # marker='x',\n",
    "    \n",
    "    chart_title =  'Low cost Vs BAM PM2.5 Daily Measurements for MUK'\n",
    "    plt.title(chart_title,fontsize=20)\n",
    "    plt.ylabel('PM2.5', fontsize=20)\n",
    "    plt.xlabel('Date', fontsize=20)\n",
    "    plt.xticks(rotation=0)\n",
    "    plt.legend()\n",
    "    plt.tight_layout()\n",
    "    plt.show()\n",
    "    fig.savefig('daily_pm25_concentration_comparison.png')"
   ]
  },
  {
   "cell_type": "markdown",
   "metadata": {},
   "source": [
    "# Linear Regression model - Scikit-Learn - Hourly"
   ]
  },
  {
   "cell_type": "code",
   "execution_count": null,
   "metadata": {
    "scrolled": true
   },
   "outputs": [],
   "source": [
    "# take only rows where hourly_PM is not null\n",
    "hourly_combined_dataset = hourly_combined_dataset[hourly_combined_dataset['muk_lowcost_hourly_PM'].notna()]\n",
    "hourly_combined_dataset = hourly_combined_dataset[hourly_combined_dataset['muk_bam_hourly_PM'].notna()]"
   ]
  },
  {
   "cell_type": "code",
   "execution_count": null,
   "metadata": {},
   "outputs": [],
   "source": [
    "X_muk = hourly_combined_dataset['muk_bam_hourly_PM'].values\n",
    "X_muk = X_muk.reshape((-1, 1))\n",
    "y_muk = hourly_combined_dataset['muk_lowcost_hourly_PM'].values"
   ]
  },
  {
   "cell_type": "code",
   "execution_count": null,
   "metadata": {},
   "outputs": [],
   "source": [
    "plt.figure(figsize=(15,10))\n",
    "plt.tight_layout()\n",
    "seabornInstance.distplot(y_muk)"
   ]
  },
  {
   "cell_type": "code",
   "execution_count": null,
   "metadata": {},
   "outputs": [],
   "source": [
    "X_train_muk, X_test_muk, y_train_muk, y_test_muk = train_test_split(X_muk, y_muk, test_size=0.2, random_state=0)"
   ]
  },
  {
   "cell_type": "code",
   "execution_count": null,
   "metadata": {},
   "outputs": [],
   "source": [
    "regressor_muk = LinearRegression()  \n",
    "regressor_muk.fit(X_train_muk, y_train_muk)"
   ]
  },
  {
   "cell_type": "code",
   "execution_count": null,
   "metadata": {},
   "outputs": [],
   "source": [
    "#To retrieve the intercept:\n",
    "print(regressor_muk.intercept_)\n",
    "#For retrieving the slope:\n",
    "print(regressor_muk.coef_)"
   ]
  },
  {
   "cell_type": "markdown",
   "metadata": {},
   "source": [
    "### How to get the calibrated value from the raw value,using the equation\n",
    "### What are we comparing is it raw vs calibrated or BAM vs Calibrated"
   ]
  },
  {
   "cell_type": "code",
   "execution_count": null,
   "metadata": {},
   "outputs": [],
   "source": [
    "y_pred_muk = regressor_muk.predict(X_test_muk)"
   ]
  },
  {
   "cell_type": "code",
   "execution_count": null,
   "metadata": {},
   "outputs": [],
   "source": [
    "df_muk = pd.DataFrame({'Actual': y_test_muk.flatten(), 'Predicted': y_pred_muk.flatten()})\n",
    "df_muk"
   ]
  },
  {
   "cell_type": "code",
   "execution_count": null,
   "metadata": {},
   "outputs": [],
   "source": [
    "df1 = df_muk.head(50)\n",
    "df1.plot(kind='bar',figsize=(16,10)) \n",
    "title =  'Hourly Actual Vs Predicted PM2.5 Values for MUK 15th Jul - 26th Aug 2020'\n",
    "plt.show()"
   ]
  },
  {
   "cell_type": "code",
   "execution_count": null,
   "metadata": {},
   "outputs": [],
   "source": [
    "plt.plot(X_test_muk, y_pred_muk, color='crimson', linewidth=2)\n",
    "plt.scatter(X_test_muk, y_test_muk,  color='steelblue')\n",
    "title =  'Hourly Actual Vs Predicted PM2.5 Values 15th Jul - 26th Aug 2020'\n",
    "plt.show()"
   ]
  },
  {
   "cell_type": "code",
   "execution_count": null,
   "metadata": {},
   "outputs": [],
   "source": [
    "actual_predicted_correlations =df_muk.corr()\n",
    "correlations = df_muk['Actual'].corr(df_muk['Predicted'])\n",
    "all_features_corr_plot = sns.heatmap(actual_predicted_correlations, annot=True, cmap=plt.cm.Reds)\n",
    "plt.show()"
   ]
  },
  {
   "cell_type": "code",
   "execution_count": null,
   "metadata": {},
   "outputs": [],
   "source": [
    "print('Mean Absolute Error:', metrics.mean_absolute_error(y_test_muk, y_pred_muk))  \n",
    "print('Mean Squared Error:', metrics.mean_squared_error(y_test_muk, y_pred_muk))  \n",
    "print('Root Mean Squared Error:', np.sqrt(metrics.mean_squared_error(y_test_muk, y_pred_muk)))"
   ]
  },
  {
   "cell_type": "markdown",
   "metadata": {},
   "source": [
    "# # Linear Regression model - Scikit-Learn - Daily# "
   ]
  },
  {
   "cell_type": "code",
   "execution_count": null,
   "metadata": {},
   "outputs": [],
   "source": [
    "# take only rows where hourly_PM is not null\n",
    "daily_combined_dataset = daily_combined_dataset[ daily_combined_dataset['muk_lowcost_daily_PM'].notna()]\n",
    "daily_combined_dataset = daily_combined_dataset[daily_combined_dataset['muk_bam_daily_PM'].notna()]\n",
    "daily_combined_dataset['muk_bam_daily_PM'].shape"
   ]
  },
  {
   "cell_type": "code",
   "execution_count": null,
   "metadata": {},
   "outputs": [],
   "source": [
    "X_daily = daily_combined_dataset['muk_bam_daily_PM'].values\n",
    "X_daily = X_daily.reshape((-1, 1))\n",
    "y_daily = daily_combined_dataset['muk_lowcost_daily_PM'].values\n",
    "X_daily.shape[0]\n",
    "y_daily.shape[0]"
   ]
  },
  {
   "cell_type": "code",
   "execution_count": null,
   "metadata": {},
   "outputs": [],
   "source": [
    "plt.figure(figsize=(15,10))\n",
    "plt.tight_layout()\n",
    "seabornInstance.distplot(y_daily)"
   ]
  },
  {
   "cell_type": "code",
   "execution_count": null,
   "metadata": {},
   "outputs": [],
   "source": [
    "X_train_daily, X_test_daily, y_train_daily, y_test_daily = train_test_split(X_daily, y_daily, test_size=0.2, random_state=0)"
   ]
  },
  {
   "cell_type": "code",
   "execution_count": null,
   "metadata": {},
   "outputs": [],
   "source": [
    "regressor_daily = LinearRegression()  \n",
    "regressor_daily.fit(X_train_daily, y_train_daily) #training the algorithm"
   ]
  },
  {
   "cell_type": "code",
   "execution_count": null,
   "metadata": {},
   "outputs": [],
   "source": [
    "#To retrieve the intercept:\n",
    "print(regressor_daily.intercept_)\n",
    "#For retrieving the slope:\n",
    "print(regressor_daily.coef_)"
   ]
  },
  {
   "cell_type": "code",
   "execution_count": null,
   "metadata": {},
   "outputs": [],
   "source": [
    "y_pred_daily = regressor_daily.predict(X_test_daily)"
   ]
  },
  {
   "cell_type": "code",
   "execution_count": null,
   "metadata": {},
   "outputs": [],
   "source": [
    "df_daily = pd.DataFrame({'Actual': y_test_daily.flatten(), 'Predicted': y_pred_daily.flatten()})\n",
    "df_daily"
   ]
  },
  {
   "cell_type": "code",
   "execution_count": null,
   "metadata": {},
   "outputs": [],
   "source": [
    "df1_daily = df_daily\n",
    "df1_daily.plot(kind='bar',figsize=(16,10)) \n",
    "plt.show()"
   ]
  },
  {
   "cell_type": "code",
   "execution_count": null,
   "metadata": {},
   "outputs": [],
   "source": [
    "plt.plot(X_test_daily, y_pred_daily, color='crimson', linewidth=2)\n",
    "plt.scatter(X_test_daily, y_test_daily,  color='steelblue')\n",
    "plt.show()"
   ]
  },
  {
   "cell_type": "code",
   "execution_count": null,
   "metadata": {},
   "outputs": [],
   "source": [
    "residuals = y_test_daily-y_pred_daily\n",
    "plt.scatter(residuals,y_pred_daily)\n",
    "plt.show()"
   ]
  },
  {
   "cell_type": "code",
   "execution_count": null,
   "metadata": {},
   "outputs": [],
   "source": [
    "actual_predicted_correlations =df_daily.corr()\n",
    "correlations = df_daily['Actual'].corr(df_daily['Predicted'])\n",
    "all_features_corr_plot = sns.heatmap(actual_predicted_correlations, annot=True, cmap=plt.cm.Reds)\n",
    "plt.show()"
   ]
  },
  {
   "cell_type": "code",
   "execution_count": null,
   "metadata": {},
   "outputs": [],
   "source": [
    "print('Mean Absolute Error:', metrics.mean_absolute_error(y_test_daily, y_pred_daily))  \n",
    "print('Mean Squared Error:', metrics.mean_squared_error(y_test_daily, y_pred_daily))  \n",
    "print('Root Mean Squared Error:', np.sqrt(metrics.mean_squared_error(y_test_daily, y_pred_daily)))"
   ]
  },
  {
   "cell_type": "markdown",
   "metadata": {},
   "source": [
    "### saving and loading models"
   ]
  },
  {
   "cell_type": "code",
   "execution_count": null,
   "metadata": {},
   "outputs": [],
   "source": [
    "joblib.dump(regressor_muk, 'regressor_muk.pkl') \n",
    "regressor_loaded = joblib.load('regressor_muk.pkl')"
   ]
  },
  {
   "cell_type": "code",
   "execution_count": null,
   "metadata": {},
   "outputs": [],
   "source": [
    "joblib.dump(regressor_muk, 'regressor_daily.pkl') \n",
    "regressor_loaded = joblib.load('regressor_daily.pkl')"
   ]
  },
  {
   "cell_type": "markdown",
   "metadata": {
    "scrolled": true
   },
   "source": [
    "### Multiple linear regression"
   ]
  },
  {
   "cell_type": "code",
   "execution_count": null,
   "metadata": {},
   "outputs": [],
   "source": [
    "X_MLRx = hourly_combined_dataset[['muk_bam_hourly_PM','AT(C)','RH(%)']]\n",
    "X_MLR_muk = hourly_combined_dataset[['muk_bam_hourly_PM','AT(C)','RH(%)']].values\n",
    "y_MLR_muk = hourly_combined_dataset['muk_lowcost_hourly_PM'].values\n",
    "hourly_combined_dataset['muk_lowcost_hourly_PM'].shape"
   ]
  },
  {
   "cell_type": "code",
   "execution_count": null,
   "metadata": {},
   "outputs": [],
   "source": [
    "X_train_MLR_muk, X_test_MLR_muk, y_train_MLR_muk, y_test_MLR_muk = train_test_split(X_MLR_muk, y_MLR_muk, test_size=0.2, random_state=0)"
   ]
  },
  {
   "cell_type": "code",
   "execution_count": null,
   "metadata": {},
   "outputs": [],
   "source": [
    "regressor_MLR_muk = LinearRegression()  \n",
    "regressor_MLR_muk.fit(X_train_MLR_muk, y_train_MLR_muk)"
   ]
  },
  {
   "cell_type": "code",
   "execution_count": null,
   "metadata": {},
   "outputs": [],
   "source": [
    "intercept_df_muk = pd.DataFrame(regressor_MLR_muk.intercept_, X_MLRx.columns, columns=['Intercept'])  \n",
    "intercept_df_muk"
   ]
  },
  {
   "cell_type": "code",
   "execution_count": null,
   "metadata": {},
   "outputs": [],
   "source": [
    "coeff_df_muk = pd.DataFrame(regressor_MLR_muk.coef_, X_MLRx.columns, columns=['Coefficient'])  \n",
    "coeff_df_muk"
   ]
  },
  {
   "cell_type": "code",
   "execution_count": null,
   "metadata": {},
   "outputs": [],
   "source": [
    "y_pred_mlr_muk = regressor_MLR_muk.predict(X_test_MLR_muk)"
   ]
  },
  {
   "cell_type": "code",
   "execution_count": null,
   "metadata": {},
   "outputs": [],
   "source": [
    "df_mlr_muk = pd.DataFrame({'Actual': y_test_MLR_muk, 'Predicted': y_pred_mlr_muk})"
   ]
  },
  {
   "cell_type": "code",
   "execution_count": null,
   "metadata": {},
   "outputs": [],
   "source": [
    "# y_pred_mlr_muk"
   ]
  },
  {
   "cell_type": "code",
   "execution_count": null,
   "metadata": {},
   "outputs": [],
   "source": [
    "# plt.figure(figsize=(10,6))\n",
    "# plt.plot(X_test_MLR_muk[:,0], y_pred_mlr_muk, color='crimson', linewidth=2)\n",
    "# plt.scatter(X_test_MLR_muk[:,0], y_test_MLR_muk,  color='steelblue')\n",
    "# title = 'Actual Vs Predicted PM2.5 Values 15th Jul - 26th Aug 2020'\n",
    "# plt.title(title,fontsize=20)\n",
    "# plt.show()\n"
   ]
  },
  {
   "cell_type": "code",
   "execution_count": null,
   "metadata": {},
   "outputs": [],
   "source": [
    "df1_mlr_muk  = df_mlr_muk .head(50)\n",
    "# df1.plot(kind='bar',figsize=(14,6))\n",
    "ax = df1_mlr_muk.plot.bar(figsize=(14,8))\n",
    "title =  'Actual Vs Predicted PM2.5 Values 15th Jul - 26th Aug 2020'\n",
    "plt.title(title,fontsize=20)\n",
    "plt.show()"
   ]
  },
  {
   "cell_type": "code",
   "execution_count": null,
   "metadata": {},
   "outputs": [],
   "source": [
    "actual_predicted_correlationsx =df_mlr_muk.corr()\n",
    "correlations_x= df_mlr_muk['Actual'].corr(df_mlr_muk['Predicted'])\n",
    "all_features_corr_plot = sns.heatmap(actual_predicted_correlationsx, annot=True, cmap=plt.cm.Reds)\n",
    "plt.show()"
   ]
  },
  {
   "cell_type": "code",
   "execution_count": null,
   "metadata": {},
   "outputs": [],
   "source": [
    "print('Mean Absolute Error:', metrics.mean_absolute_error(y_test_MLR_muk, y_pred_mlr_muk))  \n",
    "print('Mean Squared Error:', metrics.mean_squared_error(y_test_MLR_muk, y_pred_mlr_muk))  \n",
    "print('Root Mean Squared Error:', np.sqrt(metrics.mean_squared_error(y_test_MLR_muk, y_pred_mlr_muk)))"
   ]
  },
  {
   "cell_type": "markdown",
   "metadata": {},
   "source": [
    "### Multiple linear regression - Daily, MUK"
   ]
  },
  {
   "cell_type": "code",
   "execution_count": null,
   "metadata": {},
   "outputs": [],
   "source": [
    "X_MLRx_daily = daily_combined_dataset[['muk_bam_daily_PM','AT(C)','RH(%)']]\n",
    "X_MLR_daily = daily_combined_dataset[['muk_bam_daily_PM','AT(C)','RH(%)']].values\n",
    "y_MLR_daily = daily_combined_dataset['muk_lowcost_daily_PM'].values\n",
    "daily_combined_dataset['muk_lowcost_daily_PM'].shape"
   ]
  },
  {
   "cell_type": "code",
   "execution_count": null,
   "metadata": {},
   "outputs": [],
   "source": [
    "X_train_MLR_daily, X_test_MLR_daily, y_train_MLR_daily, y_test_MLR_daily = train_test_split(X_MLR_daily, y_MLR_daily, test_size=0.2, random_state=0)"
   ]
  },
  {
   "cell_type": "code",
   "execution_count": null,
   "metadata": {},
   "outputs": [],
   "source": [
    "regressor_MLR_daily = LinearRegression()  \n",
    "regressor_MLR_daily.fit(X_train_MLR_daily, y_train_MLR_daily)"
   ]
  },
  {
   "cell_type": "code",
   "execution_count": null,
   "metadata": {},
   "outputs": [],
   "source": [
    "intercept_df_daily = pd.DataFrame(regressor_MLR_daily.intercept_, X_MLRx_daily.columns, columns=['Intercept'])  \n",
    "intercept_df_daily"
   ]
  },
  {
   "cell_type": "code",
   "execution_count": null,
   "metadata": {},
   "outputs": [],
   "source": [
    "coeff_df_daily = pd.DataFrame(regressor_MLR_daily.coef_, X_MLRx_daily.columns, columns=['Coefficient'])  \n",
    "coeff_df_daily"
   ]
  },
  {
   "cell_type": "code",
   "execution_count": null,
   "metadata": {},
   "outputs": [],
   "source": [
    "y_pred_mlr_daily = regressor_MLR_daily.predict(X_test_MLR_daily)"
   ]
  },
  {
   "cell_type": "code",
   "execution_count": null,
   "metadata": {},
   "outputs": [],
   "source": [
    "df_mlr_daily = pd.DataFrame({'Actual': y_test_MLR_daily, 'Predicted': y_pred_mlr_daily})"
   ]
  },
  {
   "cell_type": "code",
   "execution_count": null,
   "metadata": {},
   "outputs": [],
   "source": [
    "df1_mlr_daily  = df_mlr_daily.head(50)\n",
    "# df1.plot(kind='bar',figsize=(14,6))\n",
    "ax = df1_mlr_daily.plot.bar(figsize=(14,8))\n",
    "title =  'Actual Vs Predicted PM2.5 Values 15th Jul - 26th Aug 2020'\n",
    "plt.title(title,fontsize=20)\n",
    "plt.show()"
   ]
  },
  {
   "cell_type": "code",
   "execution_count": null,
   "metadata": {},
   "outputs": [],
   "source": [
    "actual_predicted_correlationsx =df_mlr_muk.corr()\n",
    "correlations_x= df_mlr_muk['Actual'].corr(df_mlr_muk['Predicted'])\n",
    "all_features_corr_plot = sns.heatmap(actual_predicted_correlationsx, annot=True, cmap=plt.cm.Reds)\n",
    "plt.show()"
   ]
  },
  {
   "cell_type": "code",
   "execution_count": null,
   "metadata": {},
   "outputs": [],
   "source": [
    "print('Mean Absolute Error:', metrics.mean_absolute_error(y_test_MLR_muk, y_pred_mlr_muk))  \n",
    "print('Mean Squared Error:', metrics.mean_squared_error(y_test_MLR_muk, y_pred_mlr_muk))  \n",
    "print('Root Mean Squared Error:', np.sqrt(metrics.mean_squared_error(y_test_MLR_muk, y_pred_mlr_muk)))"
   ]
  },
  {
   "cell_type": "markdown",
   "metadata": {},
   "source": [
    "### Uncertainity - hourly"
   ]
  },
  {
   "cell_type": "code",
   "execution_count": null,
   "metadata": {},
   "outputs": [],
   "source": [
    "# def f(x):\n",
    "#     return 1.20927538 * x + 8.516051947603252"
   ]
  },
  {
   "cell_type": "code",
   "execution_count": null,
   "metadata": {},
   "outputs": [],
   "source": [
    "# y_test_muk.shape"
   ]
  },
  {
   "cell_type": "code",
   "execution_count": null,
   "metadata": {},
   "outputs": [],
   "source": [
    "# xdata = X_test_muk.flatten()\n",
    "# ydata = y_test_muk"
   ]
  },
  {
   "cell_type": "code",
   "execution_count": null,
   "metadata": {},
   "outputs": [],
   "source": [
    "# popt, pcov = curve_fit(func, xdata, ydata)\n",
    "# popt"
   ]
  },
  {
   "cell_type": "code",
   "execution_count": null,
   "metadata": {},
   "outputs": [],
   "source": [
    "# plt.scatter(xdata, ydata, label='data')\n",
    "# popt, pcov = curve_fit(func, xdata, ydata)\n",
    "# popt\n",
    "# plt.plot(xdata, func(xdata, *popt),\n",
    "#          label=\"fit: a={}  , b={} \".format(popt[0],popt[1]))\n",
    "# popt, pcov = curve_fit(func, xdata, ydata)\n",
    "# popt\n",
    "# plt.plot(xdata, func(xdata, *popt),\n",
    "#          label=\"fit: a={}  , b={} \".format(popt[0],popt[1]))\n",
    "# plt.xlabel('x')\n",
    "# plt.ylabel('y')\n",
    "# plt.legend()\n",
    "# plt.show()"
   ]
  },
  {
   "cell_type": "code",
   "execution_count": null,
   "metadata": {},
   "outputs": [],
   "source": [
    "x = hourly_combined_dataset['muk_bam_hourly_PM'].values\n",
    "y = hourly_combined_dataset['muk_lowcost_hourly_PM'].values\n",
    "x.shape"
   ]
  },
  {
   "cell_type": "code",
   "execution_count": null,
   "metadata": {},
   "outputs": [],
   "source": [
    "n = len(y)\n",
    "\n",
    "def f(x, a, b):\n",
    "    return a * x + b\n",
    "\n",
    "popt, pcov = curve_fit(f, x, y)"
   ]
  },
  {
   "cell_type": "code",
   "execution_count": null,
   "metadata": {},
   "outputs": [],
   "source": [
    "# retrieve parameter values\n",
    "a = popt[0]\n",
    "b = popt[1]\n",
    "print('Optimal Values')\n",
    "print('a: ' + str(a))\n",
    "print('b: ' + str(b))"
   ]
  },
  {
   "cell_type": "code",
   "execution_count": null,
   "metadata": {},
   "outputs": [],
   "source": [
    "# compute r^2\n",
    "r2 = 1.0-(sum((y-f(x,a,b))**2)/((n-1.0)*np.var(y,ddof=1)))\n",
    "print('R^2: ' + str(r2))\n",
    "\n",
    "# calculate parameter confidence interval\n",
    "a,b = unc.correlated_values(popt, pcov)\n",
    "print('Uncertainty')\n",
    "print('a: ' + str(a))\n",
    "print('b: ' + str(b))"
   ]
  },
  {
   "cell_type": "code",
   "execution_count": null,
   "metadata": {},
   "outputs": [],
   "source": [
    "# plot data\n",
    "plt.scatter(x, y, s=3, label='Data')"
   ]
  },
  {
   "cell_type": "code",
   "execution_count": null,
   "metadata": {},
   "outputs": [],
   "source": [
    "# calculate regression confidence interval\n",
    "px = np.linspace(0, 200, 500)\n",
    "py = a*px+b\n",
    "nom = unp.nominal_values(py)\n",
    "std = unp.std_devs(py)"
   ]
  },
  {
   "cell_type": "code",
   "execution_count": null,
   "metadata": {},
   "outputs": [],
   "source": [
    "nom"
   ]
  },
  {
   "cell_type": "code",
   "execution_count": null,
   "metadata": {},
   "outputs": [],
   "source": [
    "def predband(x, xd, yd, p, func, conf=0.95):\n",
    "    # x = requested points\n",
    "    # xd = x data\n",
    "    # yd = y data\n",
    "    # p = parameters\n",
    "    # func = function name\n",
    "    alpha = 1.0 - conf    # significance\n",
    "    N = xd.size          # data sample size\n",
    "    var_n = len(p)  # number of parameters\n",
    "    q = stats.t.ppf(1.0 - alpha / 2.0, N - var_n)\n",
    "    se = np.sqrt(1. / (N - var_n) * \\\n",
    "                 np.sum((yd - func(xd, *p)) ** 2))\n",
    "    # Auxiliary definitions\n",
    "    sx = (x - xd.mean()) ** 2\n",
    "    sxd = np.sum((xd - xd.mean()) ** 2)\n",
    "    # Predicted values (best-fit model)\n",
    "    yp = func(x, *p)\n",
    "    # Prediction band\n",
    "    dy = q * se * np.sqrt(1.0+ (1.0/N) + (sx/sxd))\n",
    "    # Upper & lower prediction bands.\n",
    "    lpb, upb = yp - dy, yp + dy\n",
    "    return lpb, upb\n",
    "\n",
    "lpb, upb = predband(px, x, y, popt, f, conf=0.95)"
   ]
  },
  {
   "cell_type": "code",
   "execution_count": null,
   "metadata": {},
   "outputs": [],
   "source": [
    "# plot data\n",
    "plt.figure(figsize=(10,6))\n",
    "plt.scatter(x, y, s=3, label='Data')\n",
    "# plot the regression\n",
    "plt.plot(px, nom, c='black', label='y=a x + b')\n",
    "\n",
    "# uncertainty lines (95% confidence)\n",
    "plt.plot(px, nom - 1.96 * std, c='steelblue',\\\n",
    "         label='95% Confidence Region')\n",
    "plt.plot(px, nom + 1.96 * std, c='steelblue')\n",
    "# prediction band (95% confidence)\n",
    "plt.plot(px, lpb, 'k--',label='95% Prediction Band')\n",
    "plt.plot(px, upb, 'k--')\n",
    "plt.ylabel('y')\n",
    "plt.xlabel('x')\n",
    "plt.legend(loc='best')\n",
    "\n",
    "# save and show figure\n",
    "plt.savefig('regression.png')\n",
    "plt.show()"
   ]
  },
  {
   "cell_type": "markdown",
   "metadata": {},
   "source": [
    "## US embassy low cost device\n"
   ]
  },
  {
   "cell_type": "markdown",
   "metadata": {},
   "source": [
    "### Setting index as timestamp"
   ]
  },
  {
   "cell_type": "code",
   "execution_count": null,
   "metadata": {},
   "outputs": [],
   "source": [
    "us_embassy_lowcost_data[\"TimeStamp\"] = pd.to_datetime(us_embassy_lowcost_data[\"created_at\"])\n",
    "us_embassy_lowcost_data[\"TimeStamp\"] = us_embassy_lowcost_data[\"TimeStamp\"]+ datetime.timedelta(hours=3)\n",
    "us_embassy_lowcost_data.drop_duplicates(subset =\"TimeStamp\", keep = 'first', inplace = True)\n",
    "us_embassy_lowcost_data = us_embassy_lowcost_data.set_index('TimeStamp')\n",
    "us_embassy_lowcost_data = us_embassy_lowcost_data.drop(['created_at'], axis=1)\n",
    "us_embassy_lowcost_data.head()"
   ]
  },
  {
   "cell_type": "markdown",
   "metadata": {},
   "source": [
    "### Filtering outliers"
   ]
  },
  {
   "cell_type": "code",
   "execution_count": null,
   "metadata": {},
   "outputs": [],
   "source": [
    "us_embassy_lowcost_data = us_embassy_lowcost_data[us_embassy_lowcost_data['Average_PM2.5_CF_1_ug/m3'] <= 500.4]\n",
    "us_embassy_lowcost_data = us_embassy_lowcost_data[us_embassy_lowcost_data['Average_PM2.5_CF_1_ug/m3'] > 0]"
   ]
  },
  {
   "cell_type": "markdown",
   "metadata": {},
   "source": [
    "### Get data range"
   ]
  },
  {
   "cell_type": "code",
   "execution_count": null,
   "metadata": {},
   "outputs": [],
   "source": [
    "us_embassy_lowcost_data = us_embassy_lowcost_data.loc['2020-02-01':'2020-03-14']"
   ]
  },
  {
   "cell_type": "markdown",
   "metadata": {},
   "source": [
    "### Hourly concetrations for the US embassy low cost sensors"
   ]
  },
  {
   "cell_type": "code",
   "execution_count": null,
   "metadata": {},
   "outputs": [],
   "source": [
    "us_embassy_lowcost_hourly_std  = us_embassy_lowcost_data.resample('H').std().round(2)\n",
    "us_embassy_lowcost_hourly_mean = us_embassy_lowcost_data.resample('H').mean().round(2)"
   ]
  },
  {
   "cell_type": "code",
   "execution_count": null,
   "metadata": {},
   "outputs": [],
   "source": [
    "fig = plt.figure(figsize=(14,6))\n",
    "plt.rcParams.update({'font.size':14, 'font.weight':'bold'})\n",
    "plt.plot(us_embassy_lowcost_hourly_mean.index, \n",
    "        us_embassy_lowcost_hourly_mean['Average_PM2.5_CF_1_ug/m3'],linestyle='solid', label='PM2.5 Average Values(Low cost)') #marker='o', \n",
    "\n",
    "chart_title =  'Hourly PM2.5 Concentrations 01st Feb to 14th Mar 2020 - US embassy lowcost device'\n",
    "plt.title(chart_title,fontsize=20)\n",
    "plt.ylabel('PM2.5', fontsize=20)\n",
    "plt.xlabel('Date', fontsize=20)\n",
    "plt.xticks(rotation=0)\n",
    "plt.legend()\n",
    "plt.show()\n",
    "plt.tight_layout()\n",
    "fig.savefig('hourly_lowcost_us_embassy.png')"
   ]
  },
  {
   "cell_type": "markdown",
   "metadata": {},
   "source": [
    "### Daily concetrations - US embassy lowcost device"
   ]
  },
  {
   "cell_type": "code",
   "execution_count": null,
   "metadata": {},
   "outputs": [],
   "source": [
    "us_embassy_lowcost_daily_std    = us_embassy_lowcost_data.resample('D').std().round(2)\n",
    "us_embassy_lowcost_daily_mean   = us_embassy_lowcost_data.resample('D').mean().round(2)"
   ]
  },
  {
   "cell_type": "code",
   "execution_count": null,
   "metadata": {},
   "outputs": [],
   "source": [
    "fig = plt.figure(figsize=(14,6))\n",
    "plt.rcParams.update({'font.size':14, 'font.weight':'bold'})\n",
    "plt.plot(us_embassy_lowcost_daily_mean.index, \n",
    "         us_embassy_lowcost_daily_mean['Average_PM2.5_CF_1_ug/m3'], marker='o', linestyle='solid', label='PM2.5 Average Values')\n",
    "\n",
    "chart_title =  'Daily PM2.5 Concentration 01st Feb to 14 Mar 2020 - US embassy lowcost'\n",
    "plt.title(chart_title,fontsize=20)\n",
    "plt.ylabel('PM2.5 Concentration', fontsize=20)\n",
    "plt.xlabel('Date', fontsize=20)\n",
    "plt.xticks(rotation=0)\n",
    "plt.legend()\n",
    "plt.show()\n",
    "fig.savefig(os.path.join('daily_lowcost_us_embassy.png'))"
   ]
  },
  {
   "cell_type": "markdown",
   "metadata": {},
   "source": [
    "## US embassy BAM "
   ]
  },
  {
   "cell_type": "code",
   "execution_count": null,
   "metadata": {
    "scrolled": true
   },
   "outputs": [],
   "source": [
    "us_embassy_bam_data.columns"
   ]
  },
  {
   "cell_type": "code",
   "execution_count": null,
   "metadata": {},
   "outputs": [],
   "source": [
    "#print(airquality_data_copy.columns)\n",
    "us_embassy_bam_data = us_embassy_bam_data.drop(['Site','Parameter','Year','Month','Day','Hour','AQI','AQI Category','NowCast Conc.','Conc. Unit','Duration','QC Name'], axis=1)\n",
    "us_embassy_bam_data.head()"
   ]
  },
  {
   "cell_type": "markdown",
   "metadata": {},
   "source": [
    "###  Set Timestamp as index"
   ]
  },
  {
   "cell_type": "code",
   "execution_count": null,
   "metadata": {},
   "outputs": [],
   "source": [
    "us_embassy_bam_data[\"TimeStamp\"] = pd.to_datetime(us_embassy_bam_data[\"Date (LT)\"])\n",
    "us_embassy_bam_data.drop_duplicates(subset =\"TimeStamp\", keep = 'first', inplace = True)\n",
    "us_embassy_bam_data = us_embassy_bam_data.set_index('TimeStamp')\n",
    "us_embassy_bam_data = us_embassy_bam_data.drop(['Date (LT)'], axis=1)\n",
    "us_embassy_bam_data.tail()"
   ]
  },
  {
   "cell_type": "markdown",
   "metadata": {},
   "source": [
    "### Filter outliers"
   ]
  },
  {
   "cell_type": "code",
   "execution_count": null,
   "metadata": {},
   "outputs": [],
   "source": [
    "us_embassy_bam_data = us_embassy_bam_data[us_embassy_bam_data['Raw Conc.'] <= 500.4]\n",
    "us_embassy_bam_data = us_embassy_bam_data[us_embassy_bam_data['Raw Conc.'] > 0]"
   ]
  },
  {
   "cell_type": "markdown",
   "metadata": {},
   "source": [
    "### Getting upper and lower date boundaries"
   ]
  },
  {
   "cell_type": "code",
   "execution_count": null,
   "metadata": {},
   "outputs": [],
   "source": [
    "## get the lower boundary date from the daily airquality dataset\n",
    "us_embassy_lowcost_hourly_mean.iloc[:1,:]\n",
    "t= us_embassy_lowcost_hourly_mean.iloc[:1,:].index.values[0]\n",
    "t = t.astype(datetime.datetime)\n",
    "z= pd.to_datetime(t)\n",
    "us_embassy_lowcost_hourly_mean_lower_date = z.strftime('%Y-%m-%d %H:%M:%S')\n",
    "\n",
    "print(us_embassy_lowcost_hourly_mean_lower_date)\n",
    "\n",
    "## get the upper boundary date from the daily airquality dataset\n",
    "t = us_embassy_lowcost_hourly_mean.iloc[-1:,:].index.values[0]\n",
    "t = t.astype(datetime.datetime)\n",
    "z= pd.to_datetime(t)\n",
    "us_embassy_lowcost_hourly_mean_upper_date = z.strftime('%Y-%m-%d %H:%M:%S')\n",
    "print(us_embassy_lowcost_hourly_mean_upper_date)"
   ]
  },
  {
   "cell_type": "code",
   "execution_count": null,
   "metadata": {},
   "outputs": [],
   "source": [
    "## get the lower boundary date from the daily airquality dataset\n",
    "us_embassy_bam_data.iloc[:1,:]\n",
    "t= us_embassy_bam_data.iloc[:1,:].index.values[0]\n",
    "t = t.astype(datetime.datetime)\n",
    "z= pd.to_datetime(t)\n",
    "us_embassy_bam_data_lower_date = z.strftime('%Y-%m-%d %H:%M:%S')\n",
    "\n",
    "print(us_embassy_bam_data_lower_date)\n",
    "\n",
    "## get the upper boundary date from the daily airquality dataset\n",
    "t = us_embassy_bam_data.iloc[-1:,:].index.values[0]\n",
    "t = t.astype(datetime.datetime)\n",
    "z= pd.to_datetime(t)\n",
    "us_embassy_bam_data_upper_date = z.strftime('%Y-%m-%d %H:%M:%S')\n",
    "print(us_embassy_bam_data_upper_date)"
   ]
  },
  {
   "cell_type": "code",
   "execution_count": null,
   "metadata": {
    "scrolled": true
   },
   "outputs": [],
   "source": [
    "hourly_same_range_us = us_embassy_bam_data[us_embassy_lowcost_hourly_mean_lower_date:us_embassy_lowcost_hourly_mean_upper_date]\n",
    "hourly_same_range_us.head()"
   ]
  },
  {
   "cell_type": "code",
   "execution_count": null,
   "metadata": {},
   "outputs": [],
   "source": [
    "hourly_same_range_us.shape"
   ]
  },
  {
   "cell_type": "markdown",
   "metadata": {},
   "source": [
    "### Add Time column for merging the two datasets"
   ]
  },
  {
   "cell_type": "code",
   "execution_count": null,
   "metadata": {
    "scrolled": true
   },
   "outputs": [],
   "source": [
    "us_embassy_lowcost_hourly_mean  = us_embassy_lowcost_hourly_mean.drop(\n",
    "['Sensor1 PM10_CF_1_ug/m3', 'Sensor2 PM10_CF_1_ug/m3',\n",
    "       'Average_PM10_CF_1_ug/m3', ], axis=1)\n",
    "hourly_timestamp = us_embassy_lowcost_hourly_mean.index.values\n",
    "us_embassy_lowcost_hourly_mean[\"Time\"] = hourly_timestamp\n",
    "us_embassy_lowcost_hourly_mean[\"Time\"] = pd.to_datetime(us_embassy_lowcost_hourly_mean[\"Time\"])\n",
    "us_embassy_lowcost_hourly_mean.head()"
   ]
  },
  {
   "cell_type": "code",
   "execution_count": null,
   "metadata": {},
   "outputs": [],
   "source": [
    "hourly_timestamp = hourly_same_range_us.index.values\n",
    "#print(len(hourly_timestamp))\n",
    "hourly_same_range_us[\"Time\"] = hourly_timestamp\n",
    "#print(hourly_meteorology_data.columns)\n",
    "hourly_same_range_us[\"Time\"] = pd.to_datetime(hourly_same_range_us[\"Time\"])\n",
    "\n",
    "hourly_same_range_us.head()"
   ]
  },
  {
   "cell_type": "code",
   "execution_count": null,
   "metadata": {},
   "outputs": [],
   "source": [
    "hourly_combined_dataset_us_embassy = pd.merge(us_embassy_lowcost_hourly_mean, hourly_same_range_us, on='Time')\n",
    "#hourly_combined_dataset = hourly_combined_dataset.dropna()\n",
    "#hourly_combined_dataset= hourly_combined_dataset.set_index('TimeStamp')\n",
    "\n",
    "hourly_combined_dataset_us_embassy.rename(\n",
    "    columns={'Average_PM2.5_CF_1_ug/m3':'lowcost_PM2.5','Raw Conc.':'bam_PM2.5',\n",
    "                                     },inplace=True)\n",
    "\n",
    "hourly_combined_dataset_us_embassy.to_csv('hourly_US_embassy_lowcost.csv')\n",
    " \n",
    "hourly_combined_dataset_us_embassy.head()"
   ]
  },
  {
   "cell_type": "code",
   "execution_count": null,
   "metadata": {},
   "outputs": [],
   "source": []
  },
  {
   "cell_type": "code",
   "execution_count": null,
   "metadata": {},
   "outputs": [],
   "source": [
    "# hourly_combined_dataset_us_embassy['bam_PM2.5'] = hourly_combined_dataset_us_embassy['bam_PM2.5'].shift(-1)"
   ]
  },
  {
   "cell_type": "code",
   "execution_count": null,
   "metadata": {},
   "outputs": [],
   "source": [
    "fig = plt.figure(figsize=(14,6))\n",
    "plt.rcParams.update({'font.size':14, 'font.weight':'bold'})\n",
    "plt.plot(hourly_combined_dataset_us_embassy.Time, \n",
    "         hourly_combined_dataset_us_embassy['lowcost_PM2.5'],linestyle='solid', label='PM2.5 Average Values(Low cost)') #marker='o', \n",
    "plt.plot(hourly_combined_dataset_us_embassy.Time, \n",
    "         hourly_combined_dataset_us_embassy['bam_PM2.5'], linestyle='solid', label='PM2.5 Values(BAM)') # marker='x',\n",
    "\n",
    "chart_title =  'Lowcost Vs US Embassy BAM PM2.5 Measurements'\n",
    "plt.title(chart_title,fontsize=20)\n",
    "plt.ylabel('PM2.5', fontsize=20)\n",
    "plt.xlabel('Date', fontsize=20)\n",
    "plt.xticks(rotation=0)\n",
    "plt.legend()\n",
    "plt.tight_layout()\n",
    "plt.show()\n",
    "fig.savefig('hourly_US_lowcost')"
   ]
  },
  {
   "cell_type": "markdown",
   "metadata": {},
   "source": [
    "### Daily concetrations - Us embassy"
   ]
  },
  {
   "cell_type": "code",
   "execution_count": null,
   "metadata": {},
   "outputs": [],
   "source": [
    "us_embassy_lowcost_daily_std    = us_embassy_lowcost_data.resample('D').std().round(2)\n",
    "us_embassy_lowcost_daily_mean   = us_embassy_lowcost_data.resample('D').mean().round(2)"
   ]
  },
  {
   "cell_type": "markdown",
   "metadata": {},
   "source": [
    "### Add Time column for merging the two datasets"
   ]
  },
  {
   "cell_type": "code",
   "execution_count": null,
   "metadata": {},
   "outputs": [],
   "source": [
    "us_embassy_lowcost_daily_mean  = us_embassy_lowcost_daily_mean.drop(\n",
    "['Sensor1 PM10_CF_1_ug/m3','Sensor2 PM10_CF_1_ug/m3','Average_PM10_CF_1_ug/m3', ], axis=1)\n",
    "daily_timestamp = us_embassy_lowcost_daily_mean.index.values\n",
    "us_embassy_lowcost_daily_mean[\"Time\"] = daily_timestamp\n",
    "us_embassy_lowcost_daily_mean[\"Time\"] = pd.to_datetime(us_embassy_lowcost_daily_mean[\"Time\"])\n",
    "\n",
    "us_embassy_lowcost_daily_mean.head()"
   ]
  },
  {
   "cell_type": "code",
   "execution_count": null,
   "metadata": {},
   "outputs": [],
   "source": [
    "daily_timestamp = us_embassy_bam_data.index.values\n",
    "us_embassy_bam_data[\"Time\"] = daily_timestamp\n",
    "us_embassy_bam_data[\"Time\"] = pd.to_datetime(us_embassy_bam_data[\"Time\"])\n",
    "\n",
    "us_embassy_bam_data.head()"
   ]
  },
  {
   "cell_type": "code",
   "execution_count": null,
   "metadata": {},
   "outputs": [],
   "source": [
    "daily_combined_dataset_us= pd.merge(us_embassy_lowcost_daily_mean, us_embassy_bam_data, on='Time')\n",
    "daily_combined_dataset_us.rename(\n",
    "    columns={'Average_PM2.5_CF_1_ug/m3':'lowcost_daily_PM2.5','Raw Conc.':'bam_daily_PM2.5',\n",
    "                                     },inplace=True)\n",
    "daily_combined_dataset_us.to_csv('Daily_US_PMS.csv')\n",
    " \n",
    "daily_combined_dataset_us.head()"
   ]
  },
  {
   "cell_type": "code",
   "execution_count": null,
   "metadata": {},
   "outputs": [],
   "source": [
    "fig = plt.figure(figsize=(14,6))\n",
    "plt.rcParams.update({'font.size':14, 'font.weight':'bold'})\n",
    "plt.plot(daily_combined_dataset_us.Time, \n",
    "         daily_combined_dataset_us['lowcost_daily_PM2.5'], linestyle='solid', label='PM2.5 Average Values(Low cost)') #marker='o', \n",
    "plt.plot(daily_combined_dataset_us.Time, \n",
    "         daily_combined_dataset_us['bam_daily_PM2.5'], linestyle='solid', label='PM2.5 Values(BAM)') # marker='x',\n",
    "\n",
    "\n",
    "chart_title =  'low cost Vs BAM PM2.5 Daily Measurements - US Embassy'\n",
    "plt.title(chart_title,fontsize=20)\n",
    "plt.ylabel('PM2.5', fontsize=20)\n",
    "plt.xlabel('Date', fontsize=20)\n",
    "plt.xticks(rotation=0)\n",
    "plt.legend()\n",
    "plt.tight_layout()\n",
    "plt.show()\n",
    "fig.savefig('daily_US_PMS.png')"
   ]
  },
  {
   "cell_type": "markdown",
   "metadata": {},
   "source": [
    "## Linear Regression model - Scikit-Learn - Hourly"
   ]
  },
  {
   "cell_type": "code",
   "execution_count": null,
   "metadata": {},
   "outputs": [],
   "source": [
    "hourly_combined_dataset_us_embassy = hourly_combined_dataset_us_embassy[hourly_combined_dataset_us_embassy['lowcost_PM2.5'].notna()]\n",
    "hourly_combined_dataset_us_embassy = hourly_combined_dataset_us_embassy[hourly_combined_dataset_us_embassy['bam_PM2.5'].notna()]\n",
    "print(hourly_combined_dataset_us_embassy['lowcost_PM2.5'])"
   ]
  },
  {
   "cell_type": "code",
   "execution_count": null,
   "metadata": {
    "scrolled": true
   },
   "outputs": [],
   "source": [
    "X_us_embassy = hourly_combined_dataset_us_embassy['bam_PM2.5'].values\n",
    "X_us_embassy = X_us_embassy.reshape((-1, 1))\n",
    "y_us_embassy = hourly_combined_dataset_us_embassy['lowcost_PM2.5'].values\n",
    "print(X_us_embassy)\n",
    "print(y_us_embassy)"
   ]
  },
  {
   "cell_type": "code",
   "execution_count": null,
   "metadata": {},
   "outputs": [],
   "source": [
    "plt.figure(figsize=(15,10))\n",
    "plt.tight_layout()\n",
    "seabornInstance.distplot(y_us_embassy)"
   ]
  },
  {
   "cell_type": "code",
   "execution_count": null,
   "metadata": {},
   "outputs": [],
   "source": [
    "X_train_us_embassy, X_test_us_embassy, y_train_us_embassy, y_test_us_embassy = train_test_split(X_us_embassy, y_us_embassy, test_size=0.2, random_state=0)"
   ]
  },
  {
   "cell_type": "code",
   "execution_count": null,
   "metadata": {},
   "outputs": [],
   "source": [
    "regressor_us_embassy = LinearRegression()  \n",
    "regressor_us_embassy.fit(X_train_us_embassy, y_train_us_embassy)"
   ]
  },
  {
   "cell_type": "code",
   "execution_count": null,
   "metadata": {},
   "outputs": [],
   "source": [
    "#To retrieve the intercept:\n",
    "print(regressor_us_embassy.intercept_)\n",
    "#For retrieving the slope:\n",
    "print(regressor_us_embassy.coef_)"
   ]
  },
  {
   "cell_type": "code",
   "execution_count": null,
   "metadata": {},
   "outputs": [],
   "source": [
    "y_pred_us_embassy = regressor_us_embassy.predict(X_test_us_embassy)"
   ]
  },
  {
   "cell_type": "code",
   "execution_count": null,
   "metadata": {},
   "outputs": [],
   "source": [
    "df_us_embassy = pd.DataFrame({'Actual': y_test_us_embassy.flatten(), 'Predicted': y_pred_us_embassy.flatten()})\n",
    "df_us_embassy"
   ]
  },
  {
   "cell_type": "code",
   "execution_count": null,
   "metadata": {},
   "outputs": [],
   "source": [
    "df1_us_embassy = df_us_embassy.head(25)\n",
    "df1_us_embassy.plot(kind='bar',figsize=(16,10)) \n",
    "plt.show()"
   ]
  },
  {
   "cell_type": "code",
   "execution_count": null,
   "metadata": {},
   "outputs": [],
   "source": [
    "plt.scatter(X_test_us_embassy, y_test_us_embassy,  color='steelblue')\n",
    "plt.plot(X_test_us_embassy, y_pred_us_embassy, color='crimson', linewidth=2)\n",
    "plt.show()"
   ]
  },
  {
   "cell_type": "code",
   "execution_count": null,
   "metadata": {},
   "outputs": [],
   "source": [
    "print('Mean Absolute Error:', metrics.mean_absolute_error(y_test_us_embassy, y_pred_us_embassy))  \n",
    "print('Mean Squared Error:', metrics.mean_squared_error(y_test_us_embassy, y_pred_us_embassy))  \n",
    "print('Root Mean Squared Error:', np.sqrt(metrics.mean_squared_error(y_test_us_embassy, y_pred_us_embassy)))"
   ]
  },
  {
   "cell_type": "code",
   "execution_count": null,
   "metadata": {},
   "outputs": [],
   "source": [
    "correlations_us_embassy =df_us_embassy.corr()\n",
    "correlations_us = df_us_embassy['Actual'].corr(df_us_embassy['Predicted'])\n",
    "all_features_corr = sns.heatmap(correlations_us_embassy, annot=True, cmap=plt.cm.Reds)\n",
    "plt.show()"
   ]
  },
  {
   "cell_type": "markdown",
   "metadata": {},
   "source": [
    "### Uncertainity - Hourly "
   ]
  },
  {
   "cell_type": "code",
   "execution_count": null,
   "metadata": {},
   "outputs": [],
   "source": [
    "# xx = hourly_combined_dataset_us_embassy['bam_PM2.5'].values\n",
    "# yy = hourly_combined_dataset_us_embassy['lowcost_PM2.5'].values\n",
    "# xx.shape"
   ]
  },
  {
   "cell_type": "code",
   "execution_count": null,
   "metadata": {},
   "outputs": [],
   "source": [
    "# n = len(yy)\n",
    "\n",
    "# def f(x, a, b):\n",
    "#     return a * x + b\n",
    "\n",
    "# popt, pcov = curve_fit(f, xx, yy)"
   ]
  },
  {
   "cell_type": "code",
   "execution_count": null,
   "metadata": {},
   "outputs": [],
   "source": [
    "# # retrieve parameter values\n",
    "# a = popt[0]\n",
    "# b = popt[1]\n",
    "# print('Optimal Values')\n",
    "# print('a: ' + str(a))\n",
    "# print('b: ' + str(b))"
   ]
  },
  {
   "cell_type": "code",
   "execution_count": null,
   "metadata": {},
   "outputs": [],
   "source": [
    "# # compute r^2\n",
    "# r2 = 1.0-(sum((y-f(x,a,b))**2)/((n-1.0)*np.var(y,ddof=1)))\n",
    "# print('R^2: ' + str(r2))\n",
    "\n",
    "# # calculate parameter confidence interval\n",
    "# a,b = unc.correlated_values(popt, pcov)\n",
    "# print('Uncertainty')\n",
    "# print('a: ' + str(a))\n",
    "# print('b: ' + str(b))"
   ]
  },
  {
   "cell_type": "code",
   "execution_count": null,
   "metadata": {},
   "outputs": [],
   "source": [
    "# # plot data\n",
    "# plt.scatter(x, y, s=3, label='Data')"
   ]
  },
  {
   "cell_type": "code",
   "execution_count": null,
   "metadata": {},
   "outputs": [],
   "source": [
    "# # calculate regression confidence interval\n",
    "# px = np.linspace(0, 250, 1000)\n",
    "# py = a*px+b\n",
    "# nom = unp.nominal_values(py)\n",
    "# std = unp.std_devs(py)"
   ]
  },
  {
   "cell_type": "code",
   "execution_count": null,
   "metadata": {},
   "outputs": [],
   "source": [
    "# def predband(x, xd, yd, p, func, conf=0.95):\n",
    "#     # x = requested points\n",
    "#     # xd = x data\n",
    "#     # yd = y data\n",
    "#     # p = parameters\n",
    "#     # func = function name\n",
    "#     alpha = 1.0 - conf    # significance\n",
    "#     N = xd.size          # data sample size\n",
    "#     var_n = len(p)  # number of parameters\n",
    "#     # Quantile of Student's t distribution for p=(1-alpha/2)\n",
    "#     q = stats.t.ppf(1.0 - alpha / 2.0, N - var_n)\n",
    "#     # Stdev of an individual measurement\n",
    "#     se = np.sqrt(1. / (N - var_n) * \\\n",
    "#                  np.sum((yd - func(xd, *p)) ** 2))\n",
    "#     # Auxiliary definitions\n",
    "#     sx = (x - xd.mean()) ** 2\n",
    "#     sxd = np.sum((xd - xd.mean()) ** 2)\n",
    "#     # Predicted values (best-fit model)\n",
    "#     yp = func(x, *p)\n",
    "#     # Prediction band\n",
    "#     dy = q * se * np.sqrt(1.0+ (1.0/N) + (sx/sxd))\n",
    "#     # Upper & lower prediction bands.\n",
    "#     lpb, upb = yp - dy, yp + dy\n",
    "#     return lpb, upb\n",
    "\n",
    "# lpb, upb = predband(px, x, y, popt, f, conf=0.95)"
   ]
  },
  {
   "cell_type": "code",
   "execution_count": null,
   "metadata": {},
   "outputs": [],
   "source": [
    "# # plot data\n",
    "# plt.figure(figsize=(10,6))\n",
    "# plt.scatter(x, y, s=3, label='Data')\n",
    "# # plot the regression\n",
    "# plt.plot(px, nom, c='black', label='y=a x + b')\n",
    "\n",
    "# # uncertainty lines (95% confidence)\n",
    "# plt.plot(px, nom - 1.96 * std, c='steelblue',\\\n",
    "#          label='95% Confidence Region')\n",
    "# plt.plot(px, nom + 1.96 * std, c='steelblue')\n",
    "# # prediction band (95% confidence)\n",
    "# plt.plot(px, lpb, 'k--',label='95% Prediction Band')\n",
    "# plt.plot(px, upb, 'k--')\n",
    "# plt.ylabel('y')\n",
    "# plt.xlabel('x')\n",
    "# plt.legend(loc='best')\n",
    "\n",
    "# # save and show figure\n",
    "# plt.savefig('regression.png')\n",
    "# plt.show()"
   ]
  },
  {
   "cell_type": "markdown",
   "metadata": {},
   "source": [
    "### Prediction of low cost MUK concetrations using US embassy model - hourly"
   ]
  },
  {
   "cell_type": "code",
   "execution_count": null,
   "metadata": {},
   "outputs": [],
   "source": [
    "prediction_muk = 1.3441848663111386 + 0.79561658 * y_us_embassy # prediction = regressor.intercept_ + regressor.coef_ * raw"
   ]
  },
  {
   "cell_type": "code",
   "execution_count": null,
   "metadata": {},
   "outputs": [],
   "source": [
    "df_predicted_muk = pd.DataFrame({'Actual': y_us_embassy.flatten(), 'Predicted': prediction_muk.flatten()})"
   ]
  },
  {
   "cell_type": "code",
   "execution_count": null,
   "metadata": {},
   "outputs": [],
   "source": [
    "df_predicted_muk = df_predicted_muk.head(50)\n",
    "df_predicted_muk .plot(kind='bar',figsize=(16,10)) \n",
    "\n",
    "plt.show()"
   ]
  },
  {
   "cell_type": "code",
   "execution_count": null,
   "metadata": {},
   "outputs": [],
   "source": [
    "print('Mean Absolute Error:', metrics.mean_absolute_error( y_us_embassy, prediction_muk))  \n",
    "print('Mean Squared Error:', metrics.mean_squared_error(y_us_embassy, prediction_muk))  \n",
    "print('Root Mean Squared Error:', np.sqrt(metrics.mean_squared_error(y_us_embassy, prediction_muk)))"
   ]
  },
  {
   "cell_type": "markdown",
   "metadata": {},
   "source": [
    "### Prediction of low cost US embassy concetrations using MUK model - hourly"
   ]
  },
  {
   "cell_type": "code",
   "execution_count": null,
   "metadata": {},
   "outputs": [],
   "source": [
    "prediction_us_embassy = 8.516051947603252 + 1.20927538 * y_muk # prediction = regressor.intercept_ + regressor.coef_ * raw"
   ]
  },
  {
   "cell_type": "code",
   "execution_count": null,
   "metadata": {},
   "outputs": [],
   "source": [
    "df_predicted_us_embassy = pd.DataFrame({'Actual': y_muk.flatten(), 'Predicted': prediction_us_embassy.flatten()})"
   ]
  },
  {
   "cell_type": "code",
   "execution_count": null,
   "metadata": {},
   "outputs": [],
   "source": [
    "df_predicted_us_embassy = df_predicted_us_embassy.head(50)\n",
    "df_predicted_us_embassy .plot(kind='bar',figsize=(16,10)) \n",
    "plt.show()"
   ]
  },
  {
   "cell_type": "code",
   "execution_count": null,
   "metadata": {},
   "outputs": [],
   "source": [
    "print('Mean Absolute Error:', metrics.mean_absolute_error(X_muk, prediction_us_embassy))  \n",
    "print('Mean Squared Error:', metrics.mean_squared_error(X_muk, prediction_us_embassy))  \n",
    "print('Root Mean Squared Error:', np.sqrt(metrics.mean_squared_error(X_muk, prediction_us_embassy)))"
   ]
  }
 ],
 "metadata": {
  "kernelspec": {
   "display_name": "Python 3",
   "language": "python",
   "name": "python3"
  },
  "language_info": {
   "codemirror_mode": {
    "name": "ipython",
    "version": 3
   },
   "file_extension": ".py",
   "mimetype": "text/x-python",
   "name": "python",
   "nbconvert_exporter": "python",
   "pygments_lexer": "ipython3",
   "version": "3.7.0"
  }
 },
 "nbformat": 4,
 "nbformat_minor": 2
}
