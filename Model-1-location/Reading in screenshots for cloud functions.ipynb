{
 "cells": [
  {
   "cell_type": "code",
   "execution_count": 6,
   "metadata": {},
   "outputs": [],
   "source": [
    "# Importing libraries\n",
    "import time, os\n",
    "from selenium import webdriver\n",
    "from PIL import Image"
   ]
  },
  {
   "cell_type": "code",
   "execution_count": 29,
   "metadata": {},
   "outputs": [],
   "source": [
    "def traffic_screenshot(ref, lat, long, zoom=15):\n",
    "    ##### Generate a cropped screenshot of the immediate vicinty of coordinates ####\n",
    "\n",
    "# Gets the path to the right chromedriver\n",
    "    path = 'C:\\Windows\\chromedriver'\n",
    "# Creating aurl from a list of coordinates\n",
    "    link = 'https://www.google.com/maps/@{},{},{}z/data=!5m1!1e1'.format(lat, long, zoom)\n",
    "\n",
    "# links = {'Kampala':'https://www.google.com/maps/dir/Entebbe/Kajjansi/@0.3206818,32.5481476,13.04z/data=!4m14!4m13!1m5!1m1!1s0x177d86b753c20ab3:0xa4a550c375cc2c14!2m2!1d32.463708!2d0.0511839!1m5!1m1!1s0x177d99d8aceb164f:0xb3b42975dfc7a0fa!2m2!1d32.5401025!2d0.2070254!3e0!5m1!1e1',\n",
    "#         'Entebbe_Kamapla':'http://www.google.com/maps/dir/Kololo,+Kampala/Makerere+University,+University+Rd,+Kampala/@0.1472201,32.4932571,12z/data=!4m18!4m17!1m5!1m1!1s0x177dbba2a2d9eead:0x698c319a2299b891!2m2!1d32.5949199!2d0.327297!1m5!1m1!1s0x177dbb6d88e54def:0xddc6fcfbe10b089d!2m2!1d32.5710773!2d0.3292819!2m3!6e0!7e2!8j1585202400!3e0!5m1!1e1',\n",
    "#         'Jinja_Kampala': 'https://www.google.com/maps/dir/Kololo,+Kampala/Makerere+University,+University+Rd,+Kampala/@0.3465628,32.8439372,11.48z/data=!4m18!4m17!1m5!1m1!1s0x177dbba2a2d9eead:0x698c319a2299b891!2m2!1d32.5949199!2d0.327297!1m5!1m1!1s0x177dbb6d88e54def:0xddc6fcfbe10b089d!2m2!1d32.5710773!2d0.3292819!2m3!6e0!7e2!8j1585202400!3e0!5m1!1e1'\n",
    "#         }\n",
    "# https://www.google.com/maps/@0.1472201,32.4932571,12z/data=!5m1!1e1\n",
    "\n",
    "    with webdriver.Chrome(path) as driver:\n",
    "        # ensuring the protocol is attached, this allows a www..... url to be added\n",
    "        if ((('https://') in link) | (('http://') in link)):\n",
    "            linkWithProtocol = link\n",
    "        else:\n",
    "            linkWithProtocol = 'http://' + str(link)\n",
    "        # these values represent the sizes of the entire browser window and not the viewport.\n",
    "        features = {'output': str(ref) +'.png',\n",
    "                'width': 2200,\n",
    "                'height': 1800}\n",
    "\n",
    "        # set the window size\n",
    "        driver.set_window_size(features['width'], features['height'])\n",
    "        driver.get(linkWithProtocol)\n",
    "        time.sleep(8)\n",
    "        \n",
    "        driver.save_screenshot(features['output'])\n",
    "        \n",
    "        im = Image.open(features['output']) # uses PIL library to open image in memory\n",
    "\n",
    "        left = 550\n",
    "        top= 50\n",
    "        right = 1925\n",
    "        bottom = 939\n",
    "        \n",
    "        im1 = im.crop((left, top, right, bottom)) # defines crop points starting top left\n",
    "#         im1.show()  \n",
    "\n",
    "        timestr = time.strftime(\"%Y-%m-%d %H-%M\")\n",
    "        im1.save( str(ref) +'_' +str(timestr) +\".png\")\n"
   ]
  },
  {
   "cell_type": "code",
   "execution_count": 28,
   "metadata": {},
   "outputs": [],
   "source": [
    "# Create a dict of all location references and coordinates in addition to the three named here\n",
    "locations_dict ={'Kampala': [0.3206818,32.5481476,13.04], \n",
    "                 'Entebbe_Kampala': [0.1472201,32.4932571,12],\n",
    "                 'Jinja_Kampala': [0.3465628,32.8439372,11.48]\n",
    "                }\n",
    "\n",
    "# locations_dict ={'loc_01': [0.2519447,32.5139749], 'loc_02': [0.3605524,32.7389841]}\n",
    "\n",
    "for key, value in locations_dict.items():\n",
    "    traffic_screenshot(key, value[0], value[1], value[2])"
   ]
  },
  {
   "cell_type": "code",
   "execution_count": null,
   "metadata": {},
   "outputs": [],
   "source": []
  },
  {
   "cell_type": "code",
   "execution_count": null,
   "metadata": {},
   "outputs": [],
   "source": []
  },
  {
   "cell_type": "code",
   "execution_count": null,
   "metadata": {},
   "outputs": [],
   "source": []
  }
 ],
 "metadata": {
  "kernelspec": {
   "display_name": "Python 3",
   "language": "python",
   "name": "python3"
  },
  "language_info": {
   "codemirror_mode": {
    "name": "ipython",
    "version": 3
   },
   "file_extension": ".py",
   "mimetype": "text/x-python",
   "name": "python",
   "nbconvert_exporter": "python",
   "pygments_lexer": "ipython3",
   "version": "3.7.4"
  }
 },
 "nbformat": 4,
 "nbformat_minor": 2
}
