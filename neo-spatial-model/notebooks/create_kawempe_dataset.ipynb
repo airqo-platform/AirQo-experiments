{
 "cells": [
  {
   "cell_type": "code",
   "execution_count": null,
   "id": "82dfab5a",
   "metadata": {},
   "outputs": [],
   "source": [
    "#importing packages\n",
    "import pandas as pd\n",
    "import sys\n",
    "sys.path.append('..')\n",
    "from scripts.get_data import get_pm_data"
   ]
  },
  {
   "cell_type": "code",
   "execution_count": null,
   "id": "566afa59",
   "metadata": {},
   "outputs": [],
   "source": [
    "#ids and location names of devices in Kawempe AirQloud\n",
    "kawempe_names = {'loc_54':832254, 'loc_76':930431, 'loc_80':1014691, 'loc_89':1351535, 'loc_90':1351540, \n",
    "                 'loc_91':1351542, 'loc_92':1351543, 'loc_93':1351546, 'loc_94':1014687, 'KCCA_KWPE_AQ01':'ANQ16PZJ', \n",
    "                 'KCCA_KWPE_AQ02': 'ALS2LCWY', 'KCCA_KWPE_AQ03':'AB6051M4', 'KCCA_KWPE_AQ04':'AW66FF7V', \n",
    "                 'KCCA_KWPE_AQ05': 'A743BPWK'}"
   ]
  },
  {
   "cell_type": "code",
   "execution_count": null,
   "id": "2ecf1ae4",
   "metadata": {},
   "outputs": [],
   "source": [
    "#array to hold all devices' data\n",
    "final_records = []"
   ]
  },
  {
   "cell_type": "code",
   "execution_count": null,
   "id": "1585e459",
   "metadata": {},
   "outputs": [],
   "source": [
    "#iterating through all devices and get their data\n",
    "for loc, device in kawempe_names.items():\n",
    "    print(f'Device {device}')\n",
    "    if 'KCCA' in loc:\n",
    "        pass\n",
    "    else:\n",
    "        pm_data = get_pm_data(device, 'airqo')\n",
    "        final_records.extend(pm_data)\n",
    "len(final_records)"
   ]
  },
  {
   "cell_type": "code",
   "execution_count": null,
   "id": "402066f9",
   "metadata": {},
   "outputs": [],
   "source": [
    "#Creating a dataframe of the data\n",
    "df = pd.DataFrame(final_records)\n",
    "df['time'] = pd.to_datetime(df['time'])\n",
    "df.head()"
   ]
  },
  {
   "cell_type": "code",
   "execution_count": null,
   "id": "74234f50",
   "metadata": {},
   "outputs": [],
   "source": [
    "#Creating csv file\n",
    "df.to_csv('final_data.csv', index=False)"
   ]
  }
 ],
 "metadata": {
  "kernelspec": {
   "display_name": "Python 3",
   "language": "python",
   "name": "python3"
  },
  "language_info": {
   "codemirror_mode": {
    "name": "ipython",
    "version": 3
   },
   "file_extension": ".py",
   "mimetype": "text/x-python",
   "name": "python",
   "nbconvert_exporter": "python",
   "pygments_lexer": "ipython3",
   "version": "3.7.4"
  }
 },
 "nbformat": 4,
 "nbformat_minor": 5
}
