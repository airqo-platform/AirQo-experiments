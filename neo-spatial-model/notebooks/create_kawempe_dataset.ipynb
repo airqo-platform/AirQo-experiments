{
 "cells": [
  {
   "cell_type": "code",
   "execution_count": 3,
   "metadata": {},
   "outputs": [
    {
     "ename": "ImportError",
     "evalue": "cannot import name 'get_data' from 'scripts' (C:\\Users\\User\\Anaconda3\\lib\\site-packages\\scripts\\__init__.py)",
     "output_type": "error",
     "traceback": [
      "\u001b[1;31m---------------------------------------------------------------------------\u001b[0m",
      "\u001b[1;31mImportError\u001b[0m                               Traceback (most recent call last)",
      "\u001b[1;32m<ipython-input-3-134c30f2a382>\u001b[0m in \u001b[0;36m<module>\u001b[1;34m\u001b[0m\n\u001b[0;32m      3\u001b[0m \u001b[1;32mimport\u001b[0m \u001b[0msys\u001b[0m\u001b[1;33m\u001b[0m\u001b[1;33m\u001b[0m\u001b[0m\n\u001b[0;32m      4\u001b[0m \u001b[0msys\u001b[0m\u001b[1;33m.\u001b[0m\u001b[0mpath\u001b[0m\u001b[1;33m.\u001b[0m\u001b[0mappend\u001b[0m\u001b[1;33m(\u001b[0m\u001b[1;34m'..'\u001b[0m\u001b[1;33m)\u001b[0m\u001b[1;33m\u001b[0m\u001b[1;33m\u001b[0m\u001b[0m\n\u001b[1;32m----> 5\u001b[1;33m \u001b[1;32mfrom\u001b[0m \u001b[0mscripts\u001b[0m \u001b[1;32mimport\u001b[0m \u001b[0mget_data\u001b[0m\u001b[1;33m\u001b[0m\u001b[1;33m\u001b[0m\u001b[0m\n\u001b[0m\u001b[0;32m      6\u001b[0m \u001b[1;32mfrom\u001b[0m \u001b[0mscripts\u001b[0m\u001b[1;33m.\u001b[0m\u001b[0mget_data\u001b[0m \u001b[1;32mimport\u001b[0m \u001b[0mget_pm_data\u001b[0m\u001b[1;33m\u001b[0m\u001b[1;33m\u001b[0m\u001b[0m\n",
      "\u001b[1;31mImportError\u001b[0m: cannot import name 'get_data' from 'scripts' (C:\\Users\\User\\Anaconda3\\lib\\site-packages\\scripts\\__init__.py)"
     ]
    }
   ],
   "source": [
    "#importing packages\n",
    "import pandas as pd\n",
    "import sys\n",
    "sys.path.append('..')\n",
    "from scripts import get_data\n",
    "from scripts.get_data import get_pm_data"
   ]
  },
  {
   "cell_type": "code",
   "execution_count": null,
   "metadata": {},
   "outputs": [],
   "source": [
    "#ids and location names of devices in Kawempe AirQloud\n",
    "kawempe_names = {'loc_54':832254, 'loc_76':930431, 'loc_80':1014691, 'loc_89':1351535, 'loc_90':1351540, \n",
    "                 'loc_91':1351542, 'loc_92':1351543, 'loc_93':1351546, 'loc_94':1014687, 'KCCA_KWPE_AQ01':'ANQ16PZJ', \n",
    "                 'KCCA_KWPE_AQ02': 'ALS2LCWY', 'KCCA_KWPE_AQ03':'AB6051M4', 'KCCA_KWPE_AQ04':'AW66FF7V', \n",
    "                 'KCCA_KWPE_AQ05': 'A743BPWK'}"
   ]
  },
  {
   "cell_type": "code",
   "execution_count": null,
   "metadata": {},
   "outputs": [],
   "source": [
    "#array to hold all devices' data\n",
    "final_records = []"
   ]
  },
  {
   "cell_type": "code",
   "execution_count": null,
   "metadata": {},
   "outputs": [],
   "source": [
    "#iterating through all devices and getting their data\n",
    "for loc, device in kawempe_names.items():\n",
    "    print(f'Device {device}')\n",
    "    if 'KCCA' in loc:\n",
    "        owner = 'kcca'\n",
    "    else:\n",
    "        owner = 'airqo'\n",
    "    pm_data = get_pm_data(device, owner)\n",
    "    final_records.extend(pm_data)\n",
    "len(final_records)"
   ]
  },
  {
   "cell_type": "code",
   "execution_count": null,
   "metadata": {},
   "outputs": [],
   "source": [
    "#Creating a dataframe of the data\n",
    "df = pd.DataFrame(final_records)\n",
    "df['time'] = pd.to_datetime(df['time'])\n",
    "df.head()"
   ]
  },
  {
   "cell_type": "code",
   "execution_count": null,
   "metadata": {},
   "outputs": [],
   "source": [
    "#Creating csv file\n",
    "df.to_csv('../data/raw/final_data.csv', index=False)"
   ]
  }
 ],
 "metadata": {
  "kernelspec": {
   "display_name": "Python 3",
   "language": "python",
   "name": "python3"
  }
 },
 "nbformat": 4,
 "nbformat_minor": 5
}
