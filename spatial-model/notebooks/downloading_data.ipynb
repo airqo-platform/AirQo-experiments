{
 "cells": [
  {
   "cell_type": "code",
   "execution_count": 9,
   "id": "515dec69",
   "metadata": {},
   "outputs": [],
   "source": [
    "import sys\n",
    "sys.path.append('..')\n",
    "from scripts.predict import get_location_data\n",
    "from scripts.download_data import get_entries_since, preprocessing\n",
    "from google.cloud import bigquery\n",
    "import numpy as np\n",
    "import pickle"
   ]
  },
  {
   "cell_type": "code",
   "execution_count": 3,
   "id": "f0874abd",
   "metadata": {},
   "outputs": [
    {
     "data": {
      "text/html": [
       "<div>\n",
       "<style scoped>\n",
       "    .dataframe tbody tr th:only-of-type {\n",
       "        vertical-align: middle;\n",
       "    }\n",
       "\n",
       "    .dataframe tbody tr th {\n",
       "        vertical-align: top;\n",
       "    }\n",
       "\n",
       "    .dataframe thead th {\n",
       "        text-align: right;\n",
       "    }\n",
       "</style>\n",
       "<table border=\"1\" class=\"dataframe\">\n",
       "  <thead>\n",
       "    <tr style=\"text-align: right;\">\n",
       "      <th></th>\n",
       "      <th>location</th>\n",
       "      <th>id</th>\n",
       "      <th>lat</th>\n",
       "      <th>long</th>\n",
       "    </tr>\n",
       "  </thead>\n",
       "  <tbody>\n",
       "    <tr>\n",
       "      <th>0</th>\n",
       "      <td>Ntinda</td>\n",
       "      <td>930434</td>\n",
       "      <td>0.360209</td>\n",
       "      <td>32.610756</td>\n",
       "    </tr>\n",
       "    <tr>\n",
       "      <th>1</th>\n",
       "      <td>Bugolobi</td>\n",
       "      <td>718028</td>\n",
       "      <td>0.307500</td>\n",
       "      <td>32.620600</td>\n",
       "    </tr>\n",
       "    <tr>\n",
       "      <th>2</th>\n",
       "      <td>Nantabulirwa</td>\n",
       "      <td>912224</td>\n",
       "      <td>0.346460</td>\n",
       "      <td>32.703280</td>\n",
       "    </tr>\n",
       "    <tr>\n",
       "      <th>3</th>\n",
       "      <td>Kireka</td>\n",
       "      <td>930426</td>\n",
       "      <td>0.365500</td>\n",
       "      <td>32.646800</td>\n",
       "    </tr>\n",
       "    <tr>\n",
       "      <th>4</th>\n",
       "      <td>Luwafu</td>\n",
       "      <td>930427</td>\n",
       "      <td>0.268900</td>\n",
       "      <td>32.588000</td>\n",
       "    </tr>\n",
       "  </tbody>\n",
       "</table>\n",
       "</div>"
      ],
      "text/plain": [
       "       location      id       lat       long\n",
       "0        Ntinda  930434  0.360209  32.610756\n",
       "1      Bugolobi  718028  0.307500  32.620600\n",
       "2  Nantabulirwa  912224  0.346460  32.703280\n",
       "3        Kireka  930426  0.365500  32.646800\n",
       "4        Luwafu  930427  0.268900  32.588000"
      ]
     },
     "execution_count": 3,
     "metadata": {},
     "output_type": "execute_result"
    }
   ],
   "source": [
    "locations_df = get_location_data('../data/raw/channels.csv', ['location', 'id', 'lat', 'long'])\n",
    "locations_df.head()"
   ]
  },
  {
   "cell_type": "code",
   "execution_count": 4,
   "id": "a691c2c0",
   "metadata": {},
   "outputs": [
    {
     "data": {
      "text/plain": [
       "37"
      ]
     },
     "execution_count": 4,
     "metadata": {},
     "output_type": "execute_result"
    }
   ],
   "source": [
    "channels = list(locations_df.id)\n",
    "len(channels)"
   ]
  },
  {
   "cell_type": "code",
   "execution_count": 5,
   "id": "a14df662",
   "metadata": {},
   "outputs": [],
   "source": [
    "#Arrays to hold X and Y data\n",
    "X = np.zeros([0,3])\n",
    "Y = np.zeros([0,1])"
   ]
  },
  {
   "cell_type": "code",
   "execution_count": 6,
   "id": "97f00eb3",
   "metadata": {},
   "outputs": [
    {
     "name": "stdout",
     "output_type": "stream",
     "text": [
      "930434:done!\n",
      "718028:done!\n",
      "912224:done!\n",
      "930426:done!\n",
      "930427:done!\n",
      "912223:done!\n",
      "912222:empty!\n",
      "912220:done!\n",
      "870145:done!\n",
      "870143:done!\n",
      "870144:empty!\n",
      "870147:done!\n",
      "870142:done!\n",
      "870139:done!\n",
      "832255:empty!\n",
      "832252:empty!\n",
      "832253:done!\n",
      "832254:done!\n",
      "832251:empty!\n",
      "782720:done!\n",
      "782719:done!\n",
      "782718:done!\n",
      "755614:done!\n",
      "755612:done!\n",
      "870146:done!\n",
      "737276:empty!\n",
      "737273:done!\n",
      "689761:done!\n",
      "718029:done!\n",
      "718030:done!\n",
      "730014:done!\n",
      "782721:done!\n",
      "782722:done!\n",
      "912219:empty!\n",
      "912221:done!\n",
      "912225:done!\n",
      "930429:done!\n"
     ]
    }
   ],
   "source": [
    "for chan in channels:\n",
    "        d = get_entries_since(chan)\n",
    "        if d.shape[0]!=0:\n",
    "            d = preprocessing(d)\n",
    "            #loc = get_loc(chan)\n",
    "            loc = locations_df.loc[locations_df['id'] == chan, ['id', 'lat', 'long']]\n",
    "            loc = loc[['id', 'long', 'lat']]\n",
    "                \n",
    "            Xchan = np.c_[np.repeat(np.array(loc)[:,1:],d.shape[0],0),[n.timestamp()/3600 for n in d['created_at']]]\n",
    "                \n",
    "            Ychan = np.array(d['pm2_5'])\n",
    "            X = np.r_[X,Xchan]#appending device X data to array X\n",
    "            Y = np.r_[Y,Ychan[:, None]]#appending device Y data to array Y\n",
    "            print (str(chan)+':done!')\n",
    "        else:\n",
    "            print(str(chan)+':empty!')"
   ]
  },
  {
   "cell_type": "code",
   "execution_count": 11,
   "id": "157ee9bc",
   "metadata": {},
   "outputs": [],
   "source": [
    "pickle.dump({'X':X,'Y':Y},open('../data/raw/data.p','wb'))"
   ]
  }
 ],
 "metadata": {
  "kernelspec": {
   "display_name": "Python 3",
   "language": "python",
   "name": "python3"
  },
  "language_info": {
   "codemirror_mode": {
    "name": "ipython",
    "version": 3
   },
   "file_extension": ".py",
   "mimetype": "text/x-python",
   "name": "python",
   "nbconvert_exporter": "python",
   "pygments_lexer": "ipython3",
   "version": "3.7.4"
  }
 },
 "nbformat": 4,
 "nbformat_minor": 5
}
