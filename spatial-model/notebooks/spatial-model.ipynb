{
 "cells": [
  {
   "cell_type": "code",
   "execution_count": 1,
   "id": "83e1f1a5",
   "metadata": {},
   "outputs": [
    {
     "ename": "ImportError",
     "evalue": "cannot import name 'download_data' from 'scripts' (unknown location)",
     "output_type": "error",
     "traceback": [
      "\u001b[1;31m---------------------------------------------------------------------------\u001b[0m",
      "\u001b[1;31mImportError\u001b[0m                               Traceback (most recent call last)",
      "\u001b[1;32m<ipython-input-1-c20e8e835d5f>\u001b[0m in \u001b[0;36m<module>\u001b[1;34m\u001b[0m\n\u001b[1;32m----> 1\u001b[1;33m \u001b[1;32mfrom\u001b[0m \u001b[0mscripts\u001b[0m \u001b[1;32mimport\u001b[0m \u001b[0mdownload_data\u001b[0m\u001b[1;33m,\u001b[0m \u001b[0mpredict\u001b[0m\u001b[1;33m\u001b[0m\u001b[1;33m\u001b[0m\u001b[0m\n\u001b[0m",
      "\u001b[1;31mImportError\u001b[0m: cannot import name 'download_data' from 'scripts' (unknown location)"
     ]
    }
   ],
   "source": [
    "from scripts import download_data, predict"
   ]
  },
  {
   "cell_type": "code",
   "execution_count": null,
   "id": "47ddb48a",
   "metadata": {},
   "outputs": [],
   "source": [
    "locations_df = predict.get_location_data('data/raw/channels.csv', ['location', 'id', 'lat', 'long'])\n",
    "    channels = list(locations_df.id)\n",
    "    client = bigquery.Client.from_service_account_json(\"C:/Users/User/AirQo-d982995f6dd8.json\")\n",
    "    download_all_data()"
   ]
  }
 ],
 "metadata": {
  "kernelspec": {
   "display_name": "Python 3",
   "language": "python",
   "name": "python3"
  },
  "language_info": {
   "codemirror_mode": {
    "name": "ipython",
    "version": 3
   },
   "file_extension": ".py",
   "mimetype": "text/x-python",
   "name": "python",
   "nbconvert_exporter": "python",
   "pygments_lexer": "ipython3",
   "version": "3.7.4"
  }
 },
 "nbformat": 4,
 "nbformat_minor": 5
}
