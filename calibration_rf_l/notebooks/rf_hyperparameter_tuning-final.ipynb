{
 "cells": [
  {
   "cell_type": "code",
   "execution_count": 2,
   "metadata": {},
   "outputs": [],
   "source": [
    "import pandas as pd\n",
    "import numpy as np\n",
    "import joblib\n",
    "from datetime import datetime\n",
    "from sklearn.metrics import mean_squared_error\n",
    "from sklearn.model_selection import train_test_split, RandomizedSearchCV, GridSearchCV\n",
    "from sklearn.feature_selection import SelectFromModel\n",
    "from sklearn.ensemble import RandomForestRegressor\n",
    "from pandas import Timestamp\n",
    "from functools import partial\n",
    "from hyperopt import hp, fmin, tpe, Trials\n",
    "from hyperopt.pyll.base import scope\n",
    "import sys\n",
    "sys.path.append('..')\n",
    "from src.helpers import get_data, clean_data, split_data, train_model, save_model, predict\n",
    "import matplotlib.pyplot as plt\n",
    "%matplotlib inline"
   ]
  },
  {
   "cell_type": "code",
   "execution_count": 3,
   "metadata": {},
   "outputs": [
    {
     "data": {
      "text/html": [
       "<div>\n",
       "<style scoped>\n",
       "    .dataframe tbody tr th:only-of-type {\n",
       "        vertical-align: middle;\n",
       "    }\n",
       "\n",
       "    .dataframe tbody tr th {\n",
       "        vertical-align: top;\n",
       "    }\n",
       "\n",
       "    .dataframe thead th {\n",
       "        text-align: right;\n",
       "    }\n",
       "</style>\n",
       "<table border=\"1\" class=\"dataframe\">\n",
       "  <thead>\n",
       "    <tr style=\"text-align: right;\">\n",
       "      <th></th>\n",
       "      <th>created_at</th>\n",
       "      <th>site</th>\n",
       "      <th>pm2_5</th>\n",
       "      <th>pm10</th>\n",
       "      <th>s2_pm2_5</th>\n",
       "      <th>s2_pm10</th>\n",
       "      <th>humidity</th>\n",
       "      <th>temp</th>\n",
       "      <th>lat</th>\n",
       "      <th>long</th>\n",
       "      <th>altitude</th>\n",
       "      <th>greenness</th>\n",
       "      <th>landform_90m</th>\n",
       "      <th>landform_270m</th>\n",
       "      <th>population</th>\n",
       "      <th>dist_major_road</th>\n",
       "      <th>ref_pm2_5</th>\n",
       "    </tr>\n",
       "  </thead>\n",
       "  <tbody>\n",
       "    <tr>\n",
       "      <th>0</th>\n",
       "      <td>2019-12-02 08:00:00+03:00</td>\n",
       "      <td>USEmbassy</td>\n",
       "      <td>74.088667</td>\n",
       "      <td>83.767111</td>\n",
       "      <td>0.000000</td>\n",
       "      <td>0.000000</td>\n",
       "      <td>0.962917</td>\n",
       "      <td>21.475000</td>\n",
       "      <td>0.299255</td>\n",
       "      <td>32.592686</td>\n",
       "      <td>1199</td>\n",
       "      <td>4374</td>\n",
       "      <td>21</td>\n",
       "      <td>14</td>\n",
       "      <td>6834</td>\n",
       "      <td>130</td>\n",
       "      <td>95.0</td>\n",
       "    </tr>\n",
       "    <tr>\n",
       "      <th>1</th>\n",
       "      <td>2020-03-17 02:00:00+03:00</td>\n",
       "      <td>USEmbassy</td>\n",
       "      <td>88.350233</td>\n",
       "      <td>96.003023</td>\n",
       "      <td>86.993256</td>\n",
       "      <td>107.929767</td>\n",
       "      <td>0.967667</td>\n",
       "      <td>19.233333</td>\n",
       "      <td>0.299255</td>\n",
       "      <td>32.592686</td>\n",
       "      <td>1199</td>\n",
       "      <td>4374</td>\n",
       "      <td>21</td>\n",
       "      <td>14</td>\n",
       "      <td>6834</td>\n",
       "      <td>130</td>\n",
       "      <td>139.0</td>\n",
       "    </tr>\n",
       "    <tr>\n",
       "      <th>2</th>\n",
       "      <td>2019-10-13 05:00:00+03:00</td>\n",
       "      <td>USEmbassy</td>\n",
       "      <td>47.540513</td>\n",
       "      <td>58.672308</td>\n",
       "      <td>48.684103</td>\n",
       "      <td>60.505128</td>\n",
       "      <td>0.999250</td>\n",
       "      <td>18.916667</td>\n",
       "      <td>0.299255</td>\n",
       "      <td>32.592686</td>\n",
       "      <td>1199</td>\n",
       "      <td>4374</td>\n",
       "      <td>21</td>\n",
       "      <td>14</td>\n",
       "      <td>6834</td>\n",
       "      <td>130</td>\n",
       "      <td>46.0</td>\n",
       "    </tr>\n",
       "    <tr>\n",
       "      <th>3</th>\n",
       "      <td>2020-04-04 11:00:00+03:00</td>\n",
       "      <td>USEmbassy</td>\n",
       "      <td>24.567619</td>\n",
       "      <td>27.151429</td>\n",
       "      <td>23.406667</td>\n",
       "      <td>27.316429</td>\n",
       "      <td>0.783500</td>\n",
       "      <td>25.475000</td>\n",
       "      <td>0.299255</td>\n",
       "      <td>32.592686</td>\n",
       "      <td>1199</td>\n",
       "      <td>4374</td>\n",
       "      <td>21</td>\n",
       "      <td>14</td>\n",
       "      <td>6834</td>\n",
       "      <td>130</td>\n",
       "      <td>33.0</td>\n",
       "    </tr>\n",
       "    <tr>\n",
       "      <th>4</th>\n",
       "      <td>2020-03-22 20:00:00+03:00</td>\n",
       "      <td>USEmbassy</td>\n",
       "      <td>46.644857</td>\n",
       "      <td>57.555143</td>\n",
       "      <td>46.195143</td>\n",
       "      <td>60.075714</td>\n",
       "      <td>0.721833</td>\n",
       "      <td>22.916667</td>\n",
       "      <td>0.299255</td>\n",
       "      <td>32.592686</td>\n",
       "      <td>1199</td>\n",
       "      <td>4374</td>\n",
       "      <td>21</td>\n",
       "      <td>14</td>\n",
       "      <td>6834</td>\n",
       "      <td>130</td>\n",
       "      <td>60.0</td>\n",
       "    </tr>\n",
       "  </tbody>\n",
       "</table>\n",
       "</div>"
      ],
      "text/plain": [
       "                  created_at       site      pm2_5       pm10   s2_pm2_5  \\\n",
       "0  2019-12-02 08:00:00+03:00  USEmbassy  74.088667  83.767111   0.000000   \n",
       "1  2020-03-17 02:00:00+03:00  USEmbassy  88.350233  96.003023  86.993256   \n",
       "2  2019-10-13 05:00:00+03:00  USEmbassy  47.540513  58.672308  48.684103   \n",
       "3  2020-04-04 11:00:00+03:00  USEmbassy  24.567619  27.151429  23.406667   \n",
       "4  2020-03-22 20:00:00+03:00  USEmbassy  46.644857  57.555143  46.195143   \n",
       "\n",
       "      s2_pm10  humidity       temp       lat       long  altitude  greenness  \\\n",
       "0    0.000000  0.962917  21.475000  0.299255  32.592686      1199       4374   \n",
       "1  107.929767  0.967667  19.233333  0.299255  32.592686      1199       4374   \n",
       "2   60.505128  0.999250  18.916667  0.299255  32.592686      1199       4374   \n",
       "3   27.316429  0.783500  25.475000  0.299255  32.592686      1199       4374   \n",
       "4   60.075714  0.721833  22.916667  0.299255  32.592686      1199       4374   \n",
       "\n",
       "   landform_90m  landform_270m  population  dist_major_road  ref_pm2_5  \n",
       "0            21             14        6834              130       95.0  \n",
       "1            21             14        6834              130      139.0  \n",
       "2            21             14        6834              130       46.0  \n",
       "3            21             14        6834              130       33.0  \n",
       "4            21             14        6834              130       60.0  "
      ]
     },
     "execution_count": 3,
     "metadata": {},
     "output_type": "execute_result"
    }
   ],
   "source": [
    "train_set = get_data('../data/raw/train_set.csv')\n",
    "train_set.head()"
   ]
  },
  {
   "cell_type": "code",
   "execution_count": 4,
   "metadata": {},
   "outputs": [
    {
     "data": {
      "text/html": [
       "<div>\n",
       "<style scoped>\n",
       "    .dataframe tbody tr th:only-of-type {\n",
       "        vertical-align: middle;\n",
       "    }\n",
       "\n",
       "    .dataframe tbody tr th {\n",
       "        vertical-align: top;\n",
       "    }\n",
       "\n",
       "    .dataframe thead th {\n",
       "        text-align: right;\n",
       "    }\n",
       "</style>\n",
       "<table border=\"1\" class=\"dataframe\">\n",
       "  <thead>\n",
       "    <tr style=\"text-align: right;\">\n",
       "      <th></th>\n",
       "      <th>pm2_5</th>\n",
       "      <th>pm10</th>\n",
       "      <th>s2_pm2_5</th>\n",
       "      <th>s2_pm10</th>\n",
       "      <th>humidity</th>\n",
       "      <th>temp</th>\n",
       "      <th>lat</th>\n",
       "      <th>long</th>\n",
       "      <th>altitude</th>\n",
       "      <th>greenness</th>\n",
       "      <th>landform_270m</th>\n",
       "      <th>population</th>\n",
       "      <th>ref_pm2_5</th>\n",
       "      <th>hour_of_day</th>\n",
       "    </tr>\n",
       "  </thead>\n",
       "  <tbody>\n",
       "    <tr>\n",
       "      <th>0</th>\n",
       "      <td>74.088667</td>\n",
       "      <td>83.767111</td>\n",
       "      <td>74.088667</td>\n",
       "      <td>83.767111</td>\n",
       "      <td>0.962917</td>\n",
       "      <td>21.475000</td>\n",
       "      <td>0.299255</td>\n",
       "      <td>32.592686</td>\n",
       "      <td>1199</td>\n",
       "      <td>4374</td>\n",
       "      <td>14</td>\n",
       "      <td>6834</td>\n",
       "      <td>95.0</td>\n",
       "      <td>8</td>\n",
       "    </tr>\n",
       "    <tr>\n",
       "      <th>1</th>\n",
       "      <td>88.350233</td>\n",
       "      <td>96.003023</td>\n",
       "      <td>86.993256</td>\n",
       "      <td>107.929767</td>\n",
       "      <td>0.967667</td>\n",
       "      <td>19.233333</td>\n",
       "      <td>0.299255</td>\n",
       "      <td>32.592686</td>\n",
       "      <td>1199</td>\n",
       "      <td>4374</td>\n",
       "      <td>14</td>\n",
       "      <td>6834</td>\n",
       "      <td>139.0</td>\n",
       "      <td>2</td>\n",
       "    </tr>\n",
       "    <tr>\n",
       "      <th>2</th>\n",
       "      <td>47.540513</td>\n",
       "      <td>58.672308</td>\n",
       "      <td>48.684103</td>\n",
       "      <td>60.505128</td>\n",
       "      <td>0.999250</td>\n",
       "      <td>18.916667</td>\n",
       "      <td>0.299255</td>\n",
       "      <td>32.592686</td>\n",
       "      <td>1199</td>\n",
       "      <td>4374</td>\n",
       "      <td>14</td>\n",
       "      <td>6834</td>\n",
       "      <td>46.0</td>\n",
       "      <td>5</td>\n",
       "    </tr>\n",
       "    <tr>\n",
       "      <th>3</th>\n",
       "      <td>24.567619</td>\n",
       "      <td>27.151429</td>\n",
       "      <td>23.406667</td>\n",
       "      <td>27.316429</td>\n",
       "      <td>0.783500</td>\n",
       "      <td>25.475000</td>\n",
       "      <td>0.299255</td>\n",
       "      <td>32.592686</td>\n",
       "      <td>1199</td>\n",
       "      <td>4374</td>\n",
       "      <td>14</td>\n",
       "      <td>6834</td>\n",
       "      <td>33.0</td>\n",
       "      <td>11</td>\n",
       "    </tr>\n",
       "    <tr>\n",
       "      <th>4</th>\n",
       "      <td>46.644857</td>\n",
       "      <td>57.555143</td>\n",
       "      <td>46.195143</td>\n",
       "      <td>60.075714</td>\n",
       "      <td>0.721833</td>\n",
       "      <td>22.916667</td>\n",
       "      <td>0.299255</td>\n",
       "      <td>32.592686</td>\n",
       "      <td>1199</td>\n",
       "      <td>4374</td>\n",
       "      <td>14</td>\n",
       "      <td>6834</td>\n",
       "      <td>60.0</td>\n",
       "      <td>20</td>\n",
       "    </tr>\n",
       "  </tbody>\n",
       "</table>\n",
       "</div>"
      ],
      "text/plain": [
       "       pm2_5       pm10   s2_pm2_5     s2_pm10  humidity       temp       lat  \\\n",
       "0  74.088667  83.767111  74.088667   83.767111  0.962917  21.475000  0.299255   \n",
       "1  88.350233  96.003023  86.993256  107.929767  0.967667  19.233333  0.299255   \n",
       "2  47.540513  58.672308  48.684103   60.505128  0.999250  18.916667  0.299255   \n",
       "3  24.567619  27.151429  23.406667   27.316429  0.783500  25.475000  0.299255   \n",
       "4  46.644857  57.555143  46.195143   60.075714  0.721833  22.916667  0.299255   \n",
       "\n",
       "        long  altitude  greenness  landform_270m  population  ref_pm2_5  \\\n",
       "0  32.592686      1199       4374             14        6834       95.0   \n",
       "1  32.592686      1199       4374             14        6834      139.0   \n",
       "2  32.592686      1199       4374             14        6834       46.0   \n",
       "3  32.592686      1199       4374             14        6834       33.0   \n",
       "4  32.592686      1199       4374             14        6834       60.0   \n",
       "\n",
       "   hour_of_day  \n",
       "0            8  \n",
       "1            2  \n",
       "2            5  \n",
       "3           11  \n",
       "4           20  "
      ]
     },
     "execution_count": 4,
     "metadata": {},
     "output_type": "execute_result"
    }
   ],
   "source": [
    "train_set = clean_data(train_set)\n",
    "train_set.head()"
   ]
  },
  {
   "cell_type": "code",
   "execution_count": 5,
   "metadata": {},
   "outputs": [],
   "source": [
    "X = train_set.drop(columns = ['ref_pm2_5'], axis=1)\n",
    "y = train_set['ref_pm2_5']"
   ]
  },
  {
   "cell_type": "code",
   "execution_count": 6,
   "metadata": {},
   "outputs": [],
   "source": [
    "Xtrain, Xtest, ytrain, ytest = split_data(X, y)"
   ]
  },
  {
   "cell_type": "code",
   "execution_count": 7,
   "metadata": {},
   "outputs": [],
   "source": [
    "rfr = RandomForestRegressor()"
   ]
  },
  {
   "cell_type": "code",
   "execution_count": 8,
   "metadata": {},
   "outputs": [],
   "source": [
    "train_model(rfr, Xtrain, ytrain)"
   ]
  },
  {
   "cell_type": "code",
   "execution_count": 9,
   "metadata": {},
   "outputs": [],
   "source": [
    "save_model(rfr, '../models/rfr_default.joblib')"
   ]
  },
  {
   "cell_type": "code",
   "execution_count": 10,
   "metadata": {},
   "outputs": [
    {
     "data": {
      "text/plain": [
       "13.37"
      ]
     },
     "execution_count": 10,
     "metadata": {},
     "output_type": "execute_result"
    }
   ],
   "source": [
    "rmse, ypred = predict(rfr, Xtest, ytest)\n",
    "rmse"
   ]
  },
  {
   "cell_type": "markdown",
   "metadata": {},
   "source": [
    "#### Hyperopt"
   ]
  },
  {
   "cell_type": "code",
   "execution_count": 11,
   "metadata": {},
   "outputs": [],
   "source": [
    "space = {\n",
    "    'n_estimators':scope.int(hp.quniform('n_estimators', 100, 500, 1)),\n",
    "    'max_depth': scope.int(hp.quniform('max_depth', 1, 30, 1)),\n",
    "    'min_samples_leaf': scope.int(hp.quniform('min_samples_leaf', 1, 20, 1)),\n",
    "    'min_samples_split':scope.int(hp.quniform('min_samples_split', 1, 100, 1)),\n",
    "    'max_features': hp.choice('max_features', ['log2', 'sqrt', 'auto']),\n",
    "    'oob_score': hp.choice('oob_score', [True, False])\n",
    "    \n",
    "}"
   ]
  },
  {
   "cell_type": "code",
   "execution_count": 12,
   "metadata": {},
   "outputs": [],
   "source": [
    "def optimize(params):\n",
    "    model = RandomForestRegressor(**params)\n",
    "    model.fit(Xtrain, ytrain)\n",
    "    ypred = model.predict(Xtest)\n",
    "    rmse = mean_squared_error(ytest, ypred, squared=False)\n",
    "    return -1*rmse"
   ]
  },
  {
   "cell_type": "code",
   "execution_count": 13,
   "metadata": {},
   "outputs": [],
   "source": [
    "optimization_function = partial(optimize)"
   ]
  },
  {
   "cell_type": "code",
   "execution_count": 14,
   "metadata": {},
   "outputs": [],
   "source": [
    "trials = Trials()"
   ]
  },
  {
   "cell_type": "code",
   "execution_count": 15,
   "metadata": {},
   "outputs": [
    {
     "name": "stdout",
     "output_type": "stream",
     "text": [
      "100%|███████████████████████████████████████████████| 15/15 [02:12<00:00,  8.86s/trial, best loss: -19.249210280000263]\n"
     ]
    }
   ],
   "source": [
    "best = fmin(\n",
    "    fn=optimization_function,\n",
    "    space=space,\n",
    "    algo=tpe.suggest,\n",
    "    max_evals=15,\n",
    "    trials=trials)"
   ]
  },
  {
   "cell_type": "code",
   "execution_count": 16,
   "metadata": {},
   "outputs": [
    {
     "data": {
      "text/plain": [
       "{'max_depth': 2.0,\n",
       " 'max_features': 2,\n",
       " 'min_samples_leaf': 19.0,\n",
       " 'min_samples_split': 51.0,\n",
       " 'n_estimators': 189.0,\n",
       " 'oob_score': 0}"
      ]
     },
     "execution_count": 16,
     "metadata": {},
     "output_type": "execute_result"
    }
   ],
   "source": [
    "best"
   ]
  },
  {
   "cell_type": "code",
   "execution_count": 17,
   "metadata": {},
   "outputs": [],
   "source": [
    "rfr = RandomForestRegressor(max_depth= 2,\n",
    "                            max_features= 'auto',\n",
    "                            min_samples_leaf= 19,\n",
    "                            min_samples_split= 51,\n",
    "                            n_estimators= 189,\n",
    "                            oob_score= True)\n"
   ]
  },
  {
   "cell_type": "code",
   "execution_count": 18,
   "metadata": {},
   "outputs": [],
   "source": [
    "train_model(rfr, Xtrain, ytrain)"
   ]
  },
  {
   "cell_type": "code",
   "execution_count": 19,
   "metadata": {},
   "outputs": [],
   "source": [
    "save_model(rfr, '../models/rfr_hyperopt.joblib')"
   ]
  },
  {
   "cell_type": "code",
   "execution_count": 20,
   "metadata": {},
   "outputs": [
    {
     "data": {
      "text/plain": [
       "19.23"
      ]
     },
     "execution_count": 20,
     "metadata": {},
     "output_type": "execute_result"
    }
   ],
   "source": [
    "rmse, ypred = predict(rfr, Xtest, ytest)\n",
    "rmse"
   ]
  },
  {
   "cell_type": "markdown",
   "metadata": {},
   "source": [
    "#### Randomized Search"
   ]
  },
  {
   "cell_type": "code",
   "execution_count": 21,
   "metadata": {},
   "outputs": [],
   "source": [
    "param_grid = {\n",
    "    'n_estimators': [100, 150, 200, 250, 300, 350, 400, 500],\n",
    "    'max_depth': [1, 5, 8, 15, 25, 30],\n",
    "    'max_features': ['log2', 'sqrt', 'auto'],\n",
    "    'min_samples_leaf': [1, 2, 4, 5, 8, 10],\n",
    "    'min_samples_split': [2, 5, 10, 15, 50, 100],\n",
    "    'oob_score':[True, False]\n",
    "}"
   ]
  },
  {
   "cell_type": "code",
   "execution_count": 22,
   "metadata": {},
   "outputs": [],
   "source": [
    "rf = RandomForestRegressor()"
   ]
  },
  {
   "cell_type": "code",
   "execution_count": 23,
   "metadata": {},
   "outputs": [],
   "source": [
    "model = RandomizedSearchCV(\n",
    "    estimator=rf,\n",
    "    param_distributions=param_grid,\n",
    "    scoring='neg_root_mean_squared_error',\n",
    "    verbose=1,\n",
    "    n_jobs=-1,\n",
    "    cv=5,\n",
    "    n_iter=100\n",
    ")"
   ]
  },
  {
   "cell_type": "code",
   "execution_count": 25,
   "metadata": {},
   "outputs": [
    {
     "name": "stdout",
     "output_type": "stream",
     "text": [
      "Fitting 5 folds for each of 100 candidates, totalling 500 fits\n",
      "Best score: -15.306664107564671\n",
      "Best parameters set:\n",
      "\tmax_depth: 30\n",
      "\tmax_features: auto\n",
      "\tmin_samples_leaf: 2\n",
      "\tmin_samples_split: 10\n",
      "\tn_estimators: 150\n",
      "\toob_score: False\n"
     ]
    }
   ],
   "source": [
    "train_model(model, Xtrain, ytrain)\n",
    "print(f'Best score: {model.best_score_}')\n",
    "print('Best parameters set:')\n",
    "best_parameters = model.best_estimator_.get_params()\n",
    "for param_name in sorted(param_grid.keys()):\n",
    "    print(f\"\\t{param_name}: {best_parameters[param_name]}\")"
   ]
  },
  {
   "cell_type": "code",
   "execution_count": 30,
   "metadata": {},
   "outputs": [],
   "source": [
    "rf = RandomForestRegressor(\n",
    "    max_depth=30,\n",
    "    max_features='auto',\n",
    "    min_samples_leaf=2,\n",
    "    min_samples_split=10,\n",
    "    n_estimators=150,\n",
    "    oob_score=False)"
   ]
  },
  {
   "cell_type": "code",
   "execution_count": 31,
   "metadata": {},
   "outputs": [],
   "source": [
    "train_model(rf, Xtrain, ytrain)"
   ]
  },
  {
   "cell_type": "code",
   "execution_count": 32,
   "metadata": {},
   "outputs": [],
   "source": [
    "save_model(rf, '../models/rfr_randomized.joblib')"
   ]
  },
  {
   "cell_type": "code",
   "execution_count": 34,
   "metadata": {},
   "outputs": [
    {
     "data": {
      "text/plain": [
       "13.09"
      ]
     },
     "execution_count": 34,
     "metadata": {},
     "output_type": "execute_result"
    }
   ],
   "source": [
    "rmse, ypred = predict(rf, Xtest, ytest)\n",
    "rmse"
   ]
  },
  {
   "cell_type": "markdown",
   "metadata": {},
   "source": [
    "#### GridSearchCV"
   ]
  },
  {
   "cell_type": "code",
   "execution_count": 35,
   "metadata": {},
   "outputs": [],
   "source": [
    "param_grid = {\n",
    "    'n_estimators': [100, 150, 200, 250, 300, 350],\n",
    "    'max_depth': [10, 15, 20, 25, 30],\n",
    "    'max_features': ['sqrt', 'auto'],\n",
    "    'min_samples_leaf': [2, 4, 8, 10],\n",
    "    'min_samples_split': [2, 5, 10, 15, 50],\n",
    "    'oob_score':[True, False]\n",
    "}"
   ]
  },
  {
   "cell_type": "code",
   "execution_count": 36,
   "metadata": {},
   "outputs": [],
   "source": [
    "rf = RandomForestRegressor()"
   ]
  },
  {
   "cell_type": "code",
   "execution_count": 37,
   "metadata": {},
   "outputs": [],
   "source": [
    "model = GridSearchCV(\n",
    "    estimator=rf,\n",
    "    param_grid=param_grid,\n",
    "    scoring='neg_root_mean_squared_error',\n",
    "    verbose=1,\n",
    "    n_jobs=-1,\n",
    "    cv=5,\n",
    ")"
   ]
  },
  {
   "cell_type": "code",
   "execution_count": 38,
   "metadata": {},
   "outputs": [
    {
     "name": "stdout",
     "output_type": "stream",
     "text": [
      "Fitting 5 folds for each of 2400 candidates, totalling 12000 fits\n",
      "Best score: -15.275261802966591\n",
      "Best parameters set:\n",
      "\tmax_depth: 15\n",
      "\tmax_features: auto\n",
      "\tmin_samples_leaf: 2\n",
      "\tmin_samples_split: 2\n",
      "\tn_estimators: 150\n",
      "\toob_score: True\n"
     ]
    }
   ],
   "source": [
    "train_model(model, Xtrain, ytrain)\n",
    "print(f'Best score: {model.best_score_}')\n",
    "print('Best parameters set:')\n",
    "best_parameters = model.best_estimator_.get_params()\n",
    "for param_name in sorted(param_grid.keys()):\n",
    "    print(f\"\\t{param_name}: {best_parameters[param_name]}\")"
   ]
  },
  {
   "cell_type": "code",
   "execution_count": 40,
   "metadata": {},
   "outputs": [],
   "source": [
    "rf = RandomForestRegressor(\n",
    "    max_depth=15,\n",
    "    max_features='auto',\n",
    "    min_samples_leaf=2,\n",
    "    min_samples_split=2,\n",
    "    n_estimators=150,\n",
    "    oob_score=True)"
   ]
  },
  {
   "cell_type": "code",
   "execution_count": 41,
   "metadata": {},
   "outputs": [],
   "source": [
    "train_model(rf, Xtrain, ytrain)"
   ]
  },
  {
   "cell_type": "code",
   "execution_count": 42,
   "metadata": {},
   "outputs": [],
   "source": [
    "save_model(rf, '../models/rfr_grid_search.joblib')"
   ]
  },
  {
   "cell_type": "code",
   "execution_count": 43,
   "metadata": {},
   "outputs": [
    {
     "data": {
      "text/plain": [
       "13.2"
      ]
     },
     "execution_count": 43,
     "metadata": {},
     "output_type": "execute_result"
    }
   ],
   "source": [
    "rmse, ypred = predict(rf, Xtest, ytest)\n",
    "rmse"
   ]
  },
  {
   "cell_type": "markdown",
   "metadata": {},
   "source": [
    "#### Testing on held-out data"
   ]
  },
  {
   "cell_type": "code",
   "execution_count": 45,
   "metadata": {},
   "outputs": [
    {
     "data": {
      "text/html": [
       "<div>\n",
       "<style scoped>\n",
       "    .dataframe tbody tr th:only-of-type {\n",
       "        vertical-align: middle;\n",
       "    }\n",
       "\n",
       "    .dataframe tbody tr th {\n",
       "        vertical-align: top;\n",
       "    }\n",
       "\n",
       "    .dataframe thead th {\n",
       "        text-align: right;\n",
       "    }\n",
       "</style>\n",
       "<table border=\"1\" class=\"dataframe\">\n",
       "  <thead>\n",
       "    <tr style=\"text-align: right;\">\n",
       "      <th></th>\n",
       "      <th>pm2_5</th>\n",
       "      <th>pm10</th>\n",
       "      <th>s2_pm2_5</th>\n",
       "      <th>s2_pm10</th>\n",
       "      <th>humidity</th>\n",
       "      <th>temp</th>\n",
       "      <th>lat</th>\n",
       "      <th>long</th>\n",
       "      <th>altitude</th>\n",
       "      <th>greenness</th>\n",
       "      <th>landform_270m</th>\n",
       "      <th>population</th>\n",
       "      <th>hour_of_day</th>\n",
       "    </tr>\n",
       "  </thead>\n",
       "  <tbody>\n",
       "    <tr>\n",
       "      <th>0</th>\n",
       "      <td>9.903636</td>\n",
       "      <td>10.259545</td>\n",
       "      <td>8.852727</td>\n",
       "      <td>10.097727</td>\n",
       "      <td>0.748000</td>\n",
       "      <td>26.491667</td>\n",
       "      <td>0.299255</td>\n",
       "      <td>32.592686</td>\n",
       "      <td>1199</td>\n",
       "      <td>4374</td>\n",
       "      <td>14</td>\n",
       "      <td>6834</td>\n",
       "      <td>12</td>\n",
       "    </tr>\n",
       "    <tr>\n",
       "      <th>1</th>\n",
       "      <td>38.428333</td>\n",
       "      <td>45.940714</td>\n",
       "      <td>40.087143</td>\n",
       "      <td>48.159762</td>\n",
       "      <td>0.995000</td>\n",
       "      <td>18.225000</td>\n",
       "      <td>0.299255</td>\n",
       "      <td>32.592686</td>\n",
       "      <td>1199</td>\n",
       "      <td>4374</td>\n",
       "      <td>14</td>\n",
       "      <td>6834</td>\n",
       "      <td>6</td>\n",
       "    </tr>\n",
       "    <tr>\n",
       "      <th>2</th>\n",
       "      <td>13.278000</td>\n",
       "      <td>14.967333</td>\n",
       "      <td>13.278000</td>\n",
       "      <td>14.967333</td>\n",
       "      <td>0.687500</td>\n",
       "      <td>24.891667</td>\n",
       "      <td>0.299255</td>\n",
       "      <td>32.592686</td>\n",
       "      <td>1199</td>\n",
       "      <td>4374</td>\n",
       "      <td>14</td>\n",
       "      <td>6834</td>\n",
       "      <td>17</td>\n",
       "    </tr>\n",
       "    <tr>\n",
       "      <th>3</th>\n",
       "      <td>36.304000</td>\n",
       "      <td>40.366750</td>\n",
       "      <td>89.182500</td>\n",
       "      <td>93.572500</td>\n",
       "      <td>0.868417</td>\n",
       "      <td>22.616667</td>\n",
       "      <td>0.299255</td>\n",
       "      <td>32.592686</td>\n",
       "      <td>1199</td>\n",
       "      <td>4374</td>\n",
       "      <td>14</td>\n",
       "      <td>6834</td>\n",
       "      <td>9</td>\n",
       "    </tr>\n",
       "    <tr>\n",
       "      <th>4</th>\n",
       "      <td>56.686410</td>\n",
       "      <td>67.412308</td>\n",
       "      <td>55.048974</td>\n",
       "      <td>66.089487</td>\n",
       "      <td>0.782083</td>\n",
       "      <td>23.350000</td>\n",
       "      <td>0.299255</td>\n",
       "      <td>32.592686</td>\n",
       "      <td>1199</td>\n",
       "      <td>4374</td>\n",
       "      <td>14</td>\n",
       "      <td>6834</td>\n",
       "      <td>19</td>\n",
       "    </tr>\n",
       "  </tbody>\n",
       "</table>\n",
       "</div>"
      ],
      "text/plain": [
       "       pm2_5       pm10   s2_pm2_5    s2_pm10  humidity       temp       lat  \\\n",
       "0   9.903636  10.259545   8.852727  10.097727  0.748000  26.491667  0.299255   \n",
       "1  38.428333  45.940714  40.087143  48.159762  0.995000  18.225000  0.299255   \n",
       "2  13.278000  14.967333  13.278000  14.967333  0.687500  24.891667  0.299255   \n",
       "3  36.304000  40.366750  89.182500  93.572500  0.868417  22.616667  0.299255   \n",
       "4  56.686410  67.412308  55.048974  66.089487  0.782083  23.350000  0.299255   \n",
       "\n",
       "        long  altitude  greenness  landform_270m  population  hour_of_day  \n",
       "0  32.592686      1199       4374             14        6834           12  \n",
       "1  32.592686      1199       4374             14        6834            6  \n",
       "2  32.592686      1199       4374             14        6834           17  \n",
       "3  32.592686      1199       4374             14        6834            9  \n",
       "4  32.592686      1199       4374             14        6834           19  "
      ]
     },
     "execution_count": 45,
     "metadata": {},
     "output_type": "execute_result"
    }
   ],
   "source": [
    "Xactual = get_data('../data/raw/test_set.csv')\n",
    "Xactual = clean_data(Xactual)\n",
    "Xactual.head()"
   ]
  },
  {
   "cell_type": "code",
   "execution_count": 46,
   "metadata": {},
   "outputs": [
    {
     "data": {
      "text/html": [
       "<div>\n",
       "<style scoped>\n",
       "    .dataframe tbody tr th:only-of-type {\n",
       "        vertical-align: middle;\n",
       "    }\n",
       "\n",
       "    .dataframe tbody tr th {\n",
       "        vertical-align: top;\n",
       "    }\n",
       "\n",
       "    .dataframe thead th {\n",
       "        text-align: right;\n",
       "    }\n",
       "</style>\n",
       "<table border=\"1\" class=\"dataframe\">\n",
       "  <thead>\n",
       "    <tr style=\"text-align: right;\">\n",
       "      <th></th>\n",
       "      <th>ref_pm2_5</th>\n",
       "    </tr>\n",
       "  </thead>\n",
       "  <tbody>\n",
       "    <tr>\n",
       "      <th>0</th>\n",
       "      <td>30.0</td>\n",
       "    </tr>\n",
       "    <tr>\n",
       "      <th>1</th>\n",
       "      <td>44.0</td>\n",
       "    </tr>\n",
       "    <tr>\n",
       "      <th>2</th>\n",
       "      <td>27.0</td>\n",
       "    </tr>\n",
       "    <tr>\n",
       "      <th>3</th>\n",
       "      <td>48.0</td>\n",
       "    </tr>\n",
       "    <tr>\n",
       "      <th>4</th>\n",
       "      <td>57.0</td>\n",
       "    </tr>\n",
       "  </tbody>\n",
       "</table>\n",
       "</div>"
      ],
      "text/plain": [
       "   ref_pm2_5\n",
       "0       30.0\n",
       "1       44.0\n",
       "2       27.0\n",
       "3       48.0\n",
       "4       57.0"
      ]
     },
     "execution_count": 46,
     "metadata": {},
     "output_type": "execute_result"
    }
   ],
   "source": [
    "yactual = get_data('../data/raw/test_solution.csv')\n",
    "yactual.head()"
   ]
  },
  {
   "cell_type": "code",
   "execution_count": 47,
   "metadata": {},
   "outputs": [
    {
     "data": {
      "text/plain": [
       "13.1"
      ]
     },
     "execution_count": 47,
     "metadata": {},
     "output_type": "execute_result"
    }
   ],
   "source": [
    "rmse, ypred = predict(rf, Xactual, yactual)\n",
    "rmse"
   ]
  },
  {
   "cell_type": "code",
   "execution_count": 48,
   "metadata": {},
   "outputs": [
    {
     "data": {
      "text/plain": [
       "((2733, 1), (2733,))"
      ]
     },
     "execution_count": 48,
     "metadata": {},
     "output_type": "execute_result"
    }
   ],
   "source": [
    "yactual.shape, ypred.shape"
   ]
  },
  {
   "cell_type": "code",
   "execution_count": 49,
   "metadata": {},
   "outputs": [
    {
     "data": {
      "text/plain": [
       "(2733, 1)"
      ]
     },
     "execution_count": 49,
     "metadata": {},
     "output_type": "execute_result"
    }
   ],
   "source": [
    "ypred= ypred.reshape(2733, 1)\n",
    "ypred.shape"
   ]
  },
  {
   "cell_type": "code",
   "execution_count": 50,
   "metadata": {},
   "outputs": [
    {
     "data": {
      "text/plain": [
       "Text(0, 0.5, 'Predictions ')"
      ]
     },
     "execution_count": 50,
     "metadata": {},
     "output_type": "execute_result"
    },
    {
     "data": {
      "image/png": "[encoded data removed]",
      "text/plain": [
       "<Figure size 432x288 with 1 Axes>"
      ]
     },
     "metadata": {
      "needs_background": "light"
     },
     "output_type": "display_data"
    }
   ],
   "source": [
    "g=plt.scatter(yactual, ypred)\n",
    "g.axes.set_xlabel('Actual Values ')\n",
    "g.axes.set_ylabel('Predictions ')"
   ]
  }
 ],
 "metadata": {
  "kernelspec": {
   "display_name": "Python 3",
   "language": "python",
   "name": "python3"
  },
  "language_info": {
   "codemirror_mode": {
    "name": "ipython",
    "version": 3
   },
   "file_extension": ".py",
   "mimetype": "text/x-python",
   "name": "python",
   "nbconvert_exporter": "python",
   "pygments_lexer": "ipython3",
   "version": "3.7.4"
  }
 },
 "nbformat": 4,
 "nbformat_minor": 4
}
