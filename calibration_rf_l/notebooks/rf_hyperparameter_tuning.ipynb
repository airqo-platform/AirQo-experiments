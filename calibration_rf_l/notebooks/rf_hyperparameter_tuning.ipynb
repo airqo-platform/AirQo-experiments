{
 "cells": [
  {
   "cell_type": "code",
   "execution_count": 1,
   "metadata": {},
   "outputs": [],
   "source": [
    "import pandas as pd\n",
    "import numpy as np\n",
    "import joblib\n",
    "from datetime import datetime\n",
    "from sklearn.metrics import mean_squared_error\n",
    "from sklearn.model_selection import train_test_split, RandomizedSearchCV, GridSearchCV\n",
    "from sklearn.feature_selection import SelectFromModel\n",
    "from sklearn.ensemble import RandomForestRegressor\n",
    "from skopt import gp_minimize, space\n",
    "from pandas import Timestamp\n",
    "from functools import partial\n",
    "from hyperopt import hp, fmin, tpe, Trials\n",
    "from hyperopt.pyll.base import scope\n",
    "import matplotlib.pyplot as plt\n",
    "%matplotlib inline"
   ]
  },
  {
   "cell_type": "code",
   "execution_count": 2,
   "metadata": {},
   "outputs": [],
   "source": [
    "def preprocessing_own(df):\n",
    "    if df.isnull().values.any():\n",
    "        df.fillna(method='ffill', inplace=True)\n",
    "    df['hour_of_day'] = [datetime.fromisoformat(n).hour for n in df['created_at']]\n",
    "    df['s2_pm2_5'] = train_set['s2_pm2_5'].mask(df['s2_pm2_5']==0).fillna(df['pm2_5'])\n",
    "    df['s2_pm10'] = train_set['s2_pm10'].mask(df['s2_pm10']==0).fillna(df['pm10'])\n",
    "    df.drop(columns=['site', 'created_at', 'landform_90m', 'dist_major_road'], axis=1, inplace=True)\n",
    "    return df"
   ]
  },
  {
   "cell_type": "code",
   "execution_count": 3,
   "metadata": {},
   "outputs": [
    {
     "data": {
      "text/html": [
       "<div>\n",
       "<style scoped>\n",
       "    .dataframe tbody tr th:only-of-type {\n",
       "        vertical-align: middle;\n",
       "    }\n",
       "\n",
       "    .dataframe tbody tr th {\n",
       "        vertical-align: top;\n",
       "    }\n",
       "\n",
       "    .dataframe thead th {\n",
       "        text-align: right;\n",
       "    }\n",
       "</style>\n",
       "<table border=\"1\" class=\"dataframe\">\n",
       "  <thead>\n",
       "    <tr style=\"text-align: right;\">\n",
       "      <th></th>\n",
       "      <th>created_at</th>\n",
       "      <th>site</th>\n",
       "      <th>pm2_5</th>\n",
       "      <th>pm10</th>\n",
       "      <th>s2_pm2_5</th>\n",
       "      <th>s2_pm10</th>\n",
       "      <th>humidity</th>\n",
       "      <th>temp</th>\n",
       "      <th>lat</th>\n",
       "      <th>long</th>\n",
       "      <th>altitude</th>\n",
       "      <th>greenness</th>\n",
       "      <th>landform_90m</th>\n",
       "      <th>landform_270m</th>\n",
       "      <th>population</th>\n",
       "      <th>dist_major_road</th>\n",
       "      <th>ref_pm2_5</th>\n",
       "    </tr>\n",
       "  </thead>\n",
       "  <tbody>\n",
       "    <tr>\n",
       "      <th>0</th>\n",
       "      <td>2019-12-02 08:00:00+03:00</td>\n",
       "      <td>USEmbassy</td>\n",
       "      <td>74.088667</td>\n",
       "      <td>83.767111</td>\n",
       "      <td>0.000000</td>\n",
       "      <td>0.000000</td>\n",
       "      <td>0.962917</td>\n",
       "      <td>21.475000</td>\n",
       "      <td>0.299255</td>\n",
       "      <td>32.592686</td>\n",
       "      <td>1199</td>\n",
       "      <td>4374</td>\n",
       "      <td>21</td>\n",
       "      <td>14</td>\n",
       "      <td>6834</td>\n",
       "      <td>130</td>\n",
       "      <td>95.0</td>\n",
       "    </tr>\n",
       "    <tr>\n",
       "      <th>1</th>\n",
       "      <td>2020-03-17 02:00:00+03:00</td>\n",
       "      <td>USEmbassy</td>\n",
       "      <td>88.350233</td>\n",
       "      <td>96.003023</td>\n",
       "      <td>86.993256</td>\n",
       "      <td>107.929767</td>\n",
       "      <td>0.967667</td>\n",
       "      <td>19.233333</td>\n",
       "      <td>0.299255</td>\n",
       "      <td>32.592686</td>\n",
       "      <td>1199</td>\n",
       "      <td>4374</td>\n",
       "      <td>21</td>\n",
       "      <td>14</td>\n",
       "      <td>6834</td>\n",
       "      <td>130</td>\n",
       "      <td>139.0</td>\n",
       "    </tr>\n",
       "    <tr>\n",
       "      <th>2</th>\n",
       "      <td>2019-10-13 05:00:00+03:00</td>\n",
       "      <td>USEmbassy</td>\n",
       "      <td>47.540513</td>\n",
       "      <td>58.672308</td>\n",
       "      <td>48.684103</td>\n",
       "      <td>60.505128</td>\n",
       "      <td>0.999250</td>\n",
       "      <td>18.916667</td>\n",
       "      <td>0.299255</td>\n",
       "      <td>32.592686</td>\n",
       "      <td>1199</td>\n",
       "      <td>4374</td>\n",
       "      <td>21</td>\n",
       "      <td>14</td>\n",
       "      <td>6834</td>\n",
       "      <td>130</td>\n",
       "      <td>46.0</td>\n",
       "    </tr>\n",
       "    <tr>\n",
       "      <th>3</th>\n",
       "      <td>2020-04-04 11:00:00+03:00</td>\n",
       "      <td>USEmbassy</td>\n",
       "      <td>24.567619</td>\n",
       "      <td>27.151429</td>\n",
       "      <td>23.406667</td>\n",
       "      <td>27.316429</td>\n",
       "      <td>0.783500</td>\n",
       "      <td>25.475000</td>\n",
       "      <td>0.299255</td>\n",
       "      <td>32.592686</td>\n",
       "      <td>1199</td>\n",
       "      <td>4374</td>\n",
       "      <td>21</td>\n",
       "      <td>14</td>\n",
       "      <td>6834</td>\n",
       "      <td>130</td>\n",
       "      <td>33.0</td>\n",
       "    </tr>\n",
       "    <tr>\n",
       "      <th>4</th>\n",
       "      <td>2020-03-22 20:00:00+03:00</td>\n",
       "      <td>USEmbassy</td>\n",
       "      <td>46.644857</td>\n",
       "      <td>57.555143</td>\n",
       "      <td>46.195143</td>\n",
       "      <td>60.075714</td>\n",
       "      <td>0.721833</td>\n",
       "      <td>22.916667</td>\n",
       "      <td>0.299255</td>\n",
       "      <td>32.592686</td>\n",
       "      <td>1199</td>\n",
       "      <td>4374</td>\n",
       "      <td>21</td>\n",
       "      <td>14</td>\n",
       "      <td>6834</td>\n",
       "      <td>130</td>\n",
       "      <td>60.0</td>\n",
       "    </tr>\n",
       "  </tbody>\n",
       "</table>\n",
       "</div>"
      ],
      "text/plain": [
       "                  created_at       site      pm2_5       pm10   s2_pm2_5  \\\n",
       "0  2019-12-02 08:00:00+03:00  USEmbassy  74.088667  83.767111   0.000000   \n",
       "1  2020-03-17 02:00:00+03:00  USEmbassy  88.350233  96.003023  86.993256   \n",
       "2  2019-10-13 05:00:00+03:00  USEmbassy  47.540513  58.672308  48.684103   \n",
       "3  2020-04-04 11:00:00+03:00  USEmbassy  24.567619  27.151429  23.406667   \n",
       "4  2020-03-22 20:00:00+03:00  USEmbassy  46.644857  57.555143  46.195143   \n",
       "\n",
       "      s2_pm10  humidity       temp       lat       long  altitude  greenness  \\\n",
       "0    0.000000  0.962917  21.475000  0.299255  32.592686      1199       4374   \n",
       "1  107.929767  0.967667  19.233333  0.299255  32.592686      1199       4374   \n",
       "2   60.505128  0.999250  18.916667  0.299255  32.592686      1199       4374   \n",
       "3   27.316429  0.783500  25.475000  0.299255  32.592686      1199       4374   \n",
       "4   60.075714  0.721833  22.916667  0.299255  32.592686      1199       4374   \n",
       "\n",
       "   landform_90m  landform_270m  population  dist_major_road  ref_pm2_5  \n",
       "0            21             14        6834              130       95.0  \n",
       "1            21             14        6834              130      139.0  \n",
       "2            21             14        6834              130       46.0  \n",
       "3            21             14        6834              130       33.0  \n",
       "4            21             14        6834              130       60.0  "
      ]
     },
     "execution_count": 3,
     "metadata": {},
     "output_type": "execute_result"
    }
   ],
   "source": [
    "train_set = pd.read_csv('../input/train_set.csv')\n",
    "train_set.head()"
   ]
  },
  {
   "cell_type": "code",
   "execution_count": 4,
   "metadata": {},
   "outputs": [
    {
     "data": {
      "text/html": [
       "<div>\n",
       "<style scoped>\n",
       "    .dataframe tbody tr th:only-of-type {\n",
       "        vertical-align: middle;\n",
       "    }\n",
       "\n",
       "    .dataframe tbody tr th {\n",
       "        vertical-align: top;\n",
       "    }\n",
       "\n",
       "    .dataframe thead th {\n",
       "        text-align: right;\n",
       "    }\n",
       "</style>\n",
       "<table border=\"1\" class=\"dataframe\">\n",
       "  <thead>\n",
       "    <tr style=\"text-align: right;\">\n",
       "      <th></th>\n",
       "      <th>pm2_5</th>\n",
       "      <th>pm10</th>\n",
       "      <th>s2_pm2_5</th>\n",
       "      <th>s2_pm10</th>\n",
       "      <th>humidity</th>\n",
       "      <th>temp</th>\n",
       "      <th>lat</th>\n",
       "      <th>long</th>\n",
       "      <th>altitude</th>\n",
       "      <th>greenness</th>\n",
       "      <th>landform_270m</th>\n",
       "      <th>population</th>\n",
       "      <th>ref_pm2_5</th>\n",
       "      <th>hour_of_day</th>\n",
       "    </tr>\n",
       "  </thead>\n",
       "  <tbody>\n",
       "    <tr>\n",
       "      <th>0</th>\n",
       "      <td>74.088667</td>\n",
       "      <td>83.767111</td>\n",
       "      <td>74.088667</td>\n",
       "      <td>83.767111</td>\n",
       "      <td>0.962917</td>\n",
       "      <td>21.475000</td>\n",
       "      <td>0.299255</td>\n",
       "      <td>32.592686</td>\n",
       "      <td>1199</td>\n",
       "      <td>4374</td>\n",
       "      <td>14</td>\n",
       "      <td>6834</td>\n",
       "      <td>95.0</td>\n",
       "      <td>8</td>\n",
       "    </tr>\n",
       "    <tr>\n",
       "      <th>1</th>\n",
       "      <td>88.350233</td>\n",
       "      <td>96.003023</td>\n",
       "      <td>86.993256</td>\n",
       "      <td>107.929767</td>\n",
       "      <td>0.967667</td>\n",
       "      <td>19.233333</td>\n",
       "      <td>0.299255</td>\n",
       "      <td>32.592686</td>\n",
       "      <td>1199</td>\n",
       "      <td>4374</td>\n",
       "      <td>14</td>\n",
       "      <td>6834</td>\n",
       "      <td>139.0</td>\n",
       "      <td>2</td>\n",
       "    </tr>\n",
       "    <tr>\n",
       "      <th>2</th>\n",
       "      <td>47.540513</td>\n",
       "      <td>58.672308</td>\n",
       "      <td>48.684103</td>\n",
       "      <td>60.505128</td>\n",
       "      <td>0.999250</td>\n",
       "      <td>18.916667</td>\n",
       "      <td>0.299255</td>\n",
       "      <td>32.592686</td>\n",
       "      <td>1199</td>\n",
       "      <td>4374</td>\n",
       "      <td>14</td>\n",
       "      <td>6834</td>\n",
       "      <td>46.0</td>\n",
       "      <td>5</td>\n",
       "    </tr>\n",
       "    <tr>\n",
       "      <th>3</th>\n",
       "      <td>24.567619</td>\n",
       "      <td>27.151429</td>\n",
       "      <td>23.406667</td>\n",
       "      <td>27.316429</td>\n",
       "      <td>0.783500</td>\n",
       "      <td>25.475000</td>\n",
       "      <td>0.299255</td>\n",
       "      <td>32.592686</td>\n",
       "      <td>1199</td>\n",
       "      <td>4374</td>\n",
       "      <td>14</td>\n",
       "      <td>6834</td>\n",
       "      <td>33.0</td>\n",
       "      <td>11</td>\n",
       "    </tr>\n",
       "    <tr>\n",
       "      <th>4</th>\n",
       "      <td>46.644857</td>\n",
       "      <td>57.555143</td>\n",
       "      <td>46.195143</td>\n",
       "      <td>60.075714</td>\n",
       "      <td>0.721833</td>\n",
       "      <td>22.916667</td>\n",
       "      <td>0.299255</td>\n",
       "      <td>32.592686</td>\n",
       "      <td>1199</td>\n",
       "      <td>4374</td>\n",
       "      <td>14</td>\n",
       "      <td>6834</td>\n",
       "      <td>60.0</td>\n",
       "      <td>20</td>\n",
       "    </tr>\n",
       "  </tbody>\n",
       "</table>\n",
       "</div>"
      ],
      "text/plain": [
       "       pm2_5       pm10   s2_pm2_5     s2_pm10  humidity       temp       lat  \\\n",
       "0  74.088667  83.767111  74.088667   83.767111  0.962917  21.475000  0.299255   \n",
       "1  88.350233  96.003023  86.993256  107.929767  0.967667  19.233333  0.299255   \n",
       "2  47.540513  58.672308  48.684103   60.505128  0.999250  18.916667  0.299255   \n",
       "3  24.567619  27.151429  23.406667   27.316429  0.783500  25.475000  0.299255   \n",
       "4  46.644857  57.555143  46.195143   60.075714  0.721833  22.916667  0.299255   \n",
       "\n",
       "        long  altitude  greenness  landform_270m  population  ref_pm2_5  \\\n",
       "0  32.592686      1199       4374             14        6834       95.0   \n",
       "1  32.592686      1199       4374             14        6834      139.0   \n",
       "2  32.592686      1199       4374             14        6834       46.0   \n",
       "3  32.592686      1199       4374             14        6834       33.0   \n",
       "4  32.592686      1199       4374             14        6834       60.0   \n",
       "\n",
       "   hour_of_day  \n",
       "0            8  \n",
       "1            2  \n",
       "2            5  \n",
       "3           11  \n",
       "4           20  "
      ]
     },
     "execution_count": 4,
     "metadata": {},
     "output_type": "execute_result"
    }
   ],
   "source": [
    "train_set = preprocessing_own(train_set)\n",
    "train_set.head()"
   ]
  },
  {
   "cell_type": "code",
   "execution_count": 6,
   "metadata": {},
   "outputs": [],
   "source": [
    "X = train_set.drop(columns = ['ref_pm2_5'], axis=1)\n",
    "y = train_set['ref_pm2_5']"
   ]
  },
  {
   "cell_type": "code",
   "execution_count": 7,
   "metadata": {},
   "outputs": [],
   "source": [
    "Xtrain, Xtest, ytrain, ytest = train_test_split(X, y, test_size=0.45, random_state=42)"
   ]
  },
  {
   "cell_type": "code",
   "execution_count": 32,
   "metadata": {},
   "outputs": [
    {
     "data": {
      "text/plain": [
       "13.34"
      ]
     },
     "execution_count": 32,
     "metadata": {},
     "output_type": "execute_result"
    }
   ],
   "source": [
    "rfr = RandomForestRegressor()\n",
    "rfr.fit(Xtrain, ytrain)\n",
    "ypred = rfr.predict(Xtest)\n",
    "rmse = round(mean_squared_error(ytest, ypred, squared=False), 2)\n",
    "rmse"
   ]
  },
  {
   "cell_type": "markdown",
   "metadata": {},
   "source": [
    "#### Hyperopt"
   ]
  },
  {
   "cell_type": "code",
   "execution_count": 33,
   "metadata": {},
   "outputs": [],
   "source": [
    "space = {\n",
    "    'n_estimators':scope.int(hp.quniform('n_estimators', 100, 500, 1)),\n",
    "    'max_depth': scope.int(hp.quniform('max_depth', 1, 30, 1)),\n",
    "    'min_samples_leaf': scope.int(hp.quniform('min_samples_leaf', 1, 20, 1)),\n",
    "    'min_samples_split':scope.int(hp.quniform('min_samples_split', 1, 100, 1)),\n",
    "    'max_features': hp.choice('max_features', ['log2', 'sqrt', 'auto']),\n",
    "    'oob_score': hp.choice('oob_score', [True, False])\n",
    "    \n",
    "}"
   ]
  },
  {
   "cell_type": "code",
   "execution_count": 34,
   "metadata": {},
   "outputs": [],
   "source": [
    "def optimize(params):\n",
    "    model = RandomForestRegressor(**params)\n",
    "    model.fit(Xtrain, ytrain)\n",
    "    ypred = model.predict(Xtest)\n",
    "    rmse = mean_squared_error(ytest, ypred, squared=False)\n",
    "    return -1*rmse"
   ]
  },
  {
   "cell_type": "code",
   "execution_count": 35,
   "metadata": {},
   "outputs": [],
   "source": [
    "optimization_function = partial(optimize)"
   ]
  },
  {
   "cell_type": "code",
   "execution_count": 36,
   "metadata": {},
   "outputs": [],
   "source": [
    "trials = Trials()"
   ]
  },
  {
   "cell_type": "code",
   "execution_count": 37,
   "metadata": {},
   "outputs": [
    {
     "name": "stdout",
     "output_type": "stream",
     "text": [
      "100%|███████████████████████████████████████████████| 15/15 [00:26<00:00,  1.74s/trial, best loss: -24.478951695471903]\n"
     ]
    }
   ],
   "source": [
    "best = fmin(\n",
    "    fn=optimization_function,\n",
    "    space=space,\n",
    "    algo=tpe.suggest,\n",
    "    max_evals=15,\n",
    "    trials=trials)"
   ]
  },
  {
   "cell_type": "code",
   "execution_count": 38,
   "metadata": {},
   "outputs": [
    {
     "data": {
      "text/plain": [
       "{'max_depth': 1.0,\n",
       " 'max_features': 1,\n",
       " 'min_samples_leaf': 4.0,\n",
       " 'min_samples_split': 54.0,\n",
       " 'n_estimators': 396.0,\n",
       " 'oob_score': 1}"
      ]
     },
     "execution_count": 38,
     "metadata": {},
     "output_type": "execute_result"
    }
   ],
   "source": [
    "best"
   ]
  },
  {
   "cell_type": "code",
   "execution_count": 40,
   "metadata": {},
   "outputs": [
    {
     "data": {
      "text/plain": [
       "28.75"
      ]
     },
     "execution_count": 40,
     "metadata": {},
     "output_type": "execute_result"
    }
   ],
   "source": [
    "rfr = RandomForestRegressor(max_depth= 1,\n",
    "                            max_features= 1,\n",
    "                            min_samples_leaf= 4,\n",
    "                            min_samples_split= 54,\n",
    "                            n_estimators= 396,\n",
    "                            oob_score= True).fit(Xtrain, ytrain)\n",
    "ypred = rfr.predict(Xtest)\n",
    "rmse = round(mean_squared_error(ytest, ypred, squared=False), 2)\n",
    "rmse"
   ]
  },
  {
   "cell_type": "markdown",
   "metadata": {},
   "source": [
    "#### Randomized Search"
   ]
  },
  {
   "cell_type": "code",
   "execution_count": 42,
   "metadata": {},
   "outputs": [],
   "source": [
    "param_grid = {\n",
    "    'n_estimators': [100, 150, 200, 250, 300, 350, 400, 500],\n",
    "    'max_depth': [1, 5, 8, 15, 25, 30],\n",
    "    'max_features': ['log2', 'sqrt', 'auto'],\n",
    "    'min_samples_leaf': [1, 2, 4, 5, 8, 10],\n",
    "    'min_samples_split': [1, 2, 5, 10, 15, 50, 100],\n",
    "    'oob_score':[True, False]\n",
    "}"
   ]
  },
  {
   "cell_type": "code",
   "execution_count": 43,
   "metadata": {},
   "outputs": [],
   "source": [
    "rf = RandomForestRegressor()"
   ]
  },
  {
   "cell_type": "code",
   "execution_count": 47,
   "metadata": {},
   "outputs": [],
   "source": [
    "model = RandomizedSearchCV(\n",
    "    estimator=rf,\n",
    "    param_distributions=param_grid,\n",
    "    scoring='neg_root_mean_squared_error',\n",
    "    verbose=1,\n",
    "    n_jobs=-1,\n",
    "    cv=5,\n",
    "    n_iter=100\n",
    ")"
   ]
  },
  {
   "cell_type": "code",
   "execution_count": 48,
   "metadata": {},
   "outputs": [
    {
     "name": "stdout",
     "output_type": "stream",
     "text": [
      "Fitting 5 folds for each of 100 candidates, totalling 500 fits\n"
     ]
    },
    {
     "name": "stderr",
     "output_type": "stream",
     "text": [
      "c:\\users\\user\\anaconda3\\envs\\ox\\lib\\site-packages\\sklearn\\model_selection\\_search.py:921: UserWarning: One or more of the test scores are non-finite: [-16.77198119 -15.73329412 -15.26495921          nan -15.68371061\n",
      " -25.7986933           nan -15.99921369 -16.16160441 -26.68493968\n",
      " -15.91696804          nan -16.04988915 -15.5561812  -16.09826962\n",
      "          nan          nan -15.74033625 -15.55985949          nan\n",
      "          nan -15.73184485 -16.06979456 -17.01349817 -15.92133002\n",
      " -26.64117784 -15.77607854 -16.18466438          nan -15.90344085\n",
      " -16.22625361 -15.70439781 -15.58060059 -15.29252085 -15.97170619\n",
      "          nan -16.45169746 -16.85127704 -15.7888151  -15.58981632\n",
      " -15.51680603 -15.68339945 -15.86403796 -16.8048331  -16.15611567\n",
      " -17.03432873 -16.3510734  -25.78745735 -15.91840591 -15.44241963\n",
      " -26.57172205 -15.49899655 -16.83123505 -15.78828973          nan\n",
      " -16.84516918 -26.64660668 -16.43085341 -15.49018672 -15.98721164\n",
      " -16.60741636 -16.31765156 -15.77581503 -16.10277307 -16.03301979\n",
      "          nan -15.78966809 -15.46244309 -15.6835405  -16.12683531\n",
      " -16.0196027  -26.62213185          nan -16.3843017           nan\n",
      " -16.08937419 -16.08225415 -15.98685845 -16.80511054 -15.5030841\n",
      " -15.75638382 -15.4554263  -16.00900338 -15.77837062 -15.42125631\n",
      " -16.57099125 -15.57359342 -16.0360852  -26.6056803  -26.65167126\n",
      " -16.79744955 -26.63938142          nan -15.62846966 -16.07590387\n",
      "          nan          nan          nan -15.4446167  -16.41357211]\n",
      "  category=UserWarning\n"
     ]
    },
    {
     "name": "stdout",
     "output_type": "stream",
     "text": [
      "Best score: -15.264959206149843\n",
      "Best parameters set:\n",
      "\tmax_depth: 15\n",
      "\tmax_features: auto\n",
      "\tmin_samples_leaf: 2\n",
      "\tmin_samples_split: 2\n",
      "\tn_estimators: 100\n",
      "\toob_score: False\n"
     ]
    }
   ],
   "source": [
    "model.fit(Xtrain, ytrain)\n",
    "print(f'Best score: {model.best_score_}')\n",
    "print('Best parameters set:')\n",
    "best_parameters = model.best_estimator_.get_params()\n",
    "for param_name in sorted(param_grid.keys()):\n",
    "    print(f\"\\t{param_name}: {best_parameters[param_name]}\")"
   ]
  },
  {
   "cell_type": "code",
   "execution_count": 49,
   "metadata": {},
   "outputs": [],
   "source": [
    "rf = RandomForestRegressor(\n",
    "    max_depth=15,\n",
    "    max_features='auto',\n",
    "    min_samples_leaf=2,\n",
    "    min_samples_split=2,\n",
    "    n_estimators=100,\n",
    "    oob_score=False).fit(Xtrain, ytrain)"
   ]
  },
  {
   "cell_type": "code",
   "execution_count": 52,
   "metadata": {},
   "outputs": [
    {
     "data": {
      "text/plain": [
       "13.22"
      ]
     },
     "execution_count": 52,
     "metadata": {},
     "output_type": "execute_result"
    }
   ],
   "source": [
    "ypred = rf.predict(Xtest)\n",
    "rmse = round(mean_squared_error(ytest, ypred, squared=False), 2)\n",
    "rmse"
   ]
  },
  {
   "cell_type": "markdown",
   "metadata": {},
   "source": [
    "#### GridSearchCV"
   ]
  },
  {
   "cell_type": "code",
   "execution_count": 53,
   "metadata": {},
   "outputs": [],
   "source": [
    "param_grid = {\n",
    "    'n_estimators': [100, 150, 200, 250, 300, 350],\n",
    "    'max_depth': [10, 15, 20, 25, 30],\n",
    "    'max_features': ['sqrt', 'auto'],\n",
    "    'min_samples_leaf': [2, 4, 8, 10],\n",
    "    'min_samples_split': [2, 5, 10, 15, 50],\n",
    "    'oob_score':[True, False]\n",
    "}"
   ]
  },
  {
   "cell_type": "code",
   "execution_count": 55,
   "metadata": {},
   "outputs": [],
   "source": [
    "rf = RandomForestRegressor()"
   ]
  },
  {
   "cell_type": "code",
   "execution_count": 56,
   "metadata": {},
   "outputs": [],
   "source": [
    "model = GridSearchCV(\n",
    "    estimator=rf,\n",
    "    param_grid=param_grid,\n",
    "    scoring='neg_root_mean_squared_error',\n",
    "    verbose=1,\n",
    "    n_jobs=-1,\n",
    "    cv=5,\n",
    ")"
   ]
  },
  {
   "cell_type": "code",
   "execution_count": 57,
   "metadata": {},
   "outputs": [
    {
     "name": "stdout",
     "output_type": "stream",
     "text": [
      "Fitting 5 folds for each of 2400 candidates, totalling 12000 fits\n",
      "Best score: -15.271616735429527\n",
      "Best parameters set:\n",
      "\tmax_depth: 20\n",
      "\tmax_features: auto\n",
      "\tmin_samples_leaf: 2\n",
      "\tmin_samples_split: 2\n",
      "\tn_estimators: 200\n",
      "\toob_score: False\n"
     ]
    }
   ],
   "source": [
    "model.fit(Xtrain, ytrain)\n",
    "print(f'Best score: {model.best_score_}')\n",
    "print('Best parameters set:')\n",
    "best_parameters = model.best_estimator_.get_params()\n",
    "for param_name in sorted(param_grid.keys()):\n",
    "    print(f\"\\t{param_name}: {best_parameters[param_name]}\")"
   ]
  },
  {
   "cell_type": "code",
   "execution_count": 58,
   "metadata": {},
   "outputs": [],
   "source": [
    "rf = RandomForestRegressor(\n",
    "    max_depth=20,\n",
    "    max_features='auto',\n",
    "    min_samples_leaf=2,\n",
    "    min_samples_split=2,\n",
    "    n_estimators=200,\n",
    "    oob_score=False).fit(Xtrain, ytrain)"
   ]
  },
  {
   "cell_type": "code",
   "execution_count": 59,
   "metadata": {},
   "outputs": [
    {
     "data": {
      "text/plain": [
       "13.19"
      ]
     },
     "execution_count": 59,
     "metadata": {},
     "output_type": "execute_result"
    }
   ],
   "source": [
    "ypred = rf.predict(Xtest)\n",
    "rmse = round(mean_squared_error(ytest, ypred, squared=False), 2)\n",
    "rmse"
   ]
  },
  {
   "cell_type": "code",
   "execution_count": 20,
   "metadata": {},
   "outputs": [],
   "source": [
    "#joblib.dump(rfr, 'random_forest_final.joblib')"
   ]
  },
  {
   "cell_type": "code",
   "execution_count": 23,
   "metadata": {},
   "outputs": [],
   "source": [
    "rfr = joblib.load('random_forest_final.joblib')"
   ]
  },
  {
   "cell_type": "code",
   "execution_count": 24,
   "metadata": {},
   "outputs": [
    {
     "data": {
      "text/plain": [
       "13.33"
      ]
     },
     "execution_count": 24,
     "metadata": {},
     "output_type": "execute_result"
    }
   ],
   "source": [
    "rfr = RandomForestRegressor().fit(Xtrain, ytrain)\n",
    "ypred = rfr.predict(Xtest)\n",
    "rmse = round(mean_squared_error(ytest, ypred, squared=False), 2)\n",
    "rmse"
   ]
  },
  {
   "cell_type": "markdown",
   "metadata": {},
   "source": [
    "#### Testing on held-out data"
   ]
  },
  {
   "cell_type": "code",
   "execution_count": 26,
   "metadata": {},
   "outputs": [
    {
     "data": {
      "text/html": [
       "<div>\n",
       "<style scoped>\n",
       "    .dataframe tbody tr th:only-of-type {\n",
       "        vertical-align: middle;\n",
       "    }\n",
       "\n",
       "    .dataframe tbody tr th {\n",
       "        vertical-align: top;\n",
       "    }\n",
       "\n",
       "    .dataframe thead th {\n",
       "        text-align: right;\n",
       "    }\n",
       "</style>\n",
       "<table border=\"1\" class=\"dataframe\">\n",
       "  <thead>\n",
       "    <tr style=\"text-align: right;\">\n",
       "      <th></th>\n",
       "      <th>pm2_5</th>\n",
       "      <th>pm10</th>\n",
       "      <th>s2_pm2_5</th>\n",
       "      <th>s2_pm10</th>\n",
       "      <th>humidity</th>\n",
       "      <th>temp</th>\n",
       "      <th>lat</th>\n",
       "      <th>long</th>\n",
       "      <th>altitude</th>\n",
       "      <th>greenness</th>\n",
       "      <th>landform_270m</th>\n",
       "      <th>population</th>\n",
       "      <th>hour_of_day</th>\n",
       "    </tr>\n",
       "  </thead>\n",
       "  <tbody>\n",
       "    <tr>\n",
       "      <th>0</th>\n",
       "      <td>9.903636</td>\n",
       "      <td>10.259545</td>\n",
       "      <td>74.088667</td>\n",
       "      <td>83.767111</td>\n",
       "      <td>0.748000</td>\n",
       "      <td>26.491667</td>\n",
       "      <td>0.299255</td>\n",
       "      <td>32.592686</td>\n",
       "      <td>1199</td>\n",
       "      <td>4374</td>\n",
       "      <td>14</td>\n",
       "      <td>6834</td>\n",
       "      <td>12</td>\n",
       "    </tr>\n",
       "    <tr>\n",
       "      <th>1</th>\n",
       "      <td>38.428333</td>\n",
       "      <td>45.940714</td>\n",
       "      <td>86.993256</td>\n",
       "      <td>107.929767</td>\n",
       "      <td>0.995000</td>\n",
       "      <td>18.225000</td>\n",
       "      <td>0.299255</td>\n",
       "      <td>32.592686</td>\n",
       "      <td>1199</td>\n",
       "      <td>4374</td>\n",
       "      <td>14</td>\n",
       "      <td>6834</td>\n",
       "      <td>6</td>\n",
       "    </tr>\n",
       "    <tr>\n",
       "      <th>2</th>\n",
       "      <td>13.278000</td>\n",
       "      <td>14.967333</td>\n",
       "      <td>13.278000</td>\n",
       "      <td>14.967333</td>\n",
       "      <td>0.687500</td>\n",
       "      <td>24.891667</td>\n",
       "      <td>0.299255</td>\n",
       "      <td>32.592686</td>\n",
       "      <td>1199</td>\n",
       "      <td>4374</td>\n",
       "      <td>14</td>\n",
       "      <td>6834</td>\n",
       "      <td>17</td>\n",
       "    </tr>\n",
       "    <tr>\n",
       "      <th>3</th>\n",
       "      <td>36.304000</td>\n",
       "      <td>40.366750</td>\n",
       "      <td>23.406667</td>\n",
       "      <td>27.316429</td>\n",
       "      <td>0.868417</td>\n",
       "      <td>22.616667</td>\n",
       "      <td>0.299255</td>\n",
       "      <td>32.592686</td>\n",
       "      <td>1199</td>\n",
       "      <td>4374</td>\n",
       "      <td>14</td>\n",
       "      <td>6834</td>\n",
       "      <td>9</td>\n",
       "    </tr>\n",
       "    <tr>\n",
       "      <th>4</th>\n",
       "      <td>56.686410</td>\n",
       "      <td>67.412308</td>\n",
       "      <td>46.195143</td>\n",
       "      <td>60.075714</td>\n",
       "      <td>0.782083</td>\n",
       "      <td>23.350000</td>\n",
       "      <td>0.299255</td>\n",
       "      <td>32.592686</td>\n",
       "      <td>1199</td>\n",
       "      <td>4374</td>\n",
       "      <td>14</td>\n",
       "      <td>6834</td>\n",
       "      <td>19</td>\n",
       "    </tr>\n",
       "  </tbody>\n",
       "</table>\n",
       "</div>"
      ],
      "text/plain": [
       "       pm2_5       pm10   s2_pm2_5     s2_pm10  humidity       temp       lat  \\\n",
       "0   9.903636  10.259545  74.088667   83.767111  0.748000  26.491667  0.299255   \n",
       "1  38.428333  45.940714  86.993256  107.929767  0.995000  18.225000  0.299255   \n",
       "2  13.278000  14.967333  13.278000   14.967333  0.687500  24.891667  0.299255   \n",
       "3  36.304000  40.366750  23.406667   27.316429  0.868417  22.616667  0.299255   \n",
       "4  56.686410  67.412308  46.195143   60.075714  0.782083  23.350000  0.299255   \n",
       "\n",
       "        long  altitude  greenness  landform_270m  population  hour_of_day  \n",
       "0  32.592686      1199       4374             14        6834           12  \n",
       "1  32.592686      1199       4374             14        6834            6  \n",
       "2  32.592686      1199       4374             14        6834           17  \n",
       "3  32.592686      1199       4374             14        6834            9  \n",
       "4  32.592686      1199       4374             14        6834           19  "
      ]
     },
     "execution_count": 26,
     "metadata": {},
     "output_type": "execute_result"
    }
   ],
   "source": [
    "Xactual = pd.read_csv('../input/test_set.csv')\n",
    "Xactual = preprocessing_own(Xactual)\n",
    "Xactual.head()"
   ]
  },
  {
   "cell_type": "code",
   "execution_count": 27,
   "metadata": {},
   "outputs": [
    {
     "data": {
      "text/html": [
       "<div>\n",
       "<style scoped>\n",
       "    .dataframe tbody tr th:only-of-type {\n",
       "        vertical-align: middle;\n",
       "    }\n",
       "\n",
       "    .dataframe tbody tr th {\n",
       "        vertical-align: top;\n",
       "    }\n",
       "\n",
       "    .dataframe thead th {\n",
       "        text-align: right;\n",
       "    }\n",
       "</style>\n",
       "<table border=\"1\" class=\"dataframe\">\n",
       "  <thead>\n",
       "    <tr style=\"text-align: right;\">\n",
       "      <th></th>\n",
       "      <th>ref_pm2_5</th>\n",
       "    </tr>\n",
       "  </thead>\n",
       "  <tbody>\n",
       "    <tr>\n",
       "      <th>0</th>\n",
       "      <td>30.0</td>\n",
       "    </tr>\n",
       "    <tr>\n",
       "      <th>1</th>\n",
       "      <td>44.0</td>\n",
       "    </tr>\n",
       "    <tr>\n",
       "      <th>2</th>\n",
       "      <td>27.0</td>\n",
       "    </tr>\n",
       "    <tr>\n",
       "      <th>3</th>\n",
       "      <td>48.0</td>\n",
       "    </tr>\n",
       "    <tr>\n",
       "      <th>4</th>\n",
       "      <td>57.0</td>\n",
       "    </tr>\n",
       "  </tbody>\n",
       "</table>\n",
       "</div>"
      ],
      "text/plain": [
       "   ref_pm2_5\n",
       "0       30.0\n",
       "1       44.0\n",
       "2       27.0\n",
       "3       48.0\n",
       "4       57.0"
      ]
     },
     "execution_count": 27,
     "metadata": {},
     "output_type": "execute_result"
    }
   ],
   "source": [
    "yactual = pd.read_csv('../input/test_solution.csv')\n",
    "yactual.head()"
   ]
  },
  {
   "cell_type": "code",
   "execution_count": 28,
   "metadata": {},
   "outputs": [
    {
     "data": {
      "text/plain": [
       "20.51"
      ]
     },
     "execution_count": 28,
     "metadata": {},
     "output_type": "execute_result"
    }
   ],
   "source": [
    "ypred = rfr.predict(Xactual)\n",
    "rmse = round(mean_squared_error(yactual, ypred, squared=False), 2)\n",
    "rmse"
   ]
  },
  {
   "cell_type": "code",
   "execution_count": 30,
   "metadata": {},
   "outputs": [
    {
     "data": {
      "text/plain": [
       "((2733, 1), (2733,))"
      ]
     },
     "execution_count": 30,
     "metadata": {},
     "output_type": "execute_result"
    }
   ],
   "source": [
    "yactual.shape, ypred.shape"
   ]
  },
  {
   "cell_type": "code",
   "execution_count": 34,
   "metadata": {},
   "outputs": [
    {
     "data": {
      "text/plain": [
       "(2733, 1)"
      ]
     },
     "execution_count": 34,
     "metadata": {},
     "output_type": "execute_result"
    }
   ],
   "source": [
    "ypred= ypred.reshape(2733, 1)\n",
    "ypred.shape"
   ]
  },
  {
   "cell_type": "code",
   "execution_count": 36,
   "metadata": {},
   "outputs": [
    {
     "data": {
      "text/plain": [
       "Text(0, 0.5, 'Predictions ')"
      ]
     },
     "execution_count": 36,
     "metadata": {},
     "output_type": "execute_result"
    },
    {
     "data": {
      "image/png": "[encoded data removed]",
      "text/plain": [
       "<Figure size 432x288 with 1 Axes>"
      ]
     },
     "metadata": {
      "needs_background": "light"
     },
     "output_type": "display_data"
    }
   ],
   "source": [
    "g=plt.scatter(yactual, ypred)\n",
    "g.axes.set_xlabel('Actual Values ')\n",
    "g.axes.set_ylabel('Predictions ')"
   ]
  },
  {
   "cell_type": "code",
   "execution_count": null,
   "metadata": {},
   "outputs": [],
   "source": []
  }
 ],
 "metadata": {
  "kernelspec": {
   "display_name": "Python 3",
   "language": "python",
   "name": "python3"
  },
  "language_info": {
   "codemirror_mode": {
    "name": "ipython",
    "version": 3
   },
   "file_extension": ".py",
   "mimetype": "text/x-python",
   "name": "python",
   "nbconvert_exporter": "python",
   "pygments_lexer": "ipython3",
   "version": "3.7.4"
  }
 },
 "nbformat": 4,
 "nbformat_minor": 4
}
